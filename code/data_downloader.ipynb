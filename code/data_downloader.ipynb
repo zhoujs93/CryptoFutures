{
 "cells": [
  {
   "cell_type": "code",
   "execution_count": 1,
   "metadata": {
    "collapsed": true
   },
   "outputs": [],
   "source": [
    "from binance_historical_data import BinanceDataDumper\n",
    "import pandas as pd\n",
    "import pathlib\n",
    "from tqdm import tqdm\n"
   ]
  },
  {
   "cell_type": "code",
   "execution_count": 2,
   "outputs": [
    {
     "name": "stdout",
     "output_type": "stream",
     "text": [
      "---> Found overall tickers: 2381\n",
      "---> Filter to asked tickers: 1\n",
      "------> Tickers left: 1\n",
      "Download full data for 1 tickers: \n",
      "---> Data will be saved here: /Users/johnz/Library/CloudStorage/GoogleDrive-john23@berkeley.edu/My Drive/CryptoFutures/data/spot\n",
      "---> Data Frequency: 5m\n",
      "---> Start Date: 20170101\n",
      "---> End Date: 20231205\n"
     ]
    },
    {
     "data": {
      "text/plain": "Tickers:   0%|          | 0/1 [00:00<?, ?it/s]",
      "application/vnd.jupyter.widget-view+json": {
       "version_major": 2,
       "version_minor": 0,
       "model_id": "494d6fbff3cb40e990bfcc607fdc646b"
      }
     },
     "metadata": {},
     "output_type": "display_data"
    },
    {
     "data": {
      "text/plain": "monthly files to download:   0%|          | 0/76 [00:00<?, ?files/s]",
      "application/vnd.jupyter.widget-view+json": {
       "version_major": 2,
       "version_minor": 0,
       "model_id": "2aa0c6692bf441789fbf297d59a2402c"
      }
     },
     "metadata": {},
     "output_type": "display_data"
    },
    {
     "data": {
      "text/plain": "daily files to download:   0%|          | 0/4 [00:00<?, ?files/s]",
      "application/vnd.jupyter.widget-view+json": {
       "version_major": 2,
       "version_minor": 0,
       "model_id": "aa5241f800ae475a8987df0f4496609d"
      }
     },
     "metadata": {},
     "output_type": "display_data"
    },
    {
     "name": "stdout",
     "output_type": "stream",
     "text": [
      "Tried to dump data for 1 tickers:\n",
      "---> For BTCUSDT new data saved for: 76 months 4 days\n"
     ]
    }
   ],
   "source": [
    "data_dumper = BinanceDataDumper(\n",
    "    path_dir_where_to_dump = '../data/',\n",
    "    asset_class = 'spot',\n",
    "    data_type = 'klines',\n",
    "    data_frequency = '5m'\n",
    ")\n",
    "x = data_dumper.dump_data(\n",
    "    tickers = ['BTCUSDT'],\n",
    "    date_start = None,\n",
    "    date_end = None,\n",
    "    is_to_update_existing = True,\n",
    "    # tickers_to_exclude = [\"UST\"]\n",
    ")"
   ],
   "metadata": {
    "collapsed": false,
    "pycharm": {
     "name": "#%%\n"
    }
   }
  },
  {
   "cell_type": "code",
   "execution_count": 3,
   "outputs": [],
   "source": [
    "def process_klines_data(columns, token_lists, time: str):\n",
    "    \"\"\"\n",
    "    futures\n",
    "    :param columns: for data columns\n",
    "    :param token_lists: tokens to get data for\n",
    "    :return:\n",
    "    \"\"\"\n",
    "    path = pathlib.Path.cwd().parent / 'data' / \"futures\" / 'um' / 'monthly' / 'klines'\n",
    "    for token in token_lists:\n",
    "        try:\n",
    "            files = path / token / f'{time}'\n",
    "            csv_files = files.glob('*.csv')\n",
    "            dfs = []\n",
    "            for file in csv_files:\n",
    "                df = pd.read_csv(file, index_col=None, names=columns)\n",
    "                idx = df.index[df['open_time'] != 'open_time']\n",
    "                df = df.loc[idx].reset_index(drop=True)\n",
    "                for col in columns:\n",
    "                    df[col] = df[col].astype(float)\n",
    "                dfs.append(df)\n",
    "            df_all = pd.concat(dfs, axis=0, ignore_index=True)\n",
    "        except Exception as e:\n",
    "            print(f'Error for {token}: {e}')\n",
    "    return df_all"
   ],
   "metadata": {
    "collapsed": false,
    "pycharm": {
     "name": "#%%\n"
    }
   }
  },
  {
   "cell_type": "code",
   "execution_count": 6,
   "outputs": [],
   "source": [
    "def process_klines_data_spot(columns, token : str, time: str):\n",
    "    \"\"\"\n",
    "    futures\n",
    "    :param columns: for data columns\n",
    "    :param token: single token to get data for (ie: BTCUSDT)\n",
    "    :return:\n",
    "    \"\"\"\n",
    "    monthly_path = pathlib.Path.cwd().parent / 'data' / \"spot\" / 'monthly' / 'klines'\n",
    "    daily_path = pathlib.Path.cwd().parent / 'data' / \"spot\" / 'daily' / 'klines'\n",
    "    all_paths = [monthly_path, daily_path]\n",
    "    # for token in token_lists:\n",
    "    df_final = []\n",
    "    for path in all_paths:\n",
    "            try:\n",
    "                files = path / token / f'{time}'\n",
    "                csv_files = files.glob('*.csv')\n",
    "                dfs = []\n",
    "                for file in tqdm(csv_files):\n",
    "                    df = pd.read_csv(file, index_col=None, names=columns)\n",
    "                    idx = df.index[df['open_time'] == 'open_time']\n",
    "                    if idx.shape[0] > 0:\n",
    "                        print(f'Number of incorrect rows: {idx.shape} for {file}')\n",
    "                    # df = df.loc[idx].reset_index(drop=True)\n",
    "                    for col in columns:\n",
    "                        df[col] = df[col].astype(float)\n",
    "                    dfs.append(df)\n",
    "                df_all = pd.concat(dfs, axis=0, ignore_index=True)\n",
    "                df_final.append(df_all)\n",
    "            except Exception as e:\n",
    "                print(f'Error for {token}: {e}')\n",
    "    df_final = pd.concat(df_final, axis = 0)\n",
    "    df_final = df_final.drop_duplicates(subset = ['open_time'])\n",
    "    return df_final"
   ],
   "metadata": {
    "collapsed": false,
    "pycharm": {
     "name": "#%%\n"
    }
   }
  },
  {
   "cell_type": "code",
   "execution_count": 7,
   "outputs": [],
   "source": [
    "# columns = ['open_time', 'open', 'high', 'low', 'close', 'volume',\n",
    "#            'close_time', 'quote_asset_volume', 'number_of_trades',\n",
    "#            'taker_buy_base_volume', 'taker_buy_quote_asset_volume', 'ignore']\n",
    "#\n",
    "# df_all = process_klines_data_spot(columns, 'BTCUSDT')"
   ],
   "metadata": {
    "collapsed": false,
    "pycharm": {
     "name": "#%%\n"
    }
   }
  },
  {
   "cell_type": "code",
   "execution_count": 8,
   "outputs": [],
   "source": [
    "from ta import add_all_ta_features\n",
    "def load_klines_data(universe, columns, save = True, time = '1m'):\n",
    "    dfs = {}\n",
    "    sample = {}\n",
    "    for token in tqdm(universe):\n",
    "        df = process_klines_data_spot(columns, token, time)\n",
    "        df['open_time'] = pd.to_datetime(df['open_time'], unit = 'ms')\n",
    "        df['close_time'] = pd.to_datetime(df['close_time'], unit = 'ms')\n",
    "        df['token'] = token\n",
    "        df = df.sort_values(by = 'open_time', ignore_index = True)\n",
    "        df = add_all_ta_features(df, open = 'open', high = 'high', low = 'low',\n",
    "                                 close = 'close', volume = 'volume', fillna = True)\n",
    "        if save:\n",
    "            df.to_feather(f'../data/processed_data/{token}_{time}_spot.feather')\n",
    "        dfs[token] = df\n",
    "    return dfs"
   ],
   "metadata": {
    "collapsed": false,
    "pycharm": {
     "name": "#%%\n"
    }
   }
  },
  {
   "cell_type": "code",
   "execution_count": 9,
   "outputs": [],
   "source": [
    "import pandas as pd\n",
    "import pathlib\n",
    "import numpy as np\n",
    "# from factor_util import *\n",
    "import pandas as pd\n",
    "import pathlib\n",
    "# from factor_util import *\n",
    "from joblib import dump, load\n",
    "import bittensor as bt\n",
    "\n",
    "def hullMA(x, n = 50):\n",
    "    sma1 = x.rolling(n,  min_periods = 1).mean()\n",
    "    sma2 = x.rolling(int(n/2),  min_periods = 1).mean()\n",
    "    out = (2 * sma1 - sma2).rolling(int(np.sqrt(n)), min_periods = 1).mean()\n",
    "    return x - out\n",
    "\n",
    "def calculate_corr(df, ta_features = None, columns = None, groupby = True):\n",
    "    if ta_features is None:\n",
    "        skip_features = ['returns_5m', 'open_time', 'close_time', 'target_15m', 'ignore', 'token']\n",
    "        features = [x for x in df.columns if x not in skip_features]\n",
    "        ta_features = [x for x in df.columns if x not in skip_features and x not in columns]\n",
    "    if groupby:\n",
    "        tgt_corr = df.groupby(['token'])[ta_features + ['target_15m']].corr()\n",
    "    else:\n",
    "        tgt_corr = df[ta_features + ['target_15m']].corr()\n",
    "    return tgt_corr\n",
    "\n",
    "def calculate_vol_price_corr(df, windows = [5, 15, 30, 60, 120]):\n",
    "    for window in windows:\n",
    "        df[f'vol_price_corr_{window}'] = df['close'].rolling(window, min_periods = 1).corr(df['volume'])\n",
    "    return df\n",
    "\n",
    "def get_cols_for_corr(df, str_idx):\n",
    "    return df.columns[df.columns.str.startswith(str_idx)].tolist()\n",
    "\n",
    "def transform_time(df):\n",
    "    day = 24 * 60\n",
    "    hour_float = df['open_time'].dt.hour + df['open_time'].dt.minute/60\n",
    "    df['sin_hour'] = np.sin(2.0 * np.pi * hour_float/24)\n",
    "    df['cos_hour'] = np.cos(2.0 * np.pi * hour_float/24)\n",
    "    df['Day_sin'] = np.sin(df['open_time'].dt.day * (2 * np.pi / 31))\n",
    "    df['Day_cos'] = np.cos(df['open_time'].dt.day * (2 * np.pi / 31))\n",
    "    df['month_sin'] = np.sin(df['open_time'].dt.month * (2 * np.pi / 12))\n",
    "    df['month_cos'] = np.cos(df['open_time'].dt.month * (2 * np.pi / 12))\n",
    "    return df\n",
    "\n",
    "def calc_sma_diff_test(close, timeperiod_short, timeperiod_long):\n",
    "    res_short = close.rolling(window = timeperiod_short, min_periods = 1).mean()\n",
    "    res_long = close.rolling(window = timeperiod_long, min_periods = 1).mean()\n",
    "    res = (res_long - res_short) / res_long\n",
    "    return res\n",
    "\n",
    "def load_metrics_data(ticker):\n",
    "    df_metrics = pd.read_feather(f'../data/processed_metrics/{ticker}_1m.feather')\n",
    "    df_metrics['create_time'] = pd.to_datetime(df_metrics['create_time'], format = 'mixed')\n",
    "    return df_metrics\n",
    "\n",
    "def gen_cross_features(x, lag = 60):\n",
    "    \"\"\"\n",
    "    calculate cross features with other assets if any\n",
    "    :param x:\n",
    "    :param lag:\n",
    "    :return:\n",
    "    \"\"\"\n",
    "    lag_arr = np.ones(lag)\n",
    "    conv_arr = np.convolve(x, lag_arr / lag, mode = 'valid')\n",
    "    app_arr = np.append(conv_arr, np.ones(lag - 1))\n",
    "    roll_arr = np.roll(app_arr, lag - 1)\n",
    "    div_arr = np.log(x / roll_arr)\n",
    "    return div_arr\n",
    "\n",
    "def log_return_np(x):\n",
    "    return np.log(x / x.shift(60)).fillna(0)\n",
    "\n",
    "\n",
    "def generate_features(df, time : int):\n",
    "    directory = '../data/processed_data/'\n",
    "\n",
    "    # df = pd.concat([df_btc, df_eth], axis = 0, ignore_index = True)\n",
    "    df = df.sort_values(by = ['open_time'], ignore_index = True)\n",
    "    # calculate next 15min returns (ie: current open_time is 2020-01-01 00:00:00,\n",
    "    # then return is from 2020-01-01 00:01:00 - 2020-01-01 00:16:00\n",
    "\n",
    "    # bt.logging.debug(f'Computing sma')\n",
    "    times = [(10, '10m'), (15, '15m'), (30, '30m'), (60, '60m'), (120, '120m'),\n",
    "         (240, '240m'), (480, '480m'), (720, '720m'), (1440, '1440m'),\n",
    "         (2880, '2880m')]\n",
    "    # bt.logging.debug(f'Computing sma')\n",
    "    lags = [60]\n",
    "    for lag in lags:\n",
    "        df[f'log_close/mean_{lag}'] = gen_cross_features(df['close'], lag=lag)\n",
    "        df[f'log_return_{lag}'] = log_return_np(df['close'])\n",
    "    df['mid_diff'] = (df['close'] - df['open']) / ((df['high'] - df['low']) + 0.001)\n",
    "\n",
    "    sma_lags = [5, 15, 30, 60, 120, 240, 800]\n",
    "    for sma_lag in sma_lags:\n",
    "        df[f'sma{sma_lag}'] = (df['close'].rolling(sma_lag, min_periods=1).mean())\n",
    "        df[f'sma{sma_lag}'] = (df[f'sma{sma_lag}'] / df['close']) - 1\n",
    "        df[f'return{sma_lag}'] = df['close'].pct_change(sma_lag)\n",
    "        df[f'volume_change_{sma_lag}'] = df['volume'].pct_change(sma_lag)\n",
    "\n",
    "    hull_lags = [76, 240, 800]\n",
    "    for hull_lag in hull_lags:\n",
    "        df[f'hull_{hull_lag}'] = hullMA(df['close'], hull_lag)\n",
    "\n",
    "    fibo_list = [55, 210, 340, 890, 3750]\n",
    "    for num in fibo_list:\n",
    "        df[f'log_return_{num}'] = np.log(df['close']).diff().rolling(num, min_periods=1).mean().ffill().bfill()\n",
    "\n",
    "    df = transform_time(df)\n",
    "    sma_diff_windows = [(12, 26), (12*4*4, 24*4*4), (12*4*4*4, 24*4*4*4), (12*4*4*4*4, 24*4*4*4*4), (12*4*4*4*4*4, 24*4*4*4*4*4)]\n",
    "\n",
    "    for short_win, long_win in sma_diff_windows:\n",
    "        df[f'sma_diff_{short_win}'] = calc_sma_diff_test(df['close'], int(short_win), int(long_win))\n",
    "\n",
    "    df[f'sma_diff_vol_{12 * 4 * 4}'] = calc_sma_diff_test(df['volume'], 12 * 4 * 4, 24 * 4 * 4)\n",
    "\n",
    "    return df\n",
    "\n",
    "def generate_features_new(df, time : int):\n",
    "    directory = '../data/processed_data/'\n",
    "\n",
    "    # df = pd.concat([df_btc, df_eth], axis = 0, ignore_index = True)\n",
    "    df = df.sort_values(by = ['open_time'], ignore_index = True)\n",
    "    # calculate next 15min returns (ie: current open_time is 2020-01-01 00:00:00,\n",
    "    # then return is from 2020-01-01 00:01:00 - 2020-01-01 00:16:00\n",
    "\n",
    "    # bt.logging.debug(f'Computing sma')\n",
    "    times = [(10, '10m'), (15, '15m'), (30, '30m'), (60, '60m'), (120, '120m'),\n",
    "         (240, '240m'), (480, '480m'), (720, '720m'), (1440, '1440m'),\n",
    "         (2880, '2880m')]\n",
    "    # bt.logging.debug(f'Computing sma')\n",
    "    lags = [(x // time, y) for x, y in times]\n",
    "    for lag, label in lags:\n",
    "        df[f'log_close/mean_{lag}'] = gen_cross_features(df['close'], lag=lag)\n",
    "        df[f'log_return_{lag}'] = log_return_np(df['close'])\n",
    "    df['mid_diff'] = (df['close'] - df['open']) / ((df['high'] - df['low']) + 0.001)\n",
    "\n",
    "    for sma_lag, label in lags:\n",
    "        df[f'sma{sma_lag}'] = (df['close'].rolling(sma_lag, min_periods=1).mean())\n",
    "        df[f'sma{sma_lag}'] = (df[f'sma{sma_lag}'] / df['close']) - 1\n",
    "        df[f'return{sma_lag}'] = df['close'].pct_change(sma_lag)\n",
    "        df[f'volume_change_{sma_lag}'] = df['volume'].pct_change(sma_lag)\n",
    "\n",
    "    for hull_lag, label in lags:\n",
    "        df[f'hull_{hull_lag}'] = hullMA(df['close'], hull_lag)\n",
    "\n",
    "    for num, label in lags:\n",
    "        df[f'log_return_{num}'] = np.log(df['close']).diff().rolling(num, min_periods=1).mean().ffill().bfill()\n",
    "\n",
    "    df = transform_time(df)\n",
    "    sma_diff_windows = [(12, 26), (12*4*4, 24*4*4), (12*4*4*4, 24*4*4*4), (12*4*4*4*4, 24*4*4*4*4), (12*4*4*4*4*4, 24*4*4*4*4*4)]\n",
    "\n",
    "    for short_win, long_win in sma_diff_windows:\n",
    "        df[f'sma_diff_{short_win}'] = calc_sma_diff_test(df['close'], int(short_win), int(long_win))\n",
    "\n",
    "    df[f'sma_diff_vol_{12 * 4 * 4}'] = calc_sma_diff_test(df['volume'], 12 * 4 * 4, 24 * 4 * 4)\n",
    "\n",
    "    return df\n"
   ],
   "metadata": {
    "collapsed": false,
    "pycharm": {
     "name": "#%%\n"
    }
   }
  },
  {
   "cell_type": "code",
   "execution_count": 10,
   "outputs": [
    {
     "name": "stderr",
     "output_type": "stream",
     "text": [
      "  0%|          | 0/1 [00:00<?, ?it/s]\n",
      "0it [00:00, ?it/s]\u001B[A\n",
      "4it [00:00, 33.84it/s]\u001B[A\n",
      "9it [00:00, 40.22it/s]\u001B[A\n",
      "14it [00:00, 44.28it/s]\u001B[A\n",
      "19it [00:00, 44.47it/s]\u001B[A\n",
      "25it [00:00, 46.89it/s]\u001B[A\n",
      "30it [00:00, 47.37it/s]\u001B[A\n",
      "35it [00:00, 44.32it/s]\u001B[A\n",
      "40it [00:00, 40.09it/s]\u001B[A\n",
      "45it [00:01, 41.94it/s]\u001B[A\n",
      "51it [00:01, 44.85it/s]\u001B[A\n",
      "57it [00:01, 46.65it/s]\u001B[A\n",
      "62it [00:01, 47.03it/s]\u001B[A\n",
      "68it [00:01, 49.10it/s]\u001B[A\n",
      "76it [00:01, 46.09it/s]\u001B[A\n",
      "\n",
      "0it [00:00, ?it/s]\u001B[A\n",
      "33it [00:00, 174.93it/s]\u001B[A\n",
      "100%|██████████| 1/1 [02:49<00:00, 169.35s/it]\n"
     ]
    }
   ],
   "source": [
    "universe = ['BTCUSDT']\n",
    "columns_futures = ['open_time', 'open', 'high', 'low', 'close', 'volume',\n",
    "           'close_time', 'quote_asset_volume', 'number_of_trades',\n",
    "           'taker_buy_base_asset_volume', 'taker_buy_quote_asset_volume',\n",
    "           'ignore']\n",
    "\n",
    "columns_spot = ['open_time', 'open', 'high', 'low', 'close', 'volume',\n",
    "           'close_time', 'quote_asset_volume', 'number_of_trades',\n",
    "           'taker_buy_base_volume', 'taker_buy_quote_asset_volume', 'ignore']\n",
    "\n",
    "path = pathlib.Path.cwd().parent / 'data' / 'processed_futures'\n",
    "dfs = load_klines_data(universe, columns_spot, time = '5m', save = False)"
   ],
   "metadata": {
    "collapsed": false,
    "pycharm": {
     "name": "#%%\n"
    }
   }
  },
  {
   "cell_type": "code",
   "execution_count": 13,
   "outputs": [],
   "source": [
    "df_spot = dfs['BTCUSDT'].copy()"
   ],
   "metadata": {
    "collapsed": false,
    "pycharm": {
     "name": "#%%\n"
    }
   }
  },
  {
   "cell_type": "code",
   "execution_count": 14,
   "outputs": [],
   "source": [
    "df_feature = generate_features(df_spot, time = 5)"
   ],
   "metadata": {
    "collapsed": false,
    "pycharm": {
     "name": "#%%\n"
    }
   }
  },
  {
   "cell_type": "code",
   "execution_count": 15,
   "outputs": [],
   "source": [
    "features_to_remove = ['open_time', 'open', 'high', 'low', 'close', 'volume', 'close_time',\n",
    "                      'quote_asset_volume', 'ignore', 'taker_buy_base_volume', 'taker_buy_quote_asset_volume',\n",
    "                      'token']"
   ],
   "metadata": {
    "collapsed": false,
    "pycharm": {
     "name": "#%%\n"
    }
   }
  },
  {
   "cell_type": "code",
   "execution_count": 16,
   "outputs": [],
   "source": [
    "features = [x for x in df_feature.columns if x not in features_to_remove]"
   ],
   "metadata": {
    "collapsed": false,
    "pycharm": {
     "name": "#%%\n"
    }
   }
  },
  {
   "cell_type": "code",
   "execution_count": null,
   "outputs": [],
   "source": [
    "corrs = {}\n",
    "freq = [(10, '10m'), (15, '15m'), (30, '30m'), (60, '60m'), (120, '120m'),\n",
    "         (240, '240m'), (480, '480m')]\n",
    "for time, label in tqdm(freq):\n",
    "    df_feature[f'target_{label}'] = df_feature['close'].pct_change(-1)\n",
    "    corr = df_feature[features + [f'target_{label}']].corr()[f'target_{label}']\n",
    "    df_feature = df_feature.drop([f'target_{label}'], axis = 1)\n",
    "    corrs[label] = corr.copy()\n",
    "\n",
    "for k, v in corrs.items():\n",
    "    v.to_csv(f'../output/feature_corr/{k}_corr.csv')\n",
    "\n",
    "corrs_all = pd.concat(list(corrs.values()), axis = 1)\n",
    "labels = [f'target_{x[1]}' for x in freq]\n",
    "keep_idx = [x for x in corrs_all.index if x not in labels]\n",
    "mean_corr = corrs_all.mean(axis = 1).abs().loc[keep_idx].sort_values(ascending = False)\n",
    "mean_corr.to_csv('../output/feature_corr/mean_corr.csv')"
   ],
   "metadata": {
    "collapsed": false,
    "pycharm": {
     "name": "#%%\n",
     "is_executing": true
    }
   }
  },
  {
   "cell_type": "markdown",
   "source": [],
   "metadata": {
    "collapsed": false
   }
  },
  {
   "cell_type": "code",
   "execution_count": 17,
   "outputs": [
    {
     "name": "stderr",
     "output_type": "stream",
     "text": [
      "/Users/johnz/anaconda3/envs/python310/lib/python3.10/site-packages/pyarrow/pandas_compat.py:373: FutureWarning: is_sparse is deprecated and will be removed in a future version. Check `isinstance(dtype, pd.SparseDtype)` instead.\n",
      "  if _pandas_api.is_sparse(col):\n"
     ]
    }
   ],
   "source": [
    "df_feature.to_feather('../data/df_btc_with_features_5m_spot.feather')"
   ],
   "metadata": {
    "collapsed": false,
    "pycharm": {
     "name": "#%%\n"
    }
   }
  },
  {
   "cell_type": "markdown",
   "source": [
    "# New Feature Generation"
   ],
   "metadata": {
    "collapsed": false,
    "pycharm": {
     "name": "#%% md\n"
    }
   }
  },
  {
   "cell_type": "code",
   "execution_count": 7,
   "outputs": [
    {
     "name": "stderr",
     "output_type": "stream",
     "text": [
      "  0%|          | 0/1 [00:00<?, ?it/s]\n",
      "0it [00:00, ?it/s]\u001B[A\n",
      "5it [00:00, 49.90it/s]\u001B[A\n",
      "11it [00:00, 53.43it/s]\u001B[A\n",
      "17it [00:00, 54.70it/s]\u001B[A\n",
      "23it [00:00, 56.69it/s]\u001B[A\n",
      "29it [00:00, 57.31it/s]\u001B[A\n",
      "35it [00:00, 57.90it/s]\u001B[A\n",
      "41it [00:00, 58.19it/s]\u001B[A\n",
      "48it [00:00, 60.56it/s]\u001B[A\n",
      "55it [00:00, 59.91it/s]\u001B[A\n",
      "61it [00:01, 59.67it/s]\u001B[A\n",
      "67it [00:01, 58.36it/s]\u001B[A\n",
      "75it [00:01, 58.19it/s]\u001B[A\n"
     ]
    },
    {
     "name": "stdout",
     "output_type": "stream",
     "text": [
      "75\n"
     ]
    },
    {
     "name": "stderr",
     "output_type": "stream",
     "text": [
      "\n",
      "0it [00:00, ?it/s]\u001B[A\n",
      "29it [00:00, 189.19it/s]\u001B[A\n"
     ]
    },
    {
     "name": "stdout",
     "output_type": "stream",
     "text": [
      "29\n"
     ]
    },
    {
     "name": "stderr",
     "output_type": "stream",
     "text": [
      "/Users/johnz/anaconda3/envs/python310/lib/python3.10/site-packages/pyarrow/pandas_compat.py:373: FutureWarning: is_sparse is deprecated and will be removed in a future version. Check `isinstance(dtype, pd.SparseDtype)` instead.\n",
      "  if _pandas_api.is_sparse(col):\n",
      "100%|██████████| 1/1 [02:30<00:00, 150.06s/it]\n"
     ]
    }
   ],
   "source": [
    "universe = ['BTCUSDT']\n",
    "columns_futures = ['open_time', 'open', 'high', 'low', 'close', 'volume',\n",
    "           'close_time', 'quote_asset_volume', 'number_of_trades',\n",
    "           'taker_buy_base_asset_volume', 'taker_buy_quote_asset_volume',\n",
    "           'ignore']\n",
    "\n",
    "columns_spot = ['open_time', 'open', 'high', 'low', 'close', 'volume',\n",
    "           'close_time', 'quote_asset_volume', 'number_of_trades',\n",
    "           'taker_buy_base_volume', 'taker_buy_quote_asset_volume', 'ignore']\n",
    "\n",
    "path = pathlib.Path.cwd().parent / 'data' / 'processed_futures'\n",
    "dfs = load_klines_data(universe, columns_spot, time = '5m')"
   ],
   "metadata": {
    "collapsed": false,
    "pycharm": {
     "name": "#%%\n"
    }
   }
  },
  {
   "cell_type": "code",
   "execution_count": 18,
   "outputs": [],
   "source": [
    "df_spot = dfs['BTCUSDT'].copy()"
   ],
   "metadata": {
    "collapsed": false,
    "pycharm": {
     "name": "#%%\n"
    }
   }
  },
  {
   "cell_type": "code",
   "execution_count": 19,
   "outputs": [],
   "source": [
    "df_feature = generate_features_new(df_spot, time = 5)"
   ],
   "metadata": {
    "collapsed": false,
    "pycharm": {
     "name": "#%%\n"
    }
   }
  },
  {
   "cell_type": "code",
   "execution_count": 20,
   "outputs": [],
   "source": [
    "features_to_remove = ['open_time', 'open', 'high', 'low', 'close', 'volume', 'close_time',\n",
    "                      'quote_asset_volume', 'ignore', 'taker_buy_base_volume', 'taker_buy_quote_asset_volume',\n",
    "                      'token']\n",
    "features = [x for x in df_feature.columns if x not in features_to_remove]"
   ],
   "metadata": {
    "collapsed": false,
    "pycharm": {
     "name": "#%%\n"
    }
   }
  },
  {
   "cell_type": "code",
   "execution_count": 21,
   "outputs": [
    {
     "name": "stderr",
     "output_type": "stream",
     "text": [
      "  0%|          | 0/7 [00:35<?, ?it/s]\n"
     ]
    },
    {
     "data": {
      "text/plain": "\u001B[31m╭─\u001B[0m\u001B[31m──────────────────────────────\u001B[0m\u001B[31m \u001B[0m\u001B[1;31mTraceback \u001B[0m\u001B[1;2;31m(most recent call last)\u001B[0m\u001B[31m \u001B[0m\u001B[31m───────────────────────────────\u001B[0m\u001B[31m─╮\u001B[0m\n\u001B[31m│\u001B[0m in \u001B[92m<module>\u001B[0m:\u001B[94m7\u001B[0m                                                                                    \u001B[31m│\u001B[0m\n\u001B[31m│\u001B[0m                                                                                                  \u001B[31m│\u001B[0m\n\u001B[31m│\u001B[0m   \u001B[2m 4 \u001B[0m                                                                                            \u001B[31m│\u001B[0m\n\u001B[31m│\u001B[0m   \u001B[2m 5 \u001B[0m\u001B[94mfor\u001B[0m time, label \u001B[95min\u001B[0m tqdm(freq):                                                              \u001B[31m│\u001B[0m\n\u001B[31m│\u001B[0m   \u001B[2m 6 \u001B[0m\u001B[2m│   \u001B[0mdf_feature[\u001B[33mf\u001B[0m\u001B[33m'\u001B[0m\u001B[33mtarget_\u001B[0m\u001B[33m{\u001B[0mlabel\u001B[33m}\u001B[0m\u001B[33m'\u001B[0m] = df_feature[\u001B[33m'\u001B[0m\u001B[33mclose\u001B[0m\u001B[33m'\u001B[0m].pct_change(-\u001B[94m1\u001B[0m)                      \u001B[31m│\u001B[0m\n\u001B[31m│\u001B[0m \u001B[31m❱ \u001B[0m 7 \u001B[2m│   \u001B[0mcorr = df_feature[features + [\u001B[33mf\u001B[0m\u001B[33m'\u001B[0m\u001B[33mtarget_\u001B[0m\u001B[33m{\u001B[0mlabel\u001B[33m}\u001B[0m\u001B[33m'\u001B[0m]].corr()[\u001B[33mf\u001B[0m\u001B[33m'\u001B[0m\u001B[33mtarget_\u001B[0m\u001B[33m{\u001B[0mlabel\u001B[33m}\u001B[0m\u001B[33m'\u001B[0m]             \u001B[31m│\u001B[0m\n\u001B[31m│\u001B[0m   \u001B[2m 8 \u001B[0m\u001B[2m│   \u001B[0mdf_feature = df_feature.drop([\u001B[33mf\u001B[0m\u001B[33m'\u001B[0m\u001B[33mtarget_\u001B[0m\u001B[33m{\u001B[0mlabel\u001B[33m}\u001B[0m\u001B[33m'\u001B[0m], axis = \u001B[94m1\u001B[0m)                             \u001B[31m│\u001B[0m\n\u001B[31m│\u001B[0m   \u001B[2m 9 \u001B[0m\u001B[2m│   \u001B[0mcorrs[label] = corr.copy()                                                              \u001B[31m│\u001B[0m\n\u001B[31m│\u001B[0m   \u001B[2m10 \u001B[0m                                                                                            \u001B[31m│\u001B[0m\n\u001B[31m│\u001B[0m                                                                                                  \u001B[31m│\u001B[0m\n\u001B[31m│\u001B[0m \u001B[2;33m/Users/johnz/anaconda3/envs/python310/lib/python3.10/site-packages/pandas/core/\u001B[0m\u001B[1;33mframe.py\u001B[0m:\u001B[94m10710\u001B[0m in \u001B[31m│\u001B[0m\n\u001B[31m│\u001B[0m \u001B[92mcorr\u001B[0m                                                                                             \u001B[31m│\u001B[0m\n\u001B[31m│\u001B[0m                                                                                                  \u001B[31m│\u001B[0m\n\u001B[31m│\u001B[0m   \u001B[2m10707 \u001B[0m\u001B[2m│   │   \u001B[0mmat = data.to_numpy(dtype=\u001B[96mfloat\u001B[0m, na_value=np.nan, copy=\u001B[94mFalse\u001B[0m)                    \u001B[31m│\u001B[0m\n\u001B[31m│\u001B[0m   \u001B[2m10708 \u001B[0m\u001B[2m│   │   \u001B[0m                                                                                 \u001B[31m│\u001B[0m\n\u001B[31m│\u001B[0m   \u001B[2m10709 \u001B[0m\u001B[2m│   │   \u001B[0m\u001B[94mif\u001B[0m method == \u001B[33m\"\u001B[0m\u001B[33mpearson\u001B[0m\u001B[33m\"\u001B[0m:                                                          \u001B[31m│\u001B[0m\n\u001B[31m│\u001B[0m \u001B[31m❱ \u001B[0m10710 \u001B[2m│   │   │   \u001B[0mcorrel = libalgos.nancorr(mat, minp=min_periods)                             \u001B[31m│\u001B[0m\n\u001B[31m│\u001B[0m   \u001B[2m10711 \u001B[0m\u001B[2m│   │   \u001B[0m\u001B[94melif\u001B[0m method == \u001B[33m\"\u001B[0m\u001B[33mspearman\u001B[0m\u001B[33m\"\u001B[0m:                                                       \u001B[31m│\u001B[0m\n\u001B[31m│\u001B[0m   \u001B[2m10712 \u001B[0m\u001B[2m│   │   │   \u001B[0mcorrel = libalgos.nancorr_spearman(mat, minp=min_periods)                    \u001B[31m│\u001B[0m\n\u001B[31m│\u001B[0m   \u001B[2m10713 \u001B[0m\u001B[2m│   │   \u001B[0m\u001B[94melif\u001B[0m method == \u001B[33m\"\u001B[0m\u001B[33mkendall\u001B[0m\u001B[33m\"\u001B[0m \u001B[95mor\u001B[0m \u001B[96mcallable\u001B[0m(method):                                    \u001B[31m│\u001B[0m\n\u001B[31m╰──────────────────────────────────────────────────────────────────────────────────────────────────╯\u001B[0m\n\u001B[1;91mKeyboardInterrupt\u001B[0m\n",
      "text/html": "<pre style=\"white-space:pre;overflow-x:auto;line-height:normal;font-family:Menlo,'DejaVu Sans Mono',consolas,'Courier New',monospace\"><span style=\"color: #800000; text-decoration-color: #800000\">╭─────────────────────────────── </span><span style=\"color: #800000; text-decoration-color: #800000; font-weight: bold\">Traceback </span><span style=\"color: #bf7f7f; text-decoration-color: #bf7f7f; font-weight: bold\">(most recent call last)</span><span style=\"color: #800000; text-decoration-color: #800000\"> ────────────────────────────────╮</span>\n<span style=\"color: #800000; text-decoration-color: #800000\">│</span> in <span style=\"color: #00ff00; text-decoration-color: #00ff00\">&lt;module&gt;</span>:<span style=\"color: #0000ff; text-decoration-color: #0000ff\">7</span>                                                                                    <span style=\"color: #800000; text-decoration-color: #800000\">│</span>\n<span style=\"color: #800000; text-decoration-color: #800000\">│</span>                                                                                                  <span style=\"color: #800000; text-decoration-color: #800000\">│</span>\n<span style=\"color: #800000; text-decoration-color: #800000\">│</span>   <span style=\"color: #7f7f7f; text-decoration-color: #7f7f7f\"> 4 </span>                                                                                            <span style=\"color: #800000; text-decoration-color: #800000\">│</span>\n<span style=\"color: #800000; text-decoration-color: #800000\">│</span>   <span style=\"color: #7f7f7f; text-decoration-color: #7f7f7f\"> 5 </span><span style=\"color: #0000ff; text-decoration-color: #0000ff\">for</span> time, label <span style=\"color: #ff00ff; text-decoration-color: #ff00ff\">in</span> tqdm(freq):                                                              <span style=\"color: #800000; text-decoration-color: #800000\">│</span>\n<span style=\"color: #800000; text-decoration-color: #800000\">│</span>   <span style=\"color: #7f7f7f; text-decoration-color: #7f7f7f\"> 6 </span><span style=\"color: #7f7f7f; text-decoration-color: #7f7f7f\">│   </span>df_feature[<span style=\"color: #808000; text-decoration-color: #808000\">f'target_{</span>label<span style=\"color: #808000; text-decoration-color: #808000\">}'</span>] = df_feature[<span style=\"color: #808000; text-decoration-color: #808000\">'close'</span>].pct_change(-<span style=\"color: #0000ff; text-decoration-color: #0000ff\">1</span>)                      <span style=\"color: #800000; text-decoration-color: #800000\">│</span>\n<span style=\"color: #800000; text-decoration-color: #800000\">│</span> <span style=\"color: #800000; text-decoration-color: #800000\">❱ </span> 7 <span style=\"color: #7f7f7f; text-decoration-color: #7f7f7f\">│   </span>corr = df_feature[features + [<span style=\"color: #808000; text-decoration-color: #808000\">f'target_{</span>label<span style=\"color: #808000; text-decoration-color: #808000\">}'</span>]].corr()[<span style=\"color: #808000; text-decoration-color: #808000\">f'target_{</span>label<span style=\"color: #808000; text-decoration-color: #808000\">}'</span>]             <span style=\"color: #800000; text-decoration-color: #800000\">│</span>\n<span style=\"color: #800000; text-decoration-color: #800000\">│</span>   <span style=\"color: #7f7f7f; text-decoration-color: #7f7f7f\"> 8 </span><span style=\"color: #7f7f7f; text-decoration-color: #7f7f7f\">│   </span>df_feature = df_feature.drop([<span style=\"color: #808000; text-decoration-color: #808000\">f'target_{</span>label<span style=\"color: #808000; text-decoration-color: #808000\">}'</span>], axis = <span style=\"color: #0000ff; text-decoration-color: #0000ff\">1</span>)                             <span style=\"color: #800000; text-decoration-color: #800000\">│</span>\n<span style=\"color: #800000; text-decoration-color: #800000\">│</span>   <span style=\"color: #7f7f7f; text-decoration-color: #7f7f7f\"> 9 </span><span style=\"color: #7f7f7f; text-decoration-color: #7f7f7f\">│   </span>corrs[label] = corr.copy()                                                              <span style=\"color: #800000; text-decoration-color: #800000\">│</span>\n<span style=\"color: #800000; text-decoration-color: #800000\">│</span>   <span style=\"color: #7f7f7f; text-decoration-color: #7f7f7f\">10 </span>                                                                                            <span style=\"color: #800000; text-decoration-color: #800000\">│</span>\n<span style=\"color: #800000; text-decoration-color: #800000\">│</span>                                                                                                  <span style=\"color: #800000; text-decoration-color: #800000\">│</span>\n<span style=\"color: #800000; text-decoration-color: #800000\">│</span> <span style=\"color: #bfbf7f; text-decoration-color: #bfbf7f\">/Users/johnz/anaconda3/envs/python310/lib/python3.10/site-packages/pandas/core/</span><span style=\"color: #808000; text-decoration-color: #808000; font-weight: bold\">frame.py</span>:<span style=\"color: #0000ff; text-decoration-color: #0000ff\">10710</span> in <span style=\"color: #800000; text-decoration-color: #800000\">│</span>\n<span style=\"color: #800000; text-decoration-color: #800000\">│</span> <span style=\"color: #00ff00; text-decoration-color: #00ff00\">corr</span>                                                                                             <span style=\"color: #800000; text-decoration-color: #800000\">│</span>\n<span style=\"color: #800000; text-decoration-color: #800000\">│</span>                                                                                                  <span style=\"color: #800000; text-decoration-color: #800000\">│</span>\n<span style=\"color: #800000; text-decoration-color: #800000\">│</span>   <span style=\"color: #7f7f7f; text-decoration-color: #7f7f7f\">10707 </span><span style=\"color: #7f7f7f; text-decoration-color: #7f7f7f\">│   │   </span>mat = data.to_numpy(dtype=<span style=\"color: #00ffff; text-decoration-color: #00ffff\">float</span>, na_value=np.nan, copy=<span style=\"color: #0000ff; text-decoration-color: #0000ff\">False</span>)                    <span style=\"color: #800000; text-decoration-color: #800000\">│</span>\n<span style=\"color: #800000; text-decoration-color: #800000\">│</span>   <span style=\"color: #7f7f7f; text-decoration-color: #7f7f7f\">10708 </span><span style=\"color: #7f7f7f; text-decoration-color: #7f7f7f\">│   │   </span>                                                                                 <span style=\"color: #800000; text-decoration-color: #800000\">│</span>\n<span style=\"color: #800000; text-decoration-color: #800000\">│</span>   <span style=\"color: #7f7f7f; text-decoration-color: #7f7f7f\">10709 </span><span style=\"color: #7f7f7f; text-decoration-color: #7f7f7f\">│   │   </span><span style=\"color: #0000ff; text-decoration-color: #0000ff\">if</span> method == <span style=\"color: #808000; text-decoration-color: #808000\">\"pearson\"</span>:                                                          <span style=\"color: #800000; text-decoration-color: #800000\">│</span>\n<span style=\"color: #800000; text-decoration-color: #800000\">│</span> <span style=\"color: #800000; text-decoration-color: #800000\">❱ </span>10710 <span style=\"color: #7f7f7f; text-decoration-color: #7f7f7f\">│   │   │   </span>correl = libalgos.nancorr(mat, minp=min_periods)                             <span style=\"color: #800000; text-decoration-color: #800000\">│</span>\n<span style=\"color: #800000; text-decoration-color: #800000\">│</span>   <span style=\"color: #7f7f7f; text-decoration-color: #7f7f7f\">10711 </span><span style=\"color: #7f7f7f; text-decoration-color: #7f7f7f\">│   │   </span><span style=\"color: #0000ff; text-decoration-color: #0000ff\">elif</span> method == <span style=\"color: #808000; text-decoration-color: #808000\">\"spearman\"</span>:                                                       <span style=\"color: #800000; text-decoration-color: #800000\">│</span>\n<span style=\"color: #800000; text-decoration-color: #800000\">│</span>   <span style=\"color: #7f7f7f; text-decoration-color: #7f7f7f\">10712 </span><span style=\"color: #7f7f7f; text-decoration-color: #7f7f7f\">│   │   │   </span>correl = libalgos.nancorr_spearman(mat, minp=min_periods)                    <span style=\"color: #800000; text-decoration-color: #800000\">│</span>\n<span style=\"color: #800000; text-decoration-color: #800000\">│</span>   <span style=\"color: #7f7f7f; text-decoration-color: #7f7f7f\">10713 </span><span style=\"color: #7f7f7f; text-decoration-color: #7f7f7f\">│   │   </span><span style=\"color: #0000ff; text-decoration-color: #0000ff\">elif</span> method == <span style=\"color: #808000; text-decoration-color: #808000\">\"kendall\"</span> <span style=\"color: #ff00ff; text-decoration-color: #ff00ff\">or</span> <span style=\"color: #00ffff; text-decoration-color: #00ffff\">callable</span>(method):                                    <span style=\"color: #800000; text-decoration-color: #800000\">│</span>\n<span style=\"color: #800000; text-decoration-color: #800000\">╰──────────────────────────────────────────────────────────────────────────────────────────────────╯</span>\n<span style=\"color: #ff0000; text-decoration-color: #ff0000; font-weight: bold\">KeyboardInterrupt</span>\n</pre>\n"
     },
     "metadata": {},
     "output_type": "display_data"
    }
   ],
   "source": [
    "corrs = {}\n",
    "freq = [(10, '10m'), (15, '15m'), (30, '30m'), (60, '60m'), (120, '120m'),\n",
    "         (240, '240m'), (480, '480m')]\n",
    "\n",
    "for time, label in tqdm(freq):\n",
    "    df_feature[f'target_{label}'] = df_feature['close'].pct_change(-1)\n",
    "    corr = df_feature[features + [f'target_{label}']].corr()[f'target_{label}']\n",
    "    df_feature = df_feature.drop([f'target_{label}'], axis = 1)\n",
    "    corrs[label] = corr.copy()\n",
    "\n",
    "for k, v in corrs.items():\n",
    "    v.to_csv(f'../output/feature_corr/{k}_corr_new_features.csv')"
   ],
   "metadata": {
    "collapsed": false,
    "pycharm": {
     "name": "#%%\n"
    }
   }
  },
  {
   "cell_type": "code",
   "execution_count": 12,
   "outputs": [],
   "source": [
    "corrs_all = pd.concat(list(corrs.values()), axis = 1)\n",
    "labels = [f'target_{x[1]}' for x in freq]\n",
    "keep_idx = [x for x in corrs_all.index if x not in labels]\n",
    "mean_corr = corrs_all.mean(axis = 1).abs().loc[keep_idx].sort_values(ascending = False)\n",
    "mean_corr.to_csv('../output/feature_corr/mean_corr_new_features.csv')"
   ],
   "metadata": {
    "collapsed": false,
    "pycharm": {
     "name": "#%%\n"
    }
   }
  },
  {
   "cell_type": "code",
   "execution_count": 17,
   "outputs": [
    {
     "data": {
      "text/plain": "sma3                0.059828\nsma2                0.057268\nothers_dlr          0.056960\nothers_dr           0.056663\nlog_return_2        0.052969\n                      ...   \nDay_sin             0.000333\nvolume_obv          0.000241\nmonth_sin           0.000201\nvolatility_kcp      0.000126\nvolume_change_48    0.000097\nLength: 160, dtype: float64"
     },
     "execution_count": 17,
     "metadata": {},
     "output_type": "execute_result"
    }
   ],
   "source": [
    "mean_corr"
   ],
   "metadata": {
    "collapsed": false,
    "pycharm": {
     "name": "#%%\n"
    }
   }
  },
  {
   "cell_type": "code",
   "execution_count": 22,
   "outputs": [
    {
     "name": "stderr",
     "output_type": "stream",
     "text": [
      "/Users/johnz/anaconda3/envs/python310/lib/python3.10/site-packages/pyarrow/pandas_compat.py:373: FutureWarning: is_sparse is deprecated and will be removed in a future version. Check `isinstance(dtype, pd.SparseDtype)` instead.\n",
      "  if _pandas_api.is_sparse(col):\n"
     ]
    }
   ],
   "source": [
    "df_feature.to_feather('../data/df_btc_with_features_5m_spot_new_features.feather')"
   ],
   "metadata": {
    "collapsed": false,
    "pycharm": {
     "name": "#%%\n"
    }
   }
  },
  {
   "cell_type": "code",
   "execution_count": null,
   "outputs": [],
   "source": [],
   "metadata": {
    "collapsed": false,
    "pycharm": {
     "name": "#%%\n"
    }
   }
  },
  {
   "cell_type": "code",
   "execution_count": 3,
   "outputs": [],
   "source": [
    "from binance.spot import Spot\n",
    "import time\n",
    "from datetime import datetime, timedelta\n",
    "\n",
    "exchange_key = 'HHwPdDKvCO3zxbLqQbjxcb0N2wDNDs2aD5aIz3M3GsuiIntsgfV0wWWIaqfnKriw'\n",
    "end_time = round(time.time() * 1000)\n",
    "end_datetime = datetime.fromtimestamp(end_time / 1000.0)\n",
    "\n",
    "\n",
    "client = Spot(api_key = exchange_key)"
   ],
   "metadata": {
    "collapsed": false,
    "pycharm": {
     "name": "#%%\n"
    }
   }
  },
  {
   "cell_type": "code",
   "execution_count": 5,
   "outputs": [],
   "source": [
    "btc_data = client.klines(symbol = 'BTCUSDT', interval = '5m', limit = 1000)"
   ],
   "metadata": {
    "collapsed": false,
    "pycharm": {
     "name": "#%%\n"
    }
   }
  },
  {
   "cell_type": "code",
   "execution_count": 9,
   "outputs": [
    {
     "ename": "NameError",
     "evalue": "name 'pd' is not defined",
     "output_type": "error",
     "traceback": [
      "\u001B[0;31m---------------------------------------------------------------------------\u001B[0m",
      "\u001B[0;31mNameError\u001B[0m                                 Traceback (most recent call last)",
      "Cell \u001B[0;32mIn[9], line 13\u001B[0m\n\u001B[1;32m      7\u001B[0m kline \u001B[38;5;241m=\u001B[39m client\u001B[38;5;241m.\u001B[39mklines(\u001B[38;5;124m\"\u001B[39m\u001B[38;5;124mBTCUSDT\u001B[39m\u001B[38;5;124m\"\u001B[39m, \u001B[38;5;124m'\u001B[39m\u001B[38;5;124m5m\u001B[39m\u001B[38;5;124m'\u001B[39m, endTime \u001B[38;5;241m=\u001B[39m end_time, limit \u001B[38;5;241m=\u001B[39m \u001B[38;5;241m1000\u001B[39m)\n\u001B[1;32m      9\u001B[0m columns_spot \u001B[38;5;241m=\u001B[39m [\u001B[38;5;124m'\u001B[39m\u001B[38;5;124mopen_time\u001B[39m\u001B[38;5;124m'\u001B[39m, \u001B[38;5;124m'\u001B[39m\u001B[38;5;124mopen\u001B[39m\u001B[38;5;124m'\u001B[39m, \u001B[38;5;124m'\u001B[39m\u001B[38;5;124mhigh\u001B[39m\u001B[38;5;124m'\u001B[39m, \u001B[38;5;124m'\u001B[39m\u001B[38;5;124mlow\u001B[39m\u001B[38;5;124m'\u001B[39m, \u001B[38;5;124m'\u001B[39m\u001B[38;5;124mclose\u001B[39m\u001B[38;5;124m'\u001B[39m, \u001B[38;5;124m'\u001B[39m\u001B[38;5;124mvolume\u001B[39m\u001B[38;5;124m'\u001B[39m,\n\u001B[1;32m     10\u001B[0m                 \u001B[38;5;124m'\u001B[39m\u001B[38;5;124mclose_time\u001B[39m\u001B[38;5;124m'\u001B[39m, \u001B[38;5;124m'\u001B[39m\u001B[38;5;124mquote_asset_volume\u001B[39m\u001B[38;5;124m'\u001B[39m, \u001B[38;5;124m'\u001B[39m\u001B[38;5;124mnumber_of_trades\u001B[39m\u001B[38;5;124m'\u001B[39m,\n\u001B[1;32m     11\u001B[0m                 \u001B[38;5;124m'\u001B[39m\u001B[38;5;124mtaker_buy_base_volume\u001B[39m\u001B[38;5;124m'\u001B[39m, \u001B[38;5;124m'\u001B[39m\u001B[38;5;124mtaker_buy_quote_asset_volume\u001B[39m\u001B[38;5;124m'\u001B[39m, \u001B[38;5;124m'\u001B[39m\u001B[38;5;124mignore\u001B[39m\u001B[38;5;124m'\u001B[39m]\n\u001B[0;32m---> 13\u001B[0m df \u001B[38;5;241m=\u001B[39m \u001B[43mpd\u001B[49m\u001B[38;5;241m.\u001B[39mDataFrame(kline, columns \u001B[38;5;241m=\u001B[39m columns_spot)\n\u001B[1;32m     14\u001B[0m df[\u001B[38;5;124m'\u001B[39m\u001B[38;5;124mopen_time\u001B[39m\u001B[38;5;124m'\u001B[39m] \u001B[38;5;241m=\u001B[39m pd\u001B[38;5;241m.\u001B[39mto_datetime(df[\u001B[38;5;124m'\u001B[39m\u001B[38;5;124mopen_time\u001B[39m\u001B[38;5;124m'\u001B[39m], unit\u001B[38;5;241m=\u001B[39m\u001B[38;5;124m'\u001B[39m\u001B[38;5;124mms\u001B[39m\u001B[38;5;124m'\u001B[39m)\n\u001B[1;32m     15\u001B[0m df[\u001B[38;5;124m'\u001B[39m\u001B[38;5;124mclose_time\u001B[39m\u001B[38;5;124m'\u001B[39m] \u001B[38;5;241m=\u001B[39m pd\u001B[38;5;241m.\u001B[39mto_datetime(df[\u001B[38;5;124m'\u001B[39m\u001B[38;5;124mclose_time\u001B[39m\u001B[38;5;124m'\u001B[39m], unit\u001B[38;5;241m=\u001B[39m\u001B[38;5;124m'\u001B[39m\u001B[38;5;124mms\u001B[39m\u001B[38;5;124m'\u001B[39m)\n",
      "\u001B[0;31mNameError\u001B[0m: name 'pd' is not defined"
     ]
    }
   ],
   "source": [
    "import pandas as pd\n",
    "exchange_key = 'HHwPdDKvCO3zxbLqQbjxcb0N2wDNDs2aD5aIz3M3GsuiIntsgfV0wWWIaqfnKriw'\n",
    "end_time = round(time.time() * 1000)\n",
    "end_datetime = datetime.fromtimestamp(end_time / 1000.0)\n",
    "\n",
    "client = Spot(api_key = exchange_key)\n",
    "\n",
    "kline = client.klines(\"BTCUSDT\", '5m', endTime = end_time, limit = 1000)\n",
    "\n",
    "columns_spot = ['open_time', 'open', 'high', 'low', 'close', 'volume',\n",
    "                'close_time', 'quote_asset_volume', 'number_of_trades',\n",
    "                'taker_buy_base_volume', 'taker_buy_quote_asset_volume', 'ignore']\n",
    "\n",
    "df = pd.DataFrame(kline, columns = columns_spot)\n",
    "df['open_time'] = pd.to_datetime(df['open_time'], unit='ms')\n",
    "df['close_time'] = pd.to_datetime(df['close_time'], unit='ms')"
   ],
   "metadata": {
    "collapsed": false,
    "pycharm": {
     "name": "#%%\n"
    }
   }
  },
  {
   "cell_type": "code",
   "execution_count": 11,
   "outputs": [],
   "source": [
    "df_prev = pd.read_feather('../data/df_btc_with_features_5m_spot.feather')"
   ],
   "metadata": {
    "collapsed": false,
    "pycharm": {
     "name": "#%%\n"
    }
   }
  },
  {
   "cell_type": "code",
   "execution_count": 12,
   "outputs": [],
   "source": [
    "cols = pd.DataFrame(df_prev.columns)"
   ],
   "metadata": {
    "collapsed": false,
    "pycharm": {
     "name": "#%%\n"
    }
   }
  },
  {
   "cell_type": "code",
   "execution_count": 13,
   "outputs": [
    {
     "data": {
      "text/plain": "               0\n0      open_time\n1           open\n2           high\n3            low\n4          close\n..           ...\n174  target_420m\n175  close_90lag\n176  target_450m\n177  close_96lag\n178  target_480m\n\n[179 rows x 1 columns]",
      "text/html": "<div>\n<style scoped>\n    .dataframe tbody tr th:only-of-type {\n        vertical-align: middle;\n    }\n\n    .dataframe tbody tr th {\n        vertical-align: top;\n    }\n\n    .dataframe thead th {\n        text-align: right;\n    }\n</style>\n<table border=\"1\" class=\"dataframe\">\n  <thead>\n    <tr style=\"text-align: right;\">\n      <th></th>\n      <th>0</th>\n    </tr>\n  </thead>\n  <tbody>\n    <tr>\n      <th>0</th>\n      <td>open_time</td>\n    </tr>\n    <tr>\n      <th>1</th>\n      <td>open</td>\n    </tr>\n    <tr>\n      <th>2</th>\n      <td>high</td>\n    </tr>\n    <tr>\n      <th>3</th>\n      <td>low</td>\n    </tr>\n    <tr>\n      <th>4</th>\n      <td>close</td>\n    </tr>\n    <tr>\n      <th>...</th>\n      <td>...</td>\n    </tr>\n    <tr>\n      <th>174</th>\n      <td>target_420m</td>\n    </tr>\n    <tr>\n      <th>175</th>\n      <td>close_90lag</td>\n    </tr>\n    <tr>\n      <th>176</th>\n      <td>target_450m</td>\n    </tr>\n    <tr>\n      <th>177</th>\n      <td>close_96lag</td>\n    </tr>\n    <tr>\n      <th>178</th>\n      <td>target_480m</td>\n    </tr>\n  </tbody>\n</table>\n<p>179 rows × 1 columns</p>\n</div>"
     },
     "execution_count": 13,
     "metadata": {},
     "output_type": "execute_result"
    }
   ],
   "source": [
    "cols"
   ],
   "metadata": {
    "collapsed": false,
    "pycharm": {
     "name": "#%%\n"
    }
   }
  },
  {
   "cell_type": "code",
   "execution_count": null,
   "outputs": [],
   "source": [],
   "metadata": {
    "collapsed": false,
    "pycharm": {
     "name": "#%%\n"
    }
   }
  }
 ],
 "metadata": {
  "kernelspec": {
   "display_name": "Python 3",
   "language": "python",
   "name": "python3"
  },
  "language_info": {
   "codemirror_mode": {
    "name": "ipython",
    "version": 2
   },
   "file_extension": ".py",
   "mimetype": "text/x-python",
   "name": "python",
   "nbconvert_exporter": "python",
   "pygments_lexer": "ipython2",
   "version": "2.7.6"
  }
 },
 "nbformat": 4,
 "nbformat_minor": 0
}