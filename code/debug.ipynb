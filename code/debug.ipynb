{
 "cells": [
  {
   "cell_type": "markdown",
   "source": [
    "List of Ideas:\n",
    "- See bookmarks:\n",
    "- Automating Feature Engineering (Part II)\n",
    "- Use LightGBM for feature importance (Crypto Forecasting - lgbm feval+feature importance)\n",
    "- Crypto Forecasting - Common Factors\n",
    "- Correlation as loss function ? https://www.kaggle.com/competitions/open-problems-multimodal/discussion/347595#1916337\n",
    "-"
   ],
   "metadata": {
    "collapsed": false,
    "pycharm": {
     "name": "#%% md\n"
    }
   }
  },
  {
   "cell_type": "code",
   "execution_count": 19,
   "outputs": [],
   "source": [
    "import tensorflow as tf\n",
    "tf.random.set_seed(42)\n",
    "import tensorflow.python.keras.backend as K\n",
    "import tensorflow.python.keras.layers as layers\n",
    "from tensorflow.python.keras.callbacks import Callback, ReduceLROnPlateau, ModelCheckpoint, EarlyStopping\n",
    "\n",
    "\n",
    "def create_ae_mlp(num_columns, num_labels, hidden_units, dropout_rates, ls=1e-2, lr=1e-3):\n",
    "    inp = tf.keras.layers.Input(shape=(num_columns,))\n",
    "    x0 = tf.keras.layers.BatchNormalization()(inp)\n",
    "\n",
    "    encoder = tf.keras.layers.GaussianNoise(dropout_rates[0])(x0)\n",
    "    encoder = tf.keras.layers.Dense(hidden_units[0])(encoder)\n",
    "    encoder = tf.keras.layers.BatchNormalization()(encoder)\n",
    "    encoder = tf.keras.layers.Activation('swish')(encoder)\n",
    "\n",
    "    decoder = tf.keras.layers.Dropout(dropout_rates[1])(encoder)\n",
    "    decoder = tf.keras.layers.Dense(num_columns, name='decoder')(decoder)\n",
    "\n",
    "    x_ae = tf.keras.layers.Dense(hidden_units[1])(decoder)\n",
    "    x_ae = tf.keras.layers.BatchNormalization()(x_ae)\n",
    "    x_ae = tf.keras.layers.Activation('swish')(x_ae)\n",
    "    x_ae = tf.keras.layers.Dropout(dropout_rates[2])(x_ae)\n",
    "\n",
    "    out_ae = tf.keras.layers.Dense(num_labels, activation='sigmoid', name='ae_action')(x_ae)\n",
    "\n",
    "    x = tf.keras.layers.Concatenate()([x0, encoder])\n",
    "    x = tf.keras.layers.BatchNormalization()(x)\n",
    "    x = tf.keras.layers.Dropout(dropout_rates[3])(x)\n",
    "\n",
    "    for i in range(2, len(hidden_units)):\n",
    "        x = tf.keras.layers.Dense(hidden_units[i])(x)\n",
    "        x = tf.keras.layers.BatchNormalization()(x)\n",
    "        x = tf.keras.layers.Activation('swish')(x)\n",
    "        x = tf.keras.layers.Dropout(dropout_rates[i + 2])(x)\n",
    "\n",
    "    out = tf.keras.layers.Dense(num_labels, activation='softmax', name='action')(x)\n",
    "\n",
    "    model = tf.keras.models.Model(inputs=inp, outputs=[decoder, out_ae, out])\n",
    "    model.compile(optimizer=tf.keras.optimizers.Adam(learning_rate=lr),\n",
    "                  loss={'decoder': tf.keras.losses.MeanSquaredError(),\n",
    "                        'ae_action': tf.keras.losses.CategoricalCrossentropy(),\n",
    "                        'action': tf.keras.losses.CategoricalCrossentropy(),\n",
    "                        },\n",
    "                  metrics={'decoder': tf.keras.metrics.MeanAbsoluteError(name='MAE'),\n",
    "                           'ae_action': tf.keras.metrics.AUC(name='AUC'),\n",
    "                           'action': tf.keras.metrics.AUC(name='AUC'),\n",
    "                           },\n",
    "                  )\n",
    "\n",
    "    return model"
   ],
   "metadata": {
    "collapsed": false,
    "pycharm": {
     "name": "#%%\n"
    }
   }
  },
  {
   "cell_type": "code",
   "execution_count": 20,
   "outputs": [],
   "source": [
    "import tensorflow_addons as tfa\n",
    "def create_model(n_in, n_out, layers, dropout_rate, optimizer, metrics):\n",
    "\n",
    "    inp = tf.keras.layers.Input(shape = (n_in, ))\n",
    "\n",
    "    x=inp\n",
    "    for i,hidden_units in enumerate(layers):\n",
    "        x = tf.keras.layers.BatchNormalization()(x)\n",
    "        if i>0:\n",
    "            x = tf.keras.layers.Dropout(dropout_rate)(x)\n",
    "        else:\n",
    "            x = tf.keras.layers.Dropout(.01)(x)\n",
    "        x = tf.keras.layers.Dense(hidden_units)(x)\n",
    "        x = tf.keras.layers.Activation('relu')(x)\n",
    "\n",
    "    out = tf.keras.layers.Dense(n_out, activation = 'softmax', name = 'action')(x)\n",
    "\n",
    "    model = tf.keras.models.Model(inputs = inp, outputs = out)\n",
    "    model.compile(optimizer = optimizer,\n",
    "                  loss = tf.keras.losses.CategoricalCrossentropy(),\n",
    "                  metrics = metrics,\n",
    "#                   run_eagerly=True\n",
    "                 )\n",
    "\n",
    "    return model"
   ],
   "metadata": {
    "collapsed": false,
    "pycharm": {
     "name": "#%%\n"
    }
   }
  },
  {
   "cell_type": "code",
   "execution_count": 4,
   "outputs": [],
   "source": [
    "from sklearn.metrics import roc_auc_score\n",
    "class ValScore(tf.keras.callbacks.Callback):\n",
    "    def __init__(self, validation_data,dates,weights,targs):\n",
    "        super().__init__()\n",
    "        self.X_val, self.y_val = validation_data\n",
    "        self.dates, self.weights, self.targs = dates, weights, targs\n",
    "\n",
    "    def on_epoch_end(self, epoch, logs={}):\n",
    "        y_pred=self.model(self.X_val,training = False).numpy()\n",
    "        aoc = roc_auc_score(self.y_val, y_pred,average=None)\n",
    "        action=(y_pred.mean(1)>0.5).astype('int8')\n",
    "        score=utility_score_bincount(self.dates,self.weights,self.targs,action)\n",
    "        print(f\"AOC scores: {aoc}, t: {score[0]:.2f}, Utility score: {score[1]:.0f}\")"
   ],
   "metadata": {
    "collapsed": false,
    "pycharm": {
     "name": "#%%\n"
    }
   }
  },
  {
   "cell_type": "code",
   "execution_count": 5,
   "outputs": [],
   "source": [
    "import lightgbm as lgb\n",
    "import pandas as pd\n",
    "import numpy as np\n",
    "from itertools import islice\n",
    "import tscv\n",
    "\n",
    "def generate_label(df, threshold = 0.002):\n",
    "    df['label'] = 0\n",
    "    df.loc[(df['target_15m'] <= -1*threshold), 'label'] = 1\n",
    "    df.loc[(df['target_15m'] >= threshold), 'label'] = 2\n",
    "    return df\n",
    "\n",
    "def get_na_features(df, train_features):\n",
    "    tmp = pd.DataFrame(df[train_features].isnull().sum())\n",
    "    tmp = tmp[tmp[0] > 0].reset_index()\n",
    "    tmp.columns = ['feat', 'cnt']\n",
    "    tmp = tmp.sort_values('cnt')\n",
    "    feat_groups = dict(tmp.groupby('cnt')['feat'].agg(lambda x: list(x)))\n",
    "    return feat_groups\n",
    "\n",
    "def normalize_float_columns(df, features):\n",
    "  float_cols = df[features].select_dtypes(include = [float]).columns\n",
    "  grouped_df = df.groupby(['token'])\n",
    "  for col in float_cols:\n",
    "      df[col] = grouped_df[col].transform(lambda x: (x - x.mean()) / (x.std()))\n",
    "  df[float_cols] = (df[float_cols].replace([np.inf, -np.inf], np.nan).fillna(0.0))\n",
    "  return df\n",
    "\n",
    "class Params: pass\n",
    "param = Params()"
   ],
   "metadata": {
    "collapsed": false,
    "pycharm": {
     "name": "#%%\n"
    }
   }
  },
  {
   "cell_type": "code",
   "execution_count": 6,
   "outputs": [],
   "source": [
    "train = False\n",
    "df = pd.read_feather('../data/df_btc_eth_with_features.feather')\n",
    "cols_to_drop = ['open_time', 'close_time', 'ignore',\n",
    "                'create_time', 'symbol', 'returns', 'returns_5m',\n",
    "                'open', 'high', 'low', 'close', 'target_15m', 'label']\n",
    "\n",
    "df = df.sort_values(by='open_time', ignore_index=True)\n",
    "df = generate_label(df, threshold=0.002)\n",
    "\n",
    "start_time = df['open_time'].min()\n",
    "end_time = df['open_time'].max()\n",
    "dates = df['open_time'].unique()\n",
    "n = len(dates)\n",
    "train_idx = int(0.7 * n)\n",
    "valid_idx = int(0.2 * n)\n",
    "train_end = dates[train_idx]\n",
    "valid_end = dates[valid_idx]\n",
    "\n",
    "train_df = df.loc[df['open_time'] < train_end].reset_index(drop=True)\n",
    "valid_df = df.loc[(train_end <= df['open_time']) & (df['open_time'] < valid_end)].reset_index(drop=True)\n",
    "test_df = df.loc[(df['open_time'] >= valid_end)].reset_index(drop=True)"
   ],
   "metadata": {
    "collapsed": false,
    "pycharm": {
     "name": "#%%\n"
    }
   }
  },
  {
   "cell_type": "code",
   "execution_count": 7,
   "outputs": [],
   "source": [
    "train_features = [x for x in df.columns if (x not in cols_to_drop)]\n",
    "\n",
    "train_df['token'] = train_df['token'].astype('category').cat.codes\n",
    "object_cols = train_df[train_features].select_dtypes(include=object).columns\n",
    "train_df[object_cols] = train_df[object_cols].astype(float)\n",
    "\n",
    "nan_features = get_na_features(train_df, train_features)\n",
    "grouped_train = train_df.groupby(['token'])\n",
    "for k, v in nan_features.items():\n",
    "    for value in v:\n",
    "        train_df[value] = grouped_train[value].transform(lambda x: x.ffill().fillna(0.0))\n",
    "\n",
    "feature_cols = pd.DataFrame(train_features)\n",
    "dtype_df = pd.DataFrame(train_df[train_features].select_dtypes(exclude=[float]).columns)\n",
    "train_features = [x for x in train_features if x not in dtype_df.values]\n",
    "\n",
    "# params = {'num_columns': len(train_features_test),\n",
    "#           'num_labels': 3,\n",
    "#           'hidden_units': [96, 96, 896, 448, 448, 256],\n",
    "#           'dropout_rates': [0.03527936123679956, 0.038424974585075086, 0.42409238408801436, 0.10431484318345882,\n",
    "#                             0.49230389137187497, 0.32024444956111164, 0.2716856145683449, 0.4379233941604448],\n",
    "#           'ls': 0,\n",
    "#           'lr': 1e-3,\n",
    "#           }\n"
   ],
   "metadata": {
    "collapsed": false,
    "pycharm": {
     "name": "#%%\n"
    }
   }
  },
  {
   "cell_type": "code",
   "execution_count": 8,
   "outputs": [],
   "source": [
    "# 1) get rid of 0's\n",
    "# 2) get rid of [-np.inf, np.inf]"
   ],
   "metadata": {
    "collapsed": false,
    "pycharm": {
     "name": "#%%\n"
    }
   }
  },
  {
   "cell_type": "code",
   "execution_count": 9,
   "outputs": [],
   "source": [
    "### model parameters\n",
    "param.layers = [500,350,200]\n",
    "param.dropout_rate = 0.35\n",
    "\n",
    "###training parameters\n",
    "param.bs = 8192\n",
    "param.lr = 0.002\n",
    "param.epochs = 30\n",
    "param.wd = 0.02"
   ],
   "metadata": {
    "collapsed": false,
    "pycharm": {
     "name": "#%%\n"
    }
   }
  },
  {
   "cell_type": "code",
   "execution_count": 10,
   "outputs": [],
   "source": [
    "groups = pd.factorize(\n",
    "    train_df['open_time'].dt.day.astype(str) + '_' + train_df['open_time'].dt.month.astype(str) + '_' + train_df[\n",
    "        'open_time'].dt.year.astype(str))[0]\n",
    "\n",
    "cv = tscv.PurgedGroupTimeSeriesSplit(\n",
    "    n_splits=5,\n",
    "    group_gap=31,\n",
    ")"
   ],
   "metadata": {
    "collapsed": false,
    "pycharm": {
     "name": "#%%\n"
    }
   }
  },
  {
   "cell_type": "code",
   "execution_count": 11,
   "outputs": [],
   "source": [
    "train_features_test = train_features\n",
    "train_df = normalize_float_columns(train_df, train_features_test)"
   ],
   "metadata": {
    "collapsed": false,
    "pycharm": {
     "name": "#%%\n"
    }
   }
  },
  {
   "cell_type": "code",
   "execution_count": 12,
   "outputs": [],
   "source": [
    "def get_weights(weights):\n",
    "    weights_inv = 1/weights\n",
    "    final_weights = weights_inv / weights_inv.sum()\n",
    "    return final_weights"
   ],
   "metadata": {
    "collapsed": false,
    "pycharm": {
     "name": "#%%\n"
    }
   }
  },
  {
   "cell_type": "code",
   "execution_count": 13,
   "outputs": [],
   "source": [
    "### adding overall AuC as a metric\n",
    "### for early stopping I only look at resp and resp_sum because they start overfitting earlier\n",
    "use_weights = True\n",
    "metrics =  [tf.keras.metrics.CategoricalCrossentropy(name='loss'),\n",
    "            tf.keras.metrics.AUC(name='AUC')]\n",
    "            # tf.keras.metrics.AUC(name='AUC')]\n",
    "\n",
    "scores = []\n",
    "batch_size = 4096"
   ],
   "metadata": {
    "collapsed": false,
    "pycharm": {
     "name": "#%%\n"
    }
   }
  },
  {
   "cell_type": "code",
   "execution_count": 13,
   "outputs": [],
   "source": [],
   "metadata": {
    "collapsed": false,
    "pycharm": {
     "name": "#%%\n"
    }
   }
  },
  {
   "cell_type": "code",
   "execution_count": 15,
   "outputs": [
    {
     "name": "stdout",
     "output_type": "stream",
     "text": [
      "0 : Train Date is from 2020-01-01 00:00:00 - 2020-05-12 23:59:00\n",
      "0 : Valid Date is from 2020-06-13 00:15:00 - 2020-11-18 23:59:00\n",
      "Shape of Xtrain is (383040, 147), Shape of yTrain is (383040,)\n",
      "Class 0: train: 0.5186638471177945\n",
      "Class 0: train: 0.23460996240601503\n",
      "Class 0: train: 0.2467261904761905\n",
      "14310/14310 [==============================] - 19s 1ms/step\n",
      "1 : Train Date is from 2020-01-01 00:00:00 - 2020-10-18 23:59:00\n",
      "1 : Valid Date is from 2020-11-19 00:15:00 - 2021-04-26 23:59:00\n",
      "Class 0: train: 0.6083856544901065\n",
      "Class 0: train: 0.19091514459665146\n",
      "Class 0: train: 0.200699200913242\n",
      "14310/14310 [==============================] - 17s 1ms/step\n",
      "2 : Train Date is from 2020-01-01 00:00:00 - 2021-03-26 23:59:00\n",
      "2 : Valid Date is from 2021-04-27 00:15:00 - 2021-10-02 23:59:00\n",
      "Class 0: train: 0.5450264843557526\n",
      "Class 0: train: 0.22070861049519586\n",
      "Class 0: train: 0.2342649051490515\n",
      "14310/14310 [==============================] - 23s 2ms/step\n",
      "3 : Train Date is from 2020-01-01 00:00:00 - 2021-09-01 23:59:00\n",
      "3 : Valid Date is from 2021-10-03 00:15:00 - 2022-03-10 23:59:00\n",
      "Class 0: train: 0.5176986566484517\n",
      "Class 0: train: 0.2353870673952641\n",
      "Class 0: train: 0.24691427595628415\n",
      "14310/14310 [==============================] - 18s 1ms/step\n",
      "4 : Train Date is from 2020-01-01 00:00:00 - 2022-02-07 23:59:00\n",
      "4 : Valid Date is from 2022-03-11 00:15:00 - 2022-08-16 07:11:00\n",
      "Class 0: train: 0.5189075819968213\n",
      "Class 0: train: 0.23636983456147956\n",
      "Class 0: train: 0.24472258344169917\n",
      "14247/14247 [==============================] - 18s 1ms/step\n"
     ]
    }
   ],
   "source": [
    "scores = []\n",
    "batch_size = 512\n",
    "df_pred = []\n",
    "for fold, (train_idx, val_idx) in enumerate(cv.split(train_df, train_df['label'], groups)):\n",
    "      min_train, max_train = min(train_df['open_time'].iloc[train_idx]).to_pydatetime(), max(\n",
    "          train_df['open_time'].iloc[train_idx]).to_pydatetime()\n",
    "      min_valid, max_valid = min(train_df['open_time'].iloc[val_idx]).to_pydatetime(), max(\n",
    "          train_df['open_time'].iloc[val_idx]).to_pydatetime()\n",
    "\n",
    "      x_train, x_val = train_df[train_features_test].iloc[train_idx], train_df[train_features_test].iloc[\n",
    "          val_idx]\n",
    "\n",
    "      print(f'{fold} : Train Date is from {min_train} - {max_train}')\n",
    "      print(f'{fold} : Valid Date is from {min_valid} - {max_valid}')\n",
    "\n",
    "      y_train, y_val = train_df['label'].iloc[train_idx].values, train_df['label'].iloc[val_idx].values\n",
    "\n",
    "      if fold == 0:\n",
    "          print(f'Shape of Xtrain is {x_train.shape}, Shape of yTrain is {y_train.shape}')\n",
    "\n",
    "      if use_weights:\n",
    "        weights = []\n",
    "        for val in np.unique(y_train):\n",
    "            prop = (y_train == val).sum() / y_train.shape[0]\n",
    "            print(f'Class 0: train: {prop}')\n",
    "            weights.append(prop)\n",
    "        weights = np.array(weights)\n",
    "        loss_weights = get_weights(weights)\n",
    "        weights = {}\n",
    "        for i in range(len(loss_weights)):\n",
    "            weights[i] = loss_weights[i]\n",
    "\n",
    "        y_train = tf.one_hot(y_train, depth = 3)\n",
    "        y_val = tf.one_hot(y_val, depth = 3)\n",
    "\n",
    "      ckp_path = f'../output/MLP_{fold}.hdf5'\n",
    "      model = create_model(len(train_features_test), 3, param.layers, param.dropout_rate,\n",
    "                            optimizer=tfa.optimizers.Lookahead(\n",
    "                                tfa.optimizers.LAMB(learning_rate=param.lr, weight_decay_rate=param.wd)\n",
    "                            ),\n",
    "                            metrics=metrics)\n",
    "      model.load_weights(f'../output/MLP_{fold}.hdf5')\n",
    "\n",
    "      predictions = model.predict(x_val.values)\n",
    "      ypred = pd.DataFrame(predictions, columns = [f'prob_{i}' for i in range(3)])\n",
    "      cols_to_keep = ['open_time', 'label', 'target_15m', 'token', 'close', 'open']\n",
    "      x_df = train_df[cols_to_keep].iloc[val_idx].reset_index(drop = True)\n",
    "      x_df.columns = cols_to_keep\n",
    "      for i in range(3):\n",
    "          x_df[f'prob_{i}'] = ypred[f'prob_{i}']\n",
    "      df_pred.append(x_df)\n",
    "\n",
    "      # cbs = [tf.keras.callbacks.ReduceLROnPlateau(monitor='val_loss', factor=0.3,\n",
    "      #                                             patience=3, verbose=1),\n",
    "      #         tf.keras.callbacks.EarlyStopping(\n",
    "      #             monitor='val_AUC', patience=10, verbose=1,\n",
    "      #             mode='max', restore_best_weights=True, min_delta = 1e-4)\n",
    "      #         ]\n",
    "      #\n",
    "      # history = model.fit(x_train.values, y_train, validation_data=(x_val.values, y_val),\n",
    "      #                     epochs=param.epochs,\n",
    "      #                     batch_size=param.bs, callbacks=[ckp, cbs], class_weight = weights)\n",
    "      # hist = pd.DataFrame(history.history)\n",
    "      # hist.to_csv(f'../output/AEMLP_{fold}_training_history.csv')\n",
    "      # # hist.head(50)\n",
    "      # score = hist['val_AUC'].max()\n",
    "      # print(f'Fold {fold} ACC:\\t', score)\n",
    "      # scores.append(score)\n",
    "      # K.clear_session()"
   ],
   "metadata": {
    "collapsed": false,
    "pycharm": {
     "name": "#%%\n"
    }
   }
  },
  {
   "cell_type": "code",
   "execution_count": 16,
   "outputs": [],
   "source": [
    "df_pred_test = pd.concat(df_pred, axis = 0)\n",
    "df_pred_test['pred_label'] = np.argmax(df_pred_test[[f'prob_0', 'prob_1', 'prob_2']].values, axis = 1)"
   ],
   "metadata": {
    "collapsed": false,
    "pycharm": {
     "name": "#%%\n"
    }
   }
  },
  {
   "cell_type": "code",
   "execution_count": 17,
   "outputs": [],
   "source": [
    "df_pred_test['position'] = 0\n",
    "df_pred_test.loc[(df_pred_test['pred_label'] == 1), 'position'] = -1\n",
    "df_pred_test.loc[(df_pred_test['pred_label'] == 2), 'position'] = 1\n",
    "df_pred_test['return'] = df_pred_test['position'] * df_pred_test['target_15m']"
   ],
   "metadata": {
    "collapsed": false,
    "pycharm": {
     "name": "#%%\n"
    }
   }
  },
  {
   "cell_type": "code",
   "execution_count": 18,
   "outputs": [],
   "source": [
    "df_pred_test.reset_index(drop = True).to_feather('../data/back_test_output.feather')"
   ],
   "metadata": {
    "collapsed": false,
    "pycharm": {
     "name": "#%%\n"
    }
   }
  },
  {
   "cell_type": "code",
   "execution_count": 156,
   "outputs": [],
   "source": [
    "df_pred_test['cum_ret'] = (1 + df_pred_test['return']).cumprod(axis = 0)"
   ],
   "metadata": {
    "collapsed": false,
    "pycharm": {
     "name": "#%%\n"
    }
   }
  },
  {
   "cell_type": "code",
   "execution_count": 157,
   "outputs": [],
   "source": [
    "import matplotlib.pyplot as plt"
   ],
   "metadata": {
    "collapsed": false,
    "pycharm": {
     "name": "#%%\n"
    }
   }
  },
  {
   "cell_type": "code",
   "execution_count": 165,
   "outputs": [
    {
     "data": {
      "text/plain": "2119130"
     },
     "execution_count": 165,
     "metadata": {},
     "output_type": "execute_result"
    }
   ],
   "source": [
    "df_pred_test['cum_ret'].argmax()"
   ],
   "metadata": {
    "collapsed": false,
    "pycharm": {
     "name": "#%%\n"
    }
   }
  },
  {
   "cell_type": "code",
   "execution_count": 163,
   "outputs": [
    {
     "data": {
      "text/plain": "<Figure size 640x480 with 1 Axes>",
      "image/png": "[encoded data removed]"
     },
     "metadata": {},
     "output_type": "display_data"
    }
   ],
   "source": [
    "ax = df_pred_test.plot(x = 0, y = 'cum_ret')\n",
    "plt.show()"
   ],
   "metadata": {
    "collapsed": false,
    "pycharm": {
     "name": "#%%\n"
    }
   }
  },
  {
   "cell_type": "code",
   "execution_count": 101,
   "outputs": [],
   "source": [
    "params = {'num_columns': len(train_features_test),\n",
    "          'num_labels': 3,\n",
    "          'hidden_units': [96, 96, 896, 448, 448, 256],\n",
    "          'dropout_rates': [0.03527936123679956, 0.038424974585075086, 0.42409238408801436, 0.10431484318345882,\n",
    "                            0.49230389137187497, 0.32024444956111164, 0.2716856145683449, 0.4379233941604448],\n",
    "          'ls': 0,\n",
    "          'lr': 1e-3,\n",
    "          }"
   ],
   "metadata": {
    "collapsed": false,
    "pycharm": {
     "name": "#%%\n"
    }
   }
  },
  {
   "cell_type": "code",
   "execution_count": 128,
   "outputs": [
    {
     "name": "stdout",
     "output_type": "stream",
     "text": [
      "0 : Train Date is from 2020-01-01 00:00:00 - 2020-05-12 23:59:00\n",
      "0 : Valid Date is from 2020-06-13 00:15:00 - 2020-11-18 23:59:00\n",
      "Shape of Xtrain is (383040, 142), Shape of yTrain is (383040,)\n",
      "Class 0: train: 0.5186664578111947\n",
      "Class 0: train: 0.23460996240601503\n",
      "Class 0: train: 0.2467235797827903\n",
      "14310/14310 [==============================] - 31s 2ms/step\n",
      "1 : Train Date is from 2020-01-01 00:00:00 - 2020-10-18 23:59:00\n",
      "1 : Valid Date is from 2020-11-19 00:15:00 - 2021-04-26 23:59:00\n",
      "Class 0: train: 0.6083868436073059\n",
      "Class 0: train: 0.19091395547945206\n",
      "Class 0: train: 0.200699200913242\n",
      "14310/14310 [==============================] - 30s 2ms/step\n",
      "2 : Train Date is from 2020-01-01 00:00:00 - 2021-03-26 23:59:00\n",
      "2 : Valid Date is from 2021-04-27 00:15:00 - 2021-10-02 23:59:00\n",
      "Class 0: train: 0.5450272542498152\n",
      "Class 0: train: 0.22070861049519586\n",
      "Class 0: train: 0.2342641352549889\n",
      "14310/14310 [==============================] - 29s 2ms/step\n",
      "3 : Train Date is from 2020-01-01 00:00:00 - 2021-09-01 23:59:00\n",
      "3 : Valid Date is from 2021-10-03 00:15:00 - 2022-03-10 23:59:00\n",
      "Class 0: train: 0.5176986566484517\n",
      "Class 0: train: 0.2353870673952641\n",
      "Class 0: train: 0.24691427595628415\n",
      "14310/14310 [==============================] - 30s 2ms/step\n",
      "4 : Train Date is from 2020-01-01 00:00:00 - 2022-02-07 23:59:00\n",
      "4 : Valid Date is from 2022-03-11 00:15:00 - 2022-08-16 07:11:00\n",
      "Class 0: train: 0.5189080335211674\n",
      "Class 0: train: 0.23636938303713337\n",
      "Class 0: train: 0.24472258344169917\n",
      "14247/14247 [==============================] - 29s 2ms/step\n"
     ]
    }
   ],
   "source": [
    "scores = []\n",
    "batch_size = 4096\n",
    "df_pred = []\n",
    "for fold, (train_idx, val_idx) in enumerate(cv.split(train_df, train_df['label'], groups)):\n",
    "    min_train, max_train = min(train_df['open_time'].iloc[train_idx]).to_pydatetime(), max(\n",
    "          train_df['open_time'].iloc[train_idx]).to_pydatetime()\n",
    "    min_valid, max_valid = min(train_df['open_time'].iloc[val_idx]).to_pydatetime(), max(\n",
    "          train_df['open_time'].iloc[val_idx]).to_pydatetime()\n",
    "\n",
    "    x_train, x_val = train_df[train_features_test].iloc[train_idx], train_df[train_features_test].iloc[\n",
    "        val_idx]\n",
    "    y_train, y_val = train_df['label'].iloc[train_idx], train_df['label'].iloc[val_idx]\n",
    "\n",
    "\n",
    "    print(f'{fold} : Train Date is from {min_train} - {max_train}')\n",
    "    print(f'{fold} : Valid Date is from {min_valid} - {max_valid}')\n",
    "\n",
    "    y_train, y_val = train_df['label'].iloc[train_idx].values, train_df['label'].iloc[val_idx].values\n",
    "\n",
    "    if fold == 0:\n",
    "        print(f'Shape of Xtrain is {x_train.shape}, Shape of yTrain is {y_train.shape}')\n",
    "\n",
    "    if use_weights:\n",
    "        weights = []\n",
    "        for val in np.unique(y_train):\n",
    "            prop = (y_train == val).sum() / y_train.shape[0]\n",
    "            print(f'Class 0: train: {prop}')\n",
    "            weights.append(prop)\n",
    "        weights = np.array(weights)\n",
    "        loss_weights = get_weights(weights)\n",
    "        weights = {}\n",
    "        for i in range(len(loss_weights)):\n",
    "            weights[i] = loss_weights[i]\n",
    "\n",
    "        y_train = tf.one_hot(y_train, depth = 3)\n",
    "        y_val = tf.one_hot(y_val, depth = 3)\n",
    "\n",
    "    model = create_ae_mlp(**params)\n",
    "    model.load_weights(f'../output/AEMLP_{fold}_{batch_size}.hdf5')\n",
    "    predictions = model.predict(x_val.values)\n",
    "    ypred = pd.DataFrame(predictions[-1], columns = [f'prob_{i}' for i in range(3)])\n",
    "    cols_to_keep = ['open_time', 'label', 'target_15m', 'token']\n",
    "    tmp_df = pd.concat([train_df[cols_to_keep].iloc[val_idx].reset_index(drop = True), ypred], axis = 1, ignore_index = True)\n",
    "    df_pred.append(tmp_df)\n"
   ],
   "metadata": {
    "collapsed": false,
    "pycharm": {
     "name": "#%%\n"
    }
   }
  },
  {
   "cell_type": "code",
   "execution_count": 129,
   "outputs": [
    {
     "data": {
      "text/plain": "                         0  1         2  3         4         5         6\n0      2022-03-11 00:15:00  1 -0.005486  0  0.544133  0.220358  0.235509\n1      2022-03-11 00:16:00  1 -0.002619  0  0.603810  0.193890  0.202299\n2      2022-03-11 00:16:00  1 -0.003931  1  0.743910  0.134652  0.121438\n3      2022-03-11 00:17:00  0 -0.001781  1  0.725732  0.145121  0.129147\n4      2022-03-11 00:17:00  0 -0.001066  0  0.606421  0.192600  0.200979\n...                    ... ..       ... ..       ...       ...       ...\n455868 2022-08-16 07:09:00  0  0.000046  1  0.647001  0.169039  0.183960\n455869 2022-08-16 07:10:00  0 -0.001018  1  0.575753  0.183874  0.240373\n455870 2022-08-16 07:10:00  0 -0.000794  0  0.672766  0.145688  0.181546\n455871 2022-08-16 07:11:00  0 -0.001515  0  0.609655  0.180602  0.209743\n455872 2022-08-16 07:11:00  0 -0.000642  1  0.605853  0.172242  0.221905\n\n[455873 rows x 7 columns]",
      "text/html": "<div>\n<style scoped>\n    .dataframe tbody tr th:only-of-type {\n        vertical-align: middle;\n    }\n\n    .dataframe tbody tr th {\n        vertical-align: top;\n    }\n\n    .dataframe thead th {\n        text-align: right;\n    }\n</style>\n<table border=\"1\" class=\"dataframe\">\n  <thead>\n    <tr style=\"text-align: right;\">\n      <th></th>\n      <th>0</th>\n      <th>1</th>\n      <th>2</th>\n      <th>3</th>\n      <th>4</th>\n      <th>5</th>\n      <th>6</th>\n    </tr>\n  </thead>\n  <tbody>\n    <tr>\n      <th>0</th>\n      <td>2022-03-11 00:15:00</td>\n      <td>1</td>\n      <td>-0.005486</td>\n      <td>0</td>\n      <td>0.544133</td>\n      <td>0.220358</td>\n      <td>0.235509</td>\n    </tr>\n    <tr>\n      <th>1</th>\n      <td>2022-03-11 00:16:00</td>\n      <td>1</td>\n      <td>-0.002619</td>\n      <td>0</td>\n      <td>0.603810</td>\n      <td>0.193890</td>\n      <td>0.202299</td>\n    </tr>\n    <tr>\n      <th>2</th>\n      <td>2022-03-11 00:16:00</td>\n      <td>1</td>\n      <td>-0.003931</td>\n      <td>1</td>\n      <td>0.743910</td>\n      <td>0.134652</td>\n      <td>0.121438</td>\n    </tr>\n    <tr>\n      <th>3</th>\n      <td>2022-03-11 00:17:00</td>\n      <td>0</td>\n      <td>-0.001781</td>\n      <td>1</td>\n      <td>0.725732</td>\n      <td>0.145121</td>\n      <td>0.129147</td>\n    </tr>\n    <tr>\n      <th>4</th>\n      <td>2022-03-11 00:17:00</td>\n      <td>0</td>\n      <td>-0.001066</td>\n      <td>0</td>\n      <td>0.606421</td>\n      <td>0.192600</td>\n      <td>0.200979</td>\n    </tr>\n    <tr>\n      <th>...</th>\n      <td>...</td>\n      <td>...</td>\n      <td>...</td>\n      <td>...</td>\n      <td>...</td>\n      <td>...</td>\n      <td>...</td>\n    </tr>\n    <tr>\n      <th>455868</th>\n      <td>2022-08-16 07:09:00</td>\n      <td>0</td>\n      <td>0.000046</td>\n      <td>1</td>\n      <td>0.647001</td>\n      <td>0.169039</td>\n      <td>0.183960</td>\n    </tr>\n    <tr>\n      <th>455869</th>\n      <td>2022-08-16 07:10:00</td>\n      <td>0</td>\n      <td>-0.001018</td>\n      <td>1</td>\n      <td>0.575753</td>\n      <td>0.183874</td>\n      <td>0.240373</td>\n    </tr>\n    <tr>\n      <th>455870</th>\n      <td>2022-08-16 07:10:00</td>\n      <td>0</td>\n      <td>-0.000794</td>\n      <td>0</td>\n      <td>0.672766</td>\n      <td>0.145688</td>\n      <td>0.181546</td>\n    </tr>\n    <tr>\n      <th>455871</th>\n      <td>2022-08-16 07:11:00</td>\n      <td>0</td>\n      <td>-0.001515</td>\n      <td>0</td>\n      <td>0.609655</td>\n      <td>0.180602</td>\n      <td>0.209743</td>\n    </tr>\n    <tr>\n      <th>455872</th>\n      <td>2022-08-16 07:11:00</td>\n      <td>0</td>\n      <td>-0.000642</td>\n      <td>1</td>\n      <td>0.605853</td>\n      <td>0.172242</td>\n      <td>0.221905</td>\n    </tr>\n  </tbody>\n</table>\n<p>455873 rows × 7 columns</p>\n</div>"
     },
     "execution_count": 129,
     "metadata": {},
     "output_type": "execute_result"
    }
   ],
   "source": [
    "tmp_df"
   ],
   "metadata": {
    "collapsed": false,
    "pycharm": {
     "name": "#%%\n"
    }
   }
  },
  {
   "cell_type": "code",
   "execution_count": 130,
   "outputs": [],
   "source": [
    "df_pred_test = pd.concat(df_pred, axis = 0)"
   ],
   "metadata": {
    "collapsed": false,
    "pycharm": {
     "name": "#%%\n"
    }
   }
  },
  {
   "cell_type": "code",
   "execution_count": 134,
   "outputs": [
    {
     "data": {
      "text/plain": "Index([0, 1, 2, 3, 4, 5, 6, 'pred_label'], dtype='object')"
     },
     "execution_count": 134,
     "metadata": {},
     "output_type": "execute_result"
    }
   ],
   "source": [
    "df_pred_test.columns"
   ],
   "metadata": {
    "collapsed": false,
    "pycharm": {
     "name": "#%%\n"
    }
   }
  },
  {
   "cell_type": "code",
   "execution_count": 135,
   "outputs": [],
   "source": [
    "df_pred_test = pd.concat(df_pred, axis = 0)\n",
    "df_pred_test['pred_label'] = np.argmax(df_pred_test[[4, 5, 6]].values, axis = 1)"
   ],
   "metadata": {
    "collapsed": false,
    "pycharm": {
     "name": "#%%\n"
    }
   }
  },
  {
   "cell_type": "code",
   "execution_count": 140,
   "outputs": [],
   "source": [
    "df_1 = df_pred_test.loc[(df_pred_test[1] == 1)]\n",
    "acc_1 = (df_1[1] == df_1['pred_label']).sum() / df_1.shape[0]\n",
    "df_2 = df_pred_test.loc[(df_pred_test[1] == 2)]\n",
    "acc_2 = (df_2[1] == df_2['pred_label']).sum() / df_2.shape[0]"
   ],
   "metadata": {
    "collapsed": false,
    "pycharm": {
     "name": "#%%\n"
    }
   }
  },
  {
   "cell_type": "code",
   "execution_count": 141,
   "outputs": [
    {
     "data": {
      "text/plain": "0.11106521821471022"
     },
     "execution_count": 141,
     "metadata": {},
     "output_type": "execute_result"
    }
   ],
   "source": [
    "acc_2"
   ],
   "metadata": {
    "collapsed": false,
    "pycharm": {
     "name": "#%%\n"
    }
   }
  },
  {
   "cell_type": "code",
   "execution_count": null,
   "outputs": [],
   "source": [],
   "metadata": {
    "collapsed": false,
    "pycharm": {
     "name": "#%%\n"
    }
   }
  }
 ],
 "metadata": {
  "kernelspec": {
   "display_name": "Python 3",
   "language": "python",
   "name": "python3"
  },
  "language_info": {
   "codemirror_mode": {
    "name": "ipython",
    "version": 2
   },
   "file_extension": ".py",
   "mimetype": "text/x-python",
   "name": "python",
   "nbconvert_exporter": "python",
   "pygments_lexer": "ipython2",
   "version": "2.7.6"
  }
 },
 "nbformat": 4,
 "nbformat_minor": 0
}