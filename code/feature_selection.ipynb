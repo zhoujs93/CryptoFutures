{
 "cells": [
  {
   "cell_type": "code",
   "execution_count": 1,
   "metadata": {
    "collapsed": true
   },
   "outputs": [
    {
     "name": "stderr",
     "output_type": "stream",
     "text": [
      "2023-11-18 00:41:41.676137: I tensorflow/core/platform/cpu_feature_guard.cc:182] This TensorFlow binary is optimized to use available CPU instructions in performance-critical operations.\n",
      "To enable the following instructions: AVX2 FMA, in other operations, rebuild TensorFlow with the appropriate compiler flags.\n"
     ]
    }
   ],
   "source": [
    "import pandas as pd\n",
    "import numpy as np\n",
    "import kxy"
   ]
  },
  {
   "cell_type": "code",
   "execution_count": 5,
   "outputs": [],
   "source": [
    "import lightgbm as lgb\n",
    "import pandas as pd\n",
    "import numpy as np\n",
    "from itertools import islice\n",
    "import tscv\n",
    "\n",
    "def generate_label(df, threshold = 0.002):\n",
    "    df['label'] = 0\n",
    "    df.loc[(df['target_15m'] <= -1*threshold), 'label'] = 1\n",
    "    df.loc[(df['target_15m'] >= threshold), 'label'] = 2\n",
    "    return df\n",
    "\n",
    "def get_na_features(df, train_features):\n",
    "    tmp = pd.DataFrame(df[train_features].isnull().sum())\n",
    "    tmp = tmp[tmp[0] > 0].reset_index()\n",
    "    tmp.columns = ['feat', 'cnt']\n",
    "    tmp = tmp.sort_values('cnt')\n",
    "    feat_groups = dict(tmp.groupby('cnt')['feat'].agg(lambda x: list(x)))\n",
    "    return feat_groups\n",
    "\n",
    "def normalize_float_columns(df, features):\n",
    "  float_cols = df[features].select_dtypes(include = [float]).columns\n",
    "  grouped_df = df.groupby(['token'])\n",
    "  for col in float_cols:\n",
    "      df[col] = grouped_df[col].transform(lambda x: (x - x.mean()) / (x.std()))\n",
    "  df[float_cols] = (df[float_cols].replace([np.inf, -np.inf], np.nan).fillna(0.0))\n",
    "  return df\n",
    "\n",
    "class Params: pass\n",
    "param = Params()"
   ],
   "metadata": {
    "collapsed": false,
    "pycharm": {
     "name": "#%%\n"
    }
   }
  },
  {
   "cell_type": "code",
   "execution_count": 2,
   "outputs": [],
   "source": [
    "df = pd.read_feather('../data/df_btc_eth_with_features.feather')\n",
    "cols_to_drop = ['open_time', 'close_time', 'ignore',\n",
    "                'create_time', 'symbol', 'returns', 'returns_5m',\n",
    "                'open', 'high', 'low', 'close', 'target_15m', 'label']"
   ],
   "metadata": {
    "collapsed": false,
    "pycharm": {
     "name": "#%%\n"
    }
   }
  },
  {
   "cell_type": "code",
   "execution_count": 3,
   "outputs": [],
   "source": [
    "start_time = df['open_time'].min()\n",
    "end_time = df['open_time'].max()\n",
    "dates = df['open_time'].unique()\n",
    "n = len(dates)\n",
    "train_idx = int(0.7 * n)\n",
    "valid_idx = int(0.2 * n)\n",
    "train_end = dates[train_idx]\n",
    "valid_end = dates[valid_idx]\n",
    "train_df = df.loc[df['open_time'] < train_end].reset_index(drop=True)"
   ],
   "metadata": {
    "collapsed": false,
    "pycharm": {
     "name": "#%%\n"
    }
   }
  },
  {
   "cell_type": "code",
   "execution_count": 6,
   "outputs": [],
   "source": [
    "train_features = [x for x in df.columns if (x not in cols_to_drop)]\n",
    "\n",
    "train_df['token'] = train_df['token'].astype('category').cat.codes\n",
    "object_cols = train_df[train_features].select_dtypes(include=object).columns\n",
    "train_df[object_cols] = train_df[object_cols].astype(float)\n",
    "\n",
    "nan_features = get_na_features(train_df, train_features)\n",
    "grouped_train = train_df.groupby(['token'])\n",
    "for k, v in nan_features.items():\n",
    "    for value in v:\n",
    "        train_df[value] = grouped_train[value].transform(lambda x: x.ffill().fillna(0.0))\n",
    "\n",
    "feature_cols = pd.DataFrame(train_features)\n",
    "dtype_df = pd.DataFrame(train_df[train_features].select_dtypes(exclude=[float]).columns)\n",
    "train_features = [x for x in train_features if x not in dtype_df.values]"
   ],
   "metadata": {
    "collapsed": false,
    "pycharm": {
     "name": "#%%\n"
    }
   }
  },
  {
   "cell_type": "code",
   "execution_count": 8,
   "outputs": [],
   "source": [
    "float_cols = train_df[train_features].select_dtypes(include = [float]).columns\n",
    "grouped_df = train_df.groupby(['token'])\n",
    "train_df[float_cols] = (train_df[float_cols].replace([np.inf, -np.inf], np.nan).fillna(0.0))"
   ],
   "metadata": {
    "collapsed": false,
    "pycharm": {
     "name": "#%%\n"
    }
   }
  },
  {
   "cell_type": "code",
   "execution_count": null,
   "outputs": [],
   "source": [],
   "metadata": {
    "collapsed": false,
    "pycharm": {
     "name": "#%%\n"
    }
   }
  }
 ],
 "metadata": {
  "kernelspec": {
   "display_name": "Python 3",
   "language": "python",
   "name": "python3"
  },
  "language_info": {
   "codemirror_mode": {
    "name": "ipython",
    "version": 2
   },
   "file_extension": ".py",
   "mimetype": "text/x-python",
   "name": "python",
   "nbconvert_exporter": "python",
   "pygments_lexer": "ipython2",
   "version": "2.7.6"
  }
 },
 "nbformat": 4,
 "nbformat_minor": 0
}