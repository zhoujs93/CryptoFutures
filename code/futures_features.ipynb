{
 "cells": [
  {
   "cell_type": "code",
   "execution_count": 1,
   "metadata": {
    "collapsed": true,
    "pycharm": {
     "name": "#%%\n"
    }
   },
   "outputs": [],
   "source": [
    "from binance_historical_data import BinanceDataDumper\n",
    "import pandas as pd\n",
    "import pathlib\n",
    "from tqdm import tqdm"
   ]
  },
  {
   "cell_type": "code",
   "execution_count": 9,
   "outputs": [
    {
     "data": {
      "text/plain": "Tickers:   0%|          | 0/1 [00:00<?, ?it/s]",
      "application/vnd.jupyter.widget-view+json": {
       "version_major": 2,
       "version_minor": 0,
       "model_id": "5ec0d4f9c44f4363949999460c4f3f87"
      }
     },
     "metadata": {},
     "output_type": "display_data"
    },
    {
     "data": {
      "text/plain": "monthly files to download:   0%|          | 0/47 [00:00<?, ?files/s]",
      "application/vnd.jupyter.widget-view+json": {
       "version_major": 2,
       "version_minor": 0,
       "model_id": "41ada232af3a4022b940ce55bfba03a1"
      }
     },
     "metadata": {},
     "output_type": "display_data"
    },
    {
     "data": {
      "text/plain": "daily files to download:   0%|          | 0/3 [00:00<?, ?files/s]",
      "application/vnd.jupyter.widget-view+json": {
       "version_major": 2,
       "version_minor": 0,
       "model_id": "2932230ffd134eb59ee9a5e5f515b2c6"
      }
     },
     "metadata": {},
     "output_type": "display_data"
    }
   ],
   "source": [
    "data_dumper = BinanceDataDumper(\n",
    "    path_dir_where_to_dump = '../data/',\n",
    "    asset_class = 'um',\n",
    "    data_type = 'fundingRate',\n",
    "    data_frequency = '5m'\n",
    ")\n",
    "x = data_dumper.dump_data(\n",
    "    tickers = ['BTCUSDT'],\n",
    "    date_start = None,\n",
    "    date_end = None,\n",
    "    is_to_update_existing = True,\n",
    "    # tickers_to_exclude = [\"UST\"]\n",
    ")"
   ],
   "metadata": {
    "collapsed": false,
    "pycharm": {
     "name": "#%%\n"
    }
   }
  },
  {
   "cell_type": "code",
   "execution_count": null,
   "outputs": [],
   "source": [
    "def process_funding_rate_data(token_lists, time: str):\n",
    "    \"\"\"\n",
    "    futures\n",
    "    :param columns: for data columns\n",
    "    :param token_lists: tokens to get data for\n",
    "    :return:\n",
    "    \"\"\"\n",
    "    path = pathlib.Path.cwd().parent / 'data' / \"futures\" / 'um' / 'monthly' / 'fundingRate'\n",
    "    for token in token_lists:\n",
    "        try:\n",
    "            files = path / token / f'{time}'\n",
    "            csv_files = files.glob('*.csv')\n",
    "            dfs = []\n",
    "            for file in csv_files:\n",
    "                df = pd.read_csv(file, index_col=None, header = 0)\n",
    "                dfs.append(df)\n",
    "            df_all = pd.concat(dfs, axis=0, ignore_index=True)\n",
    "        except Exception as e:\n",
    "            print(f'Error for {token}: {e}')\n",
    "    return df_all"
   ],
   "metadata": {
    "collapsed": false,
    "pycharm": {
     "name": "#%%\n"
    }
   }
  },
  {
   "cell_type": "code",
   "execution_count": 14,
   "outputs": [],
   "source": [
    "def process_funding_data_spot(columns, token : str, time: str):\n",
    "    \"\"\"\n",
    "    futures\n",
    "    :param columns: for data columns\n",
    "    :param token: single token to get data for (ie: BTCUSDT)\n",
    "    :return:\n",
    "    \"\"\"\n",
    "    monthly_path = pathlib.Path.cwd().parent / 'data' / \"futures\" / \"um\" / 'monthly' / 'fundingRate'\n",
    "    all_paths = [monthly_path]\n",
    "    # for token in token_lists:\n",
    "    df_final = []\n",
    "    for path in all_paths:\n",
    "            try:\n",
    "                files = path / token\n",
    "                csv_files = files.glob('*.csv')\n",
    "                dfs = []\n",
    "                for file in tqdm(csv_files):\n",
    "                    df = pd.read_csv(file, index_col=None, header = 0)\n",
    "                    for col in columns:\n",
    "                        df[col] = df[col].astype(float)\n",
    "                    dfs.append(df)\n",
    "                print(len(dfs))\n",
    "                df_all = pd.concat(dfs, axis=0, ignore_index=True)\n",
    "                df_all = df_all.rename({'calc_time' : 'open_time'}, axis = 1)\n",
    "                df_final.append(df_all)\n",
    "            except Exception as e:\n",
    "                print(f'Error for {token}: {e}')\n",
    "    df_final = pd.concat(df_final, axis = 0)\n",
    "    df_final = df_final.drop_duplicates(subset = ['open_time'])\n",
    "    return df_final\n",
    "\n",
    "from ta import add_all_ta_features\n",
    "def load_funding_rate_data(universe, columns, save = True, time = '1m'):\n",
    "    dfs = {}\n",
    "    sample = {}\n",
    "    for token in tqdm(universe):\n",
    "        df = process_funding_data_spot(columns, token, time)\n",
    "        df['open_time'] = pd.to_datetime(df['open_time'], unit = 'ms')\n",
    "        df['token'] = token\n",
    "        df = df.sort_values(by = 'open_time', ignore_index = True)\n",
    "        if save:\n",
    "            df.to_feather(f'../data/processed_data/{token}_fundingrate.feather')\n",
    "        dfs[token] = df\n",
    "    return dfs"
   ],
   "metadata": {
    "collapsed": false,
    "pycharm": {
     "name": "#%%\n"
    }
   }
  },
  {
   "cell_type": "code",
   "execution_count": 15,
   "outputs": [
    {
     "name": "stderr",
     "output_type": "stream",
     "text": [
      "  0%|          | 0/1 [00:00<?, ?it/s]\n",
      "47it [00:00, 699.79it/s]\n",
      "100%|██████████| 1/1 [00:00<00:00, 12.96it/s]"
     ]
    },
    {
     "name": "stdout",
     "output_type": "stream",
     "text": [
      "47\n"
     ]
    },
    {
     "name": "stderr",
     "output_type": "stream",
     "text": [
      "\n"
     ]
    }
   ],
   "source": [
    "columns = ['calc_time', 'funding_interval_hours', 'last_funding_rate']\n",
    "universe = ['BTCUSDT']\n",
    "\n",
    "df = load_funding_rate_data(universe, columns, save = False)"
   ],
   "metadata": {
    "collapsed": false,
    "pycharm": {
     "name": "#%%\n"
    }
   }
  },
  {
   "cell_type": "code",
   "execution_count": 18,
   "outputs": [
    {
     "name": "stderr",
     "output_type": "stream",
     "text": [
      "/Users/johnz/anaconda3/envs/python310/lib/python3.10/site-packages/pyarrow/pandas_compat.py:373: FutureWarning: is_sparse is deprecated and will be removed in a future version. Check `isinstance(dtype, pd.SparseDtype)` instead.\n",
      "  if _pandas_api.is_sparse(col):\n"
     ]
    }
   ],
   "source": [
    "df['BTCUSDT'].to_feather('../data/df_btc_funding_rate.feather')"
   ],
   "metadata": {
    "collapsed": false,
    "pycharm": {
     "name": "#%%\n"
    }
   }
  },
  {
   "cell_type": "code",
   "execution_count": null,
   "outputs": [],
   "source": [],
   "metadata": {
    "collapsed": false,
    "pycharm": {
     "name": "#%%\n"
    }
   }
  }
 ],
 "metadata": {
  "kernelspec": {
   "display_name": "Python 3",
   "language": "python",
   "name": "python3"
  },
  "language_info": {
   "codemirror_mode": {
    "name": "ipython",
    "version": 2
   },
   "file_extension": ".py",
   "mimetype": "text/x-python",
   "name": "python",
   "nbconvert_exporter": "python",
   "pygments_lexer": "ipython2",
   "version": "2.7.6"
  }
 },
 "nbformat": 4,
 "nbformat_minor": 0
}