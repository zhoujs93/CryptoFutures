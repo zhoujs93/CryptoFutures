{
 "cells": [
  {
   "cell_type": "code",
   "execution_count": 2,
   "metadata": {
    "scrolled": true
   },
   "outputs": [
    {
     "name": "stdout",
     "output_type": "stream",
     "text": [
      "Requirement already satisfied: pip in /usr/local/lib/python3.10/dist-packages (23.3.1)\n",
      "\u001b[33mWARNING: Running pip as the 'root' user can result in broken permissions and conflicting behaviour with the system package manager. It is recommended to use a virtual environment instead: https://pip.pypa.io/warnings/venv\u001b[0m\u001b[33m\n",
      "\u001b[0mCollecting sktime\n",
      "  Downloading sktime-0.24.1-py3-none-any.whl.metadata (29 kB)\n",
      "Collecting pyarrow\n",
      "  Downloading pyarrow-14.0.1-cp310-cp310-manylinux_2_28_x86_64.whl.metadata (3.0 kB)\n",
      "Collecting joblib\n",
      "  Downloading joblib-1.3.2-py3-none-any.whl.metadata (5.4 kB)\n",
      "Collecting scikit-learn\n",
      "  Downloading scikit_learn-1.3.2-cp310-cp310-manylinux_2_17_x86_64.manylinux2014_x86_64.whl.metadata (11 kB)\n",
      "Collecting pandas\n",
      "  Downloading pandas-2.1.3-cp310-cp310-manylinux_2_17_x86_64.manylinux2014_x86_64.whl.metadata (18 kB)\n",
      "Requirement already satisfied: numpy<1.27,>=1.21 in /usr/local/lib/python3.10/dist-packages (from sktime) (1.24.1)\n",
      "Requirement already satisfied: packaging in /usr/local/lib/python3.10/dist-packages (from sktime) (23.2)\n",
      "Collecting scikit-base<0.7.0 (from sktime)\n",
      "  Downloading scikit_base-0.6.1-py3-none-any.whl.metadata (8.7 kB)\n",
      "Collecting scipy<2.0.0,>=1.2 (from sktime)\n",
      "  Downloading scipy-1.11.4-cp310-cp310-manylinux_2_17_x86_64.manylinux2014_x86_64.whl.metadata (60 kB)\n",
      "\u001b[2K     \u001b[90m━━━━━━━━━━━━━━━━━━━━━━━━━━━━━━━━━━━━━━━━\u001b[0m \u001b[32m60.4/60.4 kB\u001b[0m \u001b[31m6.4 MB/s\u001b[0m eta \u001b[36m0:00:00\u001b[0m\n",
      "\u001b[?25hCollecting threadpoolctl>=2.0.0 (from scikit-learn)\n",
      "  Downloading threadpoolctl-3.2.0-py3-none-any.whl.metadata (10.0 kB)\n",
      "Requirement already satisfied: python-dateutil>=2.8.2 in /usr/local/lib/python3.10/dist-packages (from pandas) (2.8.2)\n",
      "Collecting pytz>=2020.1 (from pandas)\n",
      "  Downloading pytz-2023.3.post1-py2.py3-none-any.whl.metadata (22 kB)\n",
      "Collecting tzdata>=2022.1 (from pandas)\n",
      "  Downloading tzdata-2023.3-py2.py3-none-any.whl (341 kB)\n",
      "\u001b[2K     \u001b[90m━━━━━━━━━━━━━━━━━━━━━━━━━━━━━━━━━━━━━━━\u001b[0m \u001b[32m341.8/341.8 kB\u001b[0m \u001b[31m5.5 MB/s\u001b[0m eta \u001b[36m0:00:00\u001b[0ma \u001b[36m0:00:01\u001b[0m\n",
      "\u001b[?25hRequirement already satisfied: six>=1.5 in /usr/lib/python3/dist-packages (from python-dateutil>=2.8.2->pandas) (1.16.0)\n",
      "Downloading sktime-0.24.1-py3-none-any.whl (20.7 MB)\n",
      "\u001b[2K   \u001b[90m━━━━━━━━━━━━━━━━━━━━━━━━━━━━━━━━━━━━━━━━\u001b[0m \u001b[32m20.7/20.7 MB\u001b[0m \u001b[31m7.0 MB/s\u001b[0m eta \u001b[36m0:00:00\u001b[0m00:01\u001b[0m00:01\u001b[0m\n",
      "\u001b[?25hDownloading pyarrow-14.0.1-cp310-cp310-manylinux_2_28_x86_64.whl (38.0 MB)\n",
      "\u001b[2K   \u001b[90m━━━━━━━━━━━━━━━━━━━━━━━━━━━━━━━━━━━━━━━━\u001b[0m \u001b[32m38.0/38.0 MB\u001b[0m \u001b[31m10.9 MB/s\u001b[0m eta \u001b[36m0:00:00\u001b[0m00:01\u001b[0m00:01\u001b[0m\n",
      "\u001b[?25hDownloading joblib-1.3.2-py3-none-any.whl (302 kB)\n",
      "\u001b[2K   \u001b[90m━━━━━━━━━━━━━━━━━━━━━━━━━━━━━━━━━━━━━━━━\u001b[0m \u001b[32m302.2/302.2 kB\u001b[0m \u001b[31m19.7 MB/s\u001b[0m eta \u001b[36m0:00:00\u001b[0m\n",
      "\u001b[?25hDownloading scikit_learn-1.3.2-cp310-cp310-manylinux_2_17_x86_64.manylinux2014_x86_64.whl (10.8 MB)\n",
      "\u001b[2K   \u001b[90m━━━━━━━━━━━━━━━━━━━━━━━━━━━━━━━━━━━━━━━━\u001b[0m \u001b[32m10.8/10.8 MB\u001b[0m \u001b[31m12.5 MB/s\u001b[0m eta \u001b[36m0:00:00\u001b[0m00:01\u001b[0m00:01\u001b[0m\n",
      "\u001b[?25hDownloading pandas-2.1.3-cp310-cp310-manylinux_2_17_x86_64.manylinux2014_x86_64.whl (12.3 MB)\n",
      "\u001b[2K   \u001b[90m━━━━━━━━━━━━━━━━━━━━━━━━━━━━━━━━━━━━━━━━\u001b[0m \u001b[32m12.3/12.3 MB\u001b[0m \u001b[31m13.5 MB/s\u001b[0m eta \u001b[36m0:00:00\u001b[0m00:01\u001b[0m00:01\u001b[0m\n",
      "\u001b[?25hDownloading pytz-2023.3.post1-py2.py3-none-any.whl (502 kB)\n",
      "\u001b[2K   \u001b[90m━━━━━━━━━━━━━━━━━━━━━━━━━━━━━━━━━━━━━━━━\u001b[0m \u001b[32m502.5/502.5 kB\u001b[0m \u001b[31m12.6 MB/s\u001b[0m eta \u001b[36m0:00:00\u001b[0m00:01\u001b[0m\n",
      "\u001b[?25hDownloading scikit_base-0.6.1-py3-none-any.whl (122 kB)\n",
      "\u001b[2K   \u001b[90m━━━━━━━━━━━━━━━━━━━━━━━━━━━━━━━━━━━━━━━━\u001b[0m \u001b[32m122.4/122.4 kB\u001b[0m \u001b[31m33.4 MB/s\u001b[0m eta \u001b[36m0:00:00\u001b[0m\n",
      "\u001b[?25hDownloading scipy-1.11.4-cp310-cp310-manylinux_2_17_x86_64.manylinux2014_x86_64.whl (36.4 MB)\n",
      "\u001b[2K   \u001b[90m━━━━━━━━━━━━━━━━━━━━━━━━━━━━━━━━━━━━━━━━\u001b[0m \u001b[32m36.4/36.4 MB\u001b[0m \u001b[31m15.0 MB/s\u001b[0m eta \u001b[36m0:00:00\u001b[0m00:01\u001b[0m00:01\u001b[0m\n",
      "\u001b[?25hDownloading threadpoolctl-3.2.0-py3-none-any.whl (15 kB)\n",
      "Installing collected packages: pytz, tzdata, threadpoolctl, scipy, scikit-base, pyarrow, joblib, scikit-learn, pandas, sktime\n",
      "Successfully installed joblib-1.3.2 pandas-2.1.3 pyarrow-14.0.1 pytz-2023.3.post1 scikit-base-0.6.1 scikit-learn-1.3.2 scipy-1.11.4 sktime-0.24.1 threadpoolctl-3.2.0 tzdata-2023.3\n",
      "\u001b[33mWARNING: Running pip as the 'root' user can result in broken permissions and conflicting behaviour with the system package manager. It is recommended to use a virtual environment instead: https://pip.pypa.io/warnings/venv\u001b[0m\u001b[33m\n",
      "\u001b[0m"
     ]
    }
   ],
   "source": [
    "!python3 -m pip install --upgrade pip\n",
    "!pip install sktime pyarrow joblib scikit-learn pandas"
   ]
  },
  {
   "cell_type": "code",
   "execution_count": 27,
   "metadata": {
    "scrolled": true
   },
   "outputs": [
    {
     "name": "stdout",
     "output_type": "stream",
     "text": [
      "Collecting matplotlib\n",
      "  Downloading matplotlib-3.8.2-cp310-cp310-manylinux_2_17_x86_64.manylinux2014_x86_64.whl.metadata (5.8 kB)\n",
      "Collecting contourpy>=1.0.1 (from matplotlib)\n",
      "  Downloading contourpy-1.2.0-cp310-cp310-manylinux_2_17_x86_64.manylinux2014_x86_64.whl.metadata (5.8 kB)\n",
      "Collecting cycler>=0.10 (from matplotlib)\n",
      "  Downloading cycler-0.12.1-py3-none-any.whl.metadata (3.8 kB)\n",
      "Collecting fonttools>=4.22.0 (from matplotlib)\n",
      "  Downloading fonttools-4.46.0-cp310-cp310-manylinux_2_17_x86_64.manylinux2014_x86_64.whl.metadata (156 kB)\n",
      "\u001b[2K     \u001b[90m━━━━━━━━━━━━━━━━━━━━━━━━━━━━━━━━━━━━━━━\u001b[0m \u001b[32m156.2/156.2 kB\u001b[0m \u001b[31m5.5 MB/s\u001b[0m eta \u001b[36m0:00:00\u001b[0m\n",
      "\u001b[?25hCollecting kiwisolver>=1.3.1 (from matplotlib)\n",
      "  Downloading kiwisolver-1.4.5-cp310-cp310-manylinux_2_12_x86_64.manylinux2010_x86_64.whl.metadata (6.4 kB)\n",
      "Requirement already satisfied: numpy<2,>=1.21 in /usr/local/lib/python3.10/dist-packages (from matplotlib) (1.24.1)\n",
      "Requirement already satisfied: packaging>=20.0 in /usr/local/lib/python3.10/dist-packages (from matplotlib) (23.2)\n",
      "Requirement already satisfied: pillow>=8 in /usr/local/lib/python3.10/dist-packages (from matplotlib) (9.3.0)\n",
      "Requirement already satisfied: pyparsing>=2.3.1 in /usr/lib/python3/dist-packages (from matplotlib) (2.4.7)\n",
      "Requirement already satisfied: python-dateutil>=2.7 in /usr/local/lib/python3.10/dist-packages (from matplotlib) (2.8.2)\n",
      "Requirement already satisfied: six>=1.5 in /usr/lib/python3/dist-packages (from python-dateutil>=2.7->matplotlib) (1.16.0)\n",
      "Downloading matplotlib-3.8.2-cp310-cp310-manylinux_2_17_x86_64.manylinux2014_x86_64.whl (11.6 MB)\n",
      "\u001b[2K   \u001b[90m━━━━━━━━━━━━━━━━━━━━━━━━━━━━━━━━━━━━━━━━\u001b[0m \u001b[32m11.6/11.6 MB\u001b[0m \u001b[31m70.2 MB/s\u001b[0m eta \u001b[36m0:00:00\u001b[0ma \u001b[36m0:00:01\u001b[0m\n",
      "\u001b[?25hDownloading contourpy-1.2.0-cp310-cp310-manylinux_2_17_x86_64.manylinux2014_x86_64.whl (310 kB)\n",
      "\u001b[2K   \u001b[90m━━━━━━━━━━━━━━━━━━━━━━━━━━━━━━━━━━━━━━━━\u001b[0m \u001b[32m310.7/310.7 kB\u001b[0m \u001b[31m67.5 MB/s\u001b[0m eta \u001b[36m0:00:00\u001b[0m\n",
      "\u001b[?25hDownloading cycler-0.12.1-py3-none-any.whl (8.3 kB)\n",
      "Downloading fonttools-4.46.0-cp310-cp310-manylinux_2_17_x86_64.manylinux2014_x86_64.whl (4.6 MB)\n",
      "\u001b[2K   \u001b[90m━━━━━━━━━━━━━━━━━━━━━━━━━━━━━━━━━━━━━━━━\u001b[0m \u001b[32m4.6/4.6 MB\u001b[0m \u001b[31m66.3 MB/s\u001b[0m eta \u001b[36m0:00:00\u001b[0ma \u001b[36m0:00:01\u001b[0m\n",
      "\u001b[?25hDownloading kiwisolver-1.4.5-cp310-cp310-manylinux_2_12_x86_64.manylinux2010_x86_64.whl (1.6 MB)\n",
      "\u001b[2K   \u001b[90m━━━━━━━━━━━━━━━━━━━━━━━━━━━━━━━━━━━━━━━━\u001b[0m \u001b[32m1.6/1.6 MB\u001b[0m \u001b[31m122.9 MB/s\u001b[0m eta \u001b[36m0:00:00\u001b[0m\n",
      "\u001b[?25hInstalling collected packages: kiwisolver, fonttools, cycler, contourpy, matplotlib\n",
      "Successfully installed contourpy-1.2.0 cycler-0.12.1 fonttools-4.46.0 kiwisolver-1.4.5 matplotlib-3.8.2\n",
      "\u001b[33mWARNING: Running pip as the 'root' user can result in broken permissions and conflicting behaviour with the system package manager. It is recommended to use a virtual environment instead: https://pip.pypa.io/warnings/venv\u001b[0m\u001b[33m\n",
      "\u001b[0m"
     ]
    }
   ],
   "source": [
    "!pip install matplotlib"
   ]
  },
  {
   "cell_type": "code",
   "execution_count": 4,
   "metadata": {},
   "outputs": [],
   "source": [
    "import pandas as pd"
   ]
  },
  {
   "cell_type": "code",
   "execution_count": 5,
   "metadata": {
    "collapsed": false,
    "jupyter": {
     "outputs_hidden": false
    },
    "pycharm": {
     "name": "#%%\n"
    }
   },
   "outputs": [],
   "source": [
    "df = pd.read_feather('../data/df_btc_with_features_5m_spot.feather')\n",
    "\n",
    "df['target'] = df['close'].pct_change(1)\n",
    "df = df.dropna(subset = ['target'], axis = 0)\n",
    "start_time = df['open_time'].min()\n",
    "end_time = df['open_time'].max()\n",
    "dates = df['open_time'].unique()\n",
    "n = len(dates)\n",
    "train_idx = int(0.7 * n)\n",
    "valid_idx = int(0.9 * n)\n",
    "train_end = dates[train_idx]\n",
    "valid_end = dates[valid_idx]\n",
    "\n",
    "train_df = df.loc[df['open_time'] < train_end].reset_index(drop=True)\n",
    "valid_df = df.loc[(train_end <= df['open_time']) & (df['open_time'] < valid_end)].reset_index(drop=True)\n",
    "\n",
    "# train_df = pd.concat([train_df, valid_df], axis = 0)\n",
    "\n",
    "# test_df = df.loc[(df['open_time'] >= valid_end)].reset_index(drop=True)\n",
    "# valid_df = test_df.copy()"
   ]
  },
  {
   "cell_type": "code",
   "execution_count": 6,
   "metadata": {},
   "outputs": [],
   "source": [
    "window = 30\n",
    "file = f'target_30m_feature.csv'\n",
    "corr = pd.read_csv(f'../output/feature_corr/{file}', header = 0, index_col = 0)"
   ]
  },
  {
   "cell_type": "code",
   "execution_count": 7,
   "metadata": {},
   "outputs": [],
   "source": [
    "train_features = corr.iloc[:50].index.tolist()"
   ]
  },
  {
   "cell_type": "code",
   "execution_count": 8,
   "metadata": {},
   "outputs": [],
   "source": [
    "from sktime.forecasting.base import ForecastingHorizon\n",
    "from sktime.forecasting.ltsf import LTSFLinearForecaster \n",
    "from sktime.regression.deep_learning.cnn import CNNRegressor"
   ]
  },
  {
   "cell_type": "code",
   "execution_count": 9,
   "metadata": {},
   "outputs": [],
   "source": [
    "def normalize_float_columns(df, features):\n",
    "  float_cols = df[features].select_dtypes(include = [float]).columns\n",
    "  means = df[float_cols].mean().astype('float32')\n",
    "  std = df[float_cols].std().astype('float32')\n",
    "  df[float_cols] = df[float_cols].ffill().fillna(means)\n",
    "  df[float_cols] = (df[float_cols] - means) / std\n",
    "  return df, means, std"
   ]
  },
  {
   "cell_type": "code",
   "execution_count": 28,
   "metadata": {},
   "outputs": [
    {
     "data": {
      "image/png": "[encoded data removed]",
      "text/plain": [
       "<Figure size 800x400 with 2 Axes>"
      ]
     },
     "metadata": {},
     "output_type": "display_data"
    }
   ],
   "source": [
    "ax = train_df.plot(x = 'open_time', y = ['close', 'target'], subplots = True, sharex = True, figsize = (8, 4))"
   ]
  },
  {
   "cell_type": "markdown",
   "metadata": {},
   "source": [
    "## Naive"
   ]
  },
  {
   "cell_type": "code",
   "execution_count": 43,
   "metadata": {},
   "outputs": [],
   "source": [
    "model = LTSFLinearForecaster(seq_len = 300, pred_len = 100, \n",
    "                             num_epochs = 10, batch_size = 64)"
   ]
  },
  {
   "cell_type": "code",
   "execution_count": 45,
   "metadata": {},
   "outputs": [
    {
     "data": {
      "text/html": [
       "<style>#sk-9ed916df-aff1-47bc-8b47-c9d43866fffa {color: black;background-color: white;}#sk-9ed916df-aff1-47bc-8b47-c9d43866fffa pre{padding: 0;}#sk-9ed916df-aff1-47bc-8b47-c9d43866fffa div.sk-toggleable {background-color: white;}#sk-9ed916df-aff1-47bc-8b47-c9d43866fffa label.sk-toggleable__label {cursor: pointer;display: block;width: 100%;margin-bottom: 0;padding: 0.3em;box-sizing: border-box;text-align: center;}#sk-9ed916df-aff1-47bc-8b47-c9d43866fffa label.sk-toggleable__label-arrow:before {content: \"▸\";float: left;margin-right: 0.25em;color: #696969;}#sk-9ed916df-aff1-47bc-8b47-c9d43866fffa label.sk-toggleable__label-arrow:hover:before {color: black;}#sk-9ed916df-aff1-47bc-8b47-c9d43866fffa div.sk-estimator:hover label.sk-toggleable__label-arrow:before {color: black;}#sk-9ed916df-aff1-47bc-8b47-c9d43866fffa div.sk-toggleable__content {max-height: 0;max-width: 0;overflow: hidden;text-align: left;background-color: #f0f8ff;}#sk-9ed916df-aff1-47bc-8b47-c9d43866fffa div.sk-toggleable__content pre {margin: 0.2em;color: black;border-radius: 0.25em;background-color: #f0f8ff;}#sk-9ed916df-aff1-47bc-8b47-c9d43866fffa input.sk-toggleable__control:checked~div.sk-toggleable__content {max-height: 200px;max-width: 100%;overflow: auto;}#sk-9ed916df-aff1-47bc-8b47-c9d43866fffa input.sk-toggleable__control:checked~label.sk-toggleable__label-arrow:before {content: \"▾\";}#sk-9ed916df-aff1-47bc-8b47-c9d43866fffa div.sk-estimator input.sk-toggleable__control:checked~label.sk-toggleable__label {background-color: #d4ebff;}#sk-9ed916df-aff1-47bc-8b47-c9d43866fffa div.sk-label input.sk-toggleable__control:checked~label.sk-toggleable__label {background-color: #d4ebff;}#sk-9ed916df-aff1-47bc-8b47-c9d43866fffa input.sk-hidden--visually {border: 0;clip: rect(1px 1px 1px 1px);clip: rect(1px, 1px, 1px, 1px);height: 1px;margin: -1px;overflow: hidden;padding: 0;position: absolute;width: 1px;}#sk-9ed916df-aff1-47bc-8b47-c9d43866fffa div.sk-estimator {font-family: monospace;background-color: #f0f8ff;border: 1px dotted black;border-radius: 0.25em;box-sizing: border-box;margin-bottom: 0.5em;}#sk-9ed916df-aff1-47bc-8b47-c9d43866fffa div.sk-estimator:hover {background-color: #d4ebff;}#sk-9ed916df-aff1-47bc-8b47-c9d43866fffa div.sk-parallel-item::after {content: \"\";width: 100%;border-bottom: 1px solid gray;flex-grow: 1;}#sk-9ed916df-aff1-47bc-8b47-c9d43866fffa div.sk-label:hover label.sk-toggleable__label {background-color: #d4ebff;}#sk-9ed916df-aff1-47bc-8b47-c9d43866fffa div.sk-serial::before {content: \"\";position: absolute;border-left: 1px solid gray;box-sizing: border-box;top: 2em;bottom: 0;left: 50%;}#sk-9ed916df-aff1-47bc-8b47-c9d43866fffa div.sk-serial {display: flex;flex-direction: column;align-items: center;background-color: white;padding-right: 0.2em;padding-left: 0.2em;}#sk-9ed916df-aff1-47bc-8b47-c9d43866fffa div.sk-item {z-index: 1;}#sk-9ed916df-aff1-47bc-8b47-c9d43866fffa div.sk-parallel {display: flex;align-items: stretch;justify-content: center;background-color: white;}#sk-9ed916df-aff1-47bc-8b47-c9d43866fffa div.sk-parallel::before {content: \"\";position: absolute;border-left: 1px solid gray;box-sizing: border-box;top: 2em;bottom: 0;left: 50%;}#sk-9ed916df-aff1-47bc-8b47-c9d43866fffa div.sk-parallel-item {display: flex;flex-direction: column;position: relative;background-color: white;}#sk-9ed916df-aff1-47bc-8b47-c9d43866fffa div.sk-parallel-item:first-child::after {align-self: flex-end;width: 50%;}#sk-9ed916df-aff1-47bc-8b47-c9d43866fffa div.sk-parallel-item:last-child::after {align-self: flex-start;width: 50%;}#sk-9ed916df-aff1-47bc-8b47-c9d43866fffa div.sk-parallel-item:only-child::after {width: 0;}#sk-9ed916df-aff1-47bc-8b47-c9d43866fffa div.sk-dashed-wrapped {border: 1px dashed gray;margin: 0 0.4em 0.5em 0.4em;box-sizing: border-box;padding-bottom: 0.4em;background-color: white;position: relative;}#sk-9ed916df-aff1-47bc-8b47-c9d43866fffa div.sk-label label {font-family: monospace;font-weight: bold;background-color: white;display: inline-block;line-height: 1.2em;}#sk-9ed916df-aff1-47bc-8b47-c9d43866fffa div.sk-label-container {position: relative;z-index: 2;text-align: center;}#sk-9ed916df-aff1-47bc-8b47-c9d43866fffa div.sk-container {/* jupyter's `normalize.less` sets `[hidden] { display: none; }` but bootstrap.min.css set `[hidden] { display: none !important; }` so we also need the `!important` here to be able to override the default hidden behavior on the sphinx rendered scikit-learn.org. See: https://github.com/scikit-learn/scikit-learn/issues/21755 */display: inline-block !important;position: relative;}#sk-9ed916df-aff1-47bc-8b47-c9d43866fffa div.sk-text-repr-fallback {display: none;}</style><div id='sk-9ed916df-aff1-47bc-8b47-c9d43866fffa' class=\"sk-top-container\"><div class=\"sk-text-repr-fallback\"><pre>LTSFLinearForecaster(batch_size=64, num_epochs=10, pred_len=100, seq_len=300)</pre><b>Please rerun this cell to show the HTML repr or trust the notebook.</b></div><div class=\"sk-container\" hidden><div class='sk-item'><div class=\"sk-estimator sk-toggleable\"><input class=\"sk-toggleable__control sk-hidden--visually\" id=UUID('69d8bf66-031f-4aab-bca0-733f545ce94c') type=\"checkbox\" checked><label for=UUID('69d8bf66-031f-4aab-bca0-733f545ce94c') class='sk-toggleable__label sk-toggleable__label-arrow'>LTSFLinearForecaster</label><div class=\"sk-toggleable__content\"><pre>LTSFLinearForecaster(batch_size=64, num_epochs=10, pred_len=100, seq_len=300)</pre></div></div></div></div></div>"
      ],
      "text/plain": [
       "LTSFLinearForecaster(batch_size=64, num_epochs=10, pred_len=100, seq_len=300)"
      ]
     },
     "execution_count": 45,
     "metadata": {},
     "output_type": "execute_result"
    }
   ],
   "source": [
    "model.fit(y, fh = fh)"
   ]
  },
  {
   "cell_type": "code",
   "execution_count": 48,
   "metadata": {},
   "outputs": [
    {
     "ename": "ValueError",
     "evalue": "A different forecasting horizon `fh` has been provided from the one seen already in `fit`, in this instance of LTSFLinearForecaster. If you want to change the forecasting horizon, please re-fit the forecaster. This is because fitting of the forecaster LTSFLinearForecaster depends on `fh`. ",
     "output_type": "error",
     "traceback": [
      "\u001b[0;31m---------------------------------------------------------------------------\u001b[0m",
      "\u001b[0;31mValueError\u001b[0m                                Traceback (most recent call last)",
      "Cell \u001b[0;32mIn[48], line 1\u001b[0m\n\u001b[0;32m----> 1\u001b[0m ypred \u001b[38;5;241m=\u001b[39m \u001b[43mmodel\u001b[49m\u001b[38;5;241;43m.\u001b[39;49m\u001b[43mpredict\u001b[49m\u001b[43m(\u001b[49m\u001b[43mfh\u001b[49m\u001b[43m \u001b[49m\u001b[38;5;241;43m=\u001b[39;49m\u001b[43m \u001b[49m\u001b[43mnp\u001b[49m\u001b[38;5;241;43m.\u001b[39;49m\u001b[43marange\u001b[49m\u001b[43m(\u001b[49m\u001b[38;5;241;43m2\u001b[39;49m\u001b[43m,\u001b[49m\u001b[38;5;241;43m102\u001b[39;49m\u001b[43m)\u001b[49m\u001b[43m)\u001b[49m\n",
      "File \u001b[0;32m/usr/local/lib/python3.10/dist-packages/sktime/forecasting/base/_base.py:431\u001b[0m, in \u001b[0;36mpredict\u001b[0;34m(self, fh, X)\u001b[0m\n\u001b[1;32m    419\u001b[0m \u001b[38;5;28;01mdef\u001b[39;00m \u001b[38;5;21mfit_predict\u001b[39m(\u001b[38;5;28mself\u001b[39m, y, X\u001b[38;5;241m=\u001b[39m\u001b[38;5;28;01mNone\u001b[39;00m, fh\u001b[38;5;241m=\u001b[39m\u001b[38;5;28;01mNone\u001b[39;00m):\n\u001b[1;32m    420\u001b[0m \u001b[38;5;250m    \u001b[39m\u001b[38;5;124;03m\"\"\"Fit and forecast time series at future horizon.\u001b[39;00m\n\u001b[1;32m    421\u001b[0m \n\u001b[1;32m    422\u001b[0m \u001b[38;5;124;03m    State change:\u001b[39;00m\n\u001b[1;32m    423\u001b[0m \u001b[38;5;124;03m        Changes state to \"fitted\".\u001b[39;00m\n\u001b[1;32m    424\u001b[0m \n\u001b[1;32m    425\u001b[0m \u001b[38;5;124;03m    Writes to self:\u001b[39;00m\n\u001b[1;32m    426\u001b[0m \u001b[38;5;124;03m        Sets is_fitted flag to True.\u001b[39;00m\n\u001b[1;32m    427\u001b[0m \u001b[38;5;124;03m        Writes self._y and self._X with `y` and `X`, respectively.\u001b[39;00m\n\u001b[1;32m    428\u001b[0m \u001b[38;5;124;03m        Sets self.cutoff and self._cutoff to last index seen in `y`.\u001b[39;00m\n\u001b[1;32m    429\u001b[0m \u001b[38;5;124;03m        Sets fitted model attributes ending in \"_\".\u001b[39;00m\n\u001b[1;32m    430\u001b[0m \u001b[38;5;124;03m        Stores fh to self.fh.\u001b[39;00m\n\u001b[0;32m--> 431\u001b[0m \n\u001b[1;32m    432\u001b[0m \u001b[38;5;124;03m    Parameters\u001b[39;00m\n\u001b[1;32m    433\u001b[0m \u001b[38;5;124;03m    ----------\u001b[39;00m\n\u001b[1;32m    434\u001b[0m \u001b[38;5;124;03m    y : time series in sktime compatible data container format\u001b[39;00m\n\u001b[1;32m    435\u001b[0m \u001b[38;5;124;03m            Time series to which to fit the forecaster.\u001b[39;00m\n\u001b[1;32m    436\u001b[0m \u001b[38;5;124;03m        y can be in one of the following formats:\u001b[39;00m\n\u001b[1;32m    437\u001b[0m \u001b[38;5;124;03m        Series scitype: pd.Series, pd.DataFrame, or np.ndarray (1D or 2D)\u001b[39;00m\n\u001b[1;32m    438\u001b[0m \u001b[38;5;124;03m            for vanilla forecasting, one time series\u001b[39;00m\n\u001b[1;32m    439\u001b[0m \u001b[38;5;124;03m        Panel scitype: pd.DataFrame with 2-level row MultiIndex,\u001b[39;00m\n\u001b[1;32m    440\u001b[0m \u001b[38;5;124;03m            3D np.ndarray, list of Series pd.DataFrame, or nested pd.DataFrame\u001b[39;00m\n\u001b[1;32m    441\u001b[0m \u001b[38;5;124;03m            for global or panel forecasting\u001b[39;00m\n\u001b[1;32m    442\u001b[0m \u001b[38;5;124;03m        Hierarchical scitype: pd.DataFrame with 3 or more level row MultiIndex\u001b[39;00m\n\u001b[1;32m    443\u001b[0m \u001b[38;5;124;03m            for hierarchical forecasting\u001b[39;00m\n\u001b[1;32m    444\u001b[0m \u001b[38;5;124;03m        Number of columns admissible depend on the \"scitype:y\" tag:\u001b[39;00m\n\u001b[1;32m    445\u001b[0m \u001b[38;5;124;03m            if self.get_tag(\"scitype:y\")==\"univariate\":\u001b[39;00m\n\u001b[1;32m    446\u001b[0m \u001b[38;5;124;03m                y must have a single column/variable\u001b[39;00m\n\u001b[1;32m    447\u001b[0m \u001b[38;5;124;03m            if self.get_tag(\"scitype:y\")==\"multivariate\":\u001b[39;00m\n\u001b[1;32m    448\u001b[0m \u001b[38;5;124;03m                y must have 2 or more columns\u001b[39;00m\n\u001b[1;32m    449\u001b[0m \u001b[38;5;124;03m            if self.get_tag(\"scitype:y\")==\"both\": no restrictions on columns apply\u001b[39;00m\n\u001b[1;32m    450\u001b[0m \u001b[38;5;124;03m        For further details:\u001b[39;00m\n\u001b[1;32m    451\u001b[0m \u001b[38;5;124;03m            on usage, see forecasting tutorial examples/01_forecasting.ipynb\u001b[39;00m\n\u001b[1;32m    452\u001b[0m \u001b[38;5;124;03m            on specification of formats, examples/AA_datatypes_and_datasets.ipynb\u001b[39;00m\n\u001b[1;32m    453\u001b[0m \u001b[38;5;124;03m    fh : int, list, np.array or ForecastingHorizon (not optional)\u001b[39;00m\n\u001b[1;32m    454\u001b[0m \u001b[38;5;124;03m        The forecasting horizon encoding the time stamps to forecast at.\u001b[39;00m\n\u001b[1;32m    455\u001b[0m \u001b[38;5;124;03m        if has not been passed in fit, must be passed, not optional\u001b[39;00m\n\u001b[1;32m    456\u001b[0m \u001b[38;5;124;03m    X : time series in sktime compatible format, optional (default=None)\u001b[39;00m\n\u001b[1;32m    457\u001b[0m \u001b[38;5;124;03m            Exogeneous time series to fit to\u001b[39;00m\n\u001b[1;32m    458\u001b[0m \u001b[38;5;124;03m        Should be of same scitype (Series, Panel, or Hierarchical) as y in fit\u001b[39;00m\n\u001b[1;32m    459\u001b[0m \u001b[38;5;124;03m        if self.get_tag(\"X-y-must-have-same-index\"),\u001b[39;00m\n\u001b[1;32m    460\u001b[0m \u001b[38;5;124;03m            X.index must contain fh.index and y.index both\u001b[39;00m\n\u001b[1;32m    461\u001b[0m \n\u001b[1;32m    462\u001b[0m \u001b[38;5;124;03m    Returns\u001b[39;00m\n\u001b[1;32m    463\u001b[0m \u001b[38;5;124;03m    -------\u001b[39;00m\n\u001b[1;32m    464\u001b[0m \u001b[38;5;124;03m    y_pred : time series in sktime compatible data container format\u001b[39;00m\n\u001b[1;32m    465\u001b[0m \u001b[38;5;124;03m        Point forecasts at fh, with same index as fh\u001b[39;00m\n\u001b[1;32m    466\u001b[0m \u001b[38;5;124;03m        y_pred has same type as the y that has been passed most recently:\u001b[39;00m\n\u001b[1;32m    467\u001b[0m \u001b[38;5;124;03m            Series, Panel, Hierarchical scitype, same format (see above)\u001b[39;00m\n\u001b[1;32m    468\u001b[0m \u001b[38;5;124;03m    \"\"\"\u001b[39;00m\n\u001b[1;32m    469\u001b[0m     \u001b[38;5;66;03m# if fit is called, fitted state is re-set\u001b[39;00m\n\u001b[1;32m    470\u001b[0m     \u001b[38;5;28mself\u001b[39m\u001b[38;5;241m.\u001b[39m_is_fitted \u001b[38;5;241m=\u001b[39m \u001b[38;5;28;01mFalse\u001b[39;00m\n",
      "File \u001b[0;32m/usr/local/lib/python3.10/dist-packages/sktime/forecasting/base/_base.py:1736\u001b[0m, in \u001b[0;36m_check_fh\u001b[0;34m(self, fh)\u001b[0m\n\u001b[1;32m   1727\u001b[0m \u001b[38;5;250m\u001b[39m\u001b[38;5;124;03m\"\"\"Vectorized/iterated loop over method of BaseForecaster.\u001b[39;00m\n\u001b[1;32m   1728\u001b[0m \n\u001b[1;32m   1729\u001b[0m \u001b[38;5;124;03mUses forecasters_ attribute to store one forecaster per loop index.\u001b[39;00m\n\u001b[1;32m   1730\u001b[0m \u001b[38;5;124;03m\"\"\"\u001b[39;00m\n\u001b[1;32m   1731\u001b[0m FIT_METHODS \u001b[38;5;241m=\u001b[39m [\u001b[38;5;124m\"\u001b[39m\u001b[38;5;124mfit\u001b[39m\u001b[38;5;124m\"\u001b[39m, \u001b[38;5;124m\"\u001b[39m\u001b[38;5;124mupdate\u001b[39m\u001b[38;5;124m\"\u001b[39m]\n\u001b[1;32m   1732\u001b[0m PREDICT_METHODS \u001b[38;5;241m=\u001b[39m [\n\u001b[1;32m   1733\u001b[0m     \u001b[38;5;124m\"\u001b[39m\u001b[38;5;124mpredict\u001b[39m\u001b[38;5;124m\"\u001b[39m,\n\u001b[1;32m   1734\u001b[0m     \u001b[38;5;124m\"\u001b[39m\u001b[38;5;124mupdate_predict_single\u001b[39m\u001b[38;5;124m\"\u001b[39m,\n\u001b[1;32m   1735\u001b[0m     \u001b[38;5;124m\"\u001b[39m\u001b[38;5;124mpredict_quantiles\u001b[39m\u001b[38;5;124m\"\u001b[39m,\n\u001b[0;32m-> 1736\u001b[0m     \u001b[38;5;124m\"\u001b[39m\u001b[38;5;124mpredict_interval\u001b[39m\u001b[38;5;124m\"\u001b[39m,\n\u001b[1;32m   1737\u001b[0m     \u001b[38;5;124m\"\u001b[39m\u001b[38;5;124mpredict_var\u001b[39m\u001b[38;5;124m\"\u001b[39m,\n\u001b[1;32m   1738\u001b[0m ]\n\u001b[1;32m   1740\u001b[0m \u001b[38;5;66;03m# retrieve data arguments\u001b[39;00m\n\u001b[1;32m   1741\u001b[0m X \u001b[38;5;241m=\u001b[39m kwargs\u001b[38;5;241m.\u001b[39mpop(\u001b[38;5;124m\"\u001b[39m\u001b[38;5;124mX\u001b[39m\u001b[38;5;124m\"\u001b[39m, \u001b[38;5;28;01mNone\u001b[39;00m)\n",
      "\u001b[0;31mValueError\u001b[0m: A different forecasting horizon `fh` has been provided from the one seen already in `fit`, in this instance of LTSFLinearForecaster. If you want to change the forecasting horizon, please re-fit the forecaster. This is because fitting of the forecaster LTSFLinearForecaster depends on `fh`. "
     ]
    }
   ],
   "source": [
    "ypred = model.predict("
   ]
  },
  {
   "cell_type": "code",
   "execution_count": 47,
   "metadata": {},
   "outputs": [
    {
     "data": {
      "text/plain": [
       "461647   -0.000467\n",
       "461648   -0.000142\n",
       "461649   -0.000460\n",
       "461650   -0.000321\n",
       "461651   -0.000184\n",
       "            ...   \n",
       "461742    0.000011\n",
       "461743   -0.000290\n",
       "461744   -0.000057\n",
       "461745   -0.000025\n",
       "461746   -0.000188\n",
       "Name: target, Length: 100, dtype: float32"
      ]
     },
     "execution_count": 47,
     "metadata": {},
     "output_type": "execute_result"
    }
   ],
   "source": [
    "ypred"
   ]
  },
  {
   "cell_type": "code",
   "execution_count": 11,
   "metadata": {},
   "outputs": [],
   "source": [
    "X, means, std = normalize_float_columns(train_df, train_features)"
   ]
  },
  {
   "cell_type": "code",
   "execution_count": 23,
   "metadata": {},
   "outputs": [],
   "source": [
    "import numpy as np\n",
    "from sktime.forecasting.naive import NaiveForecaster\n",
    "fh = np.arange(1, 101)"
   ]
  },
  {
   "cell_type": "code",
   "execution_count": 24,
   "metadata": {},
   "outputs": [],
   "source": [
    "y = train_df['target']"
   ]
  },
  {
   "cell_type": "code",
   "execution_count": 22,
   "metadata": {},
   "outputs": [],
   "source": [
    "naive = NaiveForecaster(strategy = 'last')\n"
   ]
  },
  {
   "cell_type": "code",
   "execution_count": 41,
   "metadata": {},
   "outputs": [],
   "source": [
    "from sktime.registry import all_estimators\n",
    "\n",
    "forecaster_list = all_estimators(filter_tags={\"ignores-exogeneous-X\": 0}, as_dataframe = True)"
   ]
  },
  {
   "cell_type": "code",
   "execution_count": 42,
   "metadata": {},
   "outputs": [
    {
     "data": {
      "text/html": [
       "<div>\n",
       "<style scoped>\n",
       "    .dataframe tbody tr th:only-of-type {\n",
       "        vertical-align: middle;\n",
       "    }\n",
       "\n",
       "    .dataframe tbody tr th {\n",
       "        vertical-align: top;\n",
       "    }\n",
       "\n",
       "    .dataframe thead th {\n",
       "        text-align: right;\n",
       "    }\n",
       "</style>\n",
       "<table border=\"1\" class=\"dataframe\">\n",
       "  <thead>\n",
       "    <tr style=\"text-align: right;\">\n",
       "      <th></th>\n",
       "      <th>name</th>\n",
       "      <th>object</th>\n",
       "    </tr>\n",
       "  </thead>\n",
       "  <tbody>\n",
       "    <tr>\n",
       "      <th>0</th>\n",
       "      <td>ARDL</td>\n",
       "      <td>&lt;class 'sktime.forecasting.ardl.ARDL'&gt;</td>\n",
       "    </tr>\n",
       "    <tr>\n",
       "      <th>1</th>\n",
       "      <td>ARIMA</td>\n",
       "      <td>&lt;class 'sktime.forecasting.arima.ARIMA'&gt;</td>\n",
       "    </tr>\n",
       "    <tr>\n",
       "      <th>2</th>\n",
       "      <td>AutoARIMA</td>\n",
       "      <td>&lt;class 'sktime.forecasting.arima.AutoARIMA'&gt;</td>\n",
       "    </tr>\n",
       "    <tr>\n",
       "      <th>3</th>\n",
       "      <td>AutoEnsembleForecaster</td>\n",
       "      <td>&lt;class 'sktime.forecasting.compose._ensemble.A...</td>\n",
       "    </tr>\n",
       "    <tr>\n",
       "      <th>4</th>\n",
       "      <td>AutoREG</td>\n",
       "      <td>&lt;class 'sktime.forecasting.auto_reg.AutoREG'&gt;</td>\n",
       "    </tr>\n",
       "    <tr>\n",
       "      <th>5</th>\n",
       "      <td>ColumnEnsembleForecaster</td>\n",
       "      <td>&lt;class 'sktime.forecasting.compose._column_ens...</td>\n",
       "    </tr>\n",
       "    <tr>\n",
       "      <th>6</th>\n",
       "      <td>ConformalIntervals</td>\n",
       "      <td>&lt;class 'sktime.forecasting.conformal.Conformal...</td>\n",
       "    </tr>\n",
       "    <tr>\n",
       "      <th>7</th>\n",
       "      <td>Croston</td>\n",
       "      <td>&lt;class 'sktime.forecasting.croston.Croston'&gt;</td>\n",
       "    </tr>\n",
       "    <tr>\n",
       "      <th>8</th>\n",
       "      <td>DirectTabularRegressionForecaster</td>\n",
       "      <td>&lt;class 'sktime.forecasting.compose._reduce.Dir...</td>\n",
       "    </tr>\n",
       "    <tr>\n",
       "      <th>9</th>\n",
       "      <td>DirectTimeSeriesRegressionForecaster</td>\n",
       "      <td>&lt;class 'sktime.forecasting.compose._reduce.Dir...</td>\n",
       "    </tr>\n",
       "    <tr>\n",
       "      <th>10</th>\n",
       "      <td>DontUpdate</td>\n",
       "      <td>&lt;class 'sktime.forecasting.stream._update.Dont...</td>\n",
       "    </tr>\n",
       "    <tr>\n",
       "      <th>11</th>\n",
       "      <td>DynamicFactor</td>\n",
       "      <td>&lt;class 'sktime.forecasting.dynamic_factor.Dyna...</td>\n",
       "    </tr>\n",
       "    <tr>\n",
       "      <th>12</th>\n",
       "      <td>EnsembleForecaster</td>\n",
       "      <td>&lt;class 'sktime.forecasting.compose._ensemble.E...</td>\n",
       "    </tr>\n",
       "    <tr>\n",
       "      <th>13</th>\n",
       "      <td>FhPlexForecaster</td>\n",
       "      <td>&lt;class 'sktime.forecasting.compose._fhplex.FhP...</td>\n",
       "    </tr>\n",
       "    <tr>\n",
       "      <th>14</th>\n",
       "      <td>ForecastByLevel</td>\n",
       "      <td>&lt;class 'sktime.forecasting.compose._grouped.Fo...</td>\n",
       "    </tr>\n",
       "    <tr>\n",
       "      <th>15</th>\n",
       "      <td>ForecastX</td>\n",
       "      <td>&lt;class 'sktime.forecasting.compose._pipeline.F...</td>\n",
       "    </tr>\n",
       "    <tr>\n",
       "      <th>16</th>\n",
       "      <td>ForecastingPipeline</td>\n",
       "      <td>&lt;class 'sktime.forecasting.compose._pipeline.F...</td>\n",
       "    </tr>\n",
       "    <tr>\n",
       "      <th>17</th>\n",
       "      <td>HierarchyEnsembleForecaster</td>\n",
       "      <td>&lt;class 'sktime.forecasting.compose._hierarchy_...</td>\n",
       "    </tr>\n",
       "    <tr>\n",
       "      <th>18</th>\n",
       "      <td>MultioutputTabularRegressionForecaster</td>\n",
       "      <td>&lt;class 'sktime.forecasting.compose._reduce.Mul...</td>\n",
       "    </tr>\n",
       "    <tr>\n",
       "      <th>19</th>\n",
       "      <td>MultioutputTimeSeriesRegressionForecaster</td>\n",
       "      <td>&lt;class 'sktime.forecasting.compose._reduce.Mul...</td>\n",
       "    </tr>\n",
       "    <tr>\n",
       "      <th>20</th>\n",
       "      <td>MultiplexForecaster</td>\n",
       "      <td>&lt;class 'sktime.forecasting.compose._multiplexe...</td>\n",
       "    </tr>\n",
       "    <tr>\n",
       "      <th>21</th>\n",
       "      <td>NaiveVariance</td>\n",
       "      <td>&lt;class 'sktime.forecasting.naive.NaiveVariance'&gt;</td>\n",
       "    </tr>\n",
       "    <tr>\n",
       "      <th>22</th>\n",
       "      <td>Permute</td>\n",
       "      <td>&lt;class 'sktime.forecasting.compose._pipeline.P...</td>\n",
       "    </tr>\n",
       "    <tr>\n",
       "      <th>23</th>\n",
       "      <td>PluginParamsForecaster</td>\n",
       "      <td>&lt;class 'sktime.param_est.plugin.PluginParamsFo...</td>\n",
       "    </tr>\n",
       "    <tr>\n",
       "      <th>24</th>\n",
       "      <td>Prophet</td>\n",
       "      <td>&lt;class 'sktime.forecasting.fbprophet.Prophet'&gt;</td>\n",
       "    </tr>\n",
       "    <tr>\n",
       "      <th>25</th>\n",
       "      <td>ReconcilerForecaster</td>\n",
       "      <td>&lt;class 'sktime.forecasting.reconcile.Reconcile...</td>\n",
       "    </tr>\n",
       "    <tr>\n",
       "      <th>26</th>\n",
       "      <td>RecursiveTabularRegressionForecaster</td>\n",
       "      <td>&lt;class 'sktime.forecasting.compose._reduce.Rec...</td>\n",
       "    </tr>\n",
       "    <tr>\n",
       "      <th>27</th>\n",
       "      <td>RecursiveTimeSeriesRegressionForecaster</td>\n",
       "      <td>&lt;class 'sktime.forecasting.compose._reduce.Rec...</td>\n",
       "    </tr>\n",
       "    <tr>\n",
       "      <th>28</th>\n",
       "      <td>SARIMAX</td>\n",
       "      <td>&lt;class 'sktime.forecasting.sarimax.SARIMAX'&gt;</td>\n",
       "    </tr>\n",
       "    <tr>\n",
       "      <th>29</th>\n",
       "      <td>STLForecaster</td>\n",
       "      <td>&lt;class 'sktime.forecasting.trend._stl_forecast...</td>\n",
       "    </tr>\n",
       "    <tr>\n",
       "      <th>30</th>\n",
       "      <td>StackingForecaster</td>\n",
       "      <td>&lt;class 'sktime.forecasting.compose._stack.Stac...</td>\n",
       "    </tr>\n",
       "    <tr>\n",
       "      <th>31</th>\n",
       "      <td>StatsForecastARCH</td>\n",
       "      <td>&lt;class 'sktime.forecasting.arch._statsforecast...</td>\n",
       "    </tr>\n",
       "    <tr>\n",
       "      <th>32</th>\n",
       "      <td>StatsForecastAutoARIMA</td>\n",
       "      <td>&lt;class 'sktime.forecasting.statsforecast.Stats...</td>\n",
       "    </tr>\n",
       "    <tr>\n",
       "      <th>33</th>\n",
       "      <td>StatsForecastGARCH</td>\n",
       "      <td>&lt;class 'sktime.forecasting.arch._statsforecast...</td>\n",
       "    </tr>\n",
       "    <tr>\n",
       "      <th>34</th>\n",
       "      <td>ThetaModularForecaster</td>\n",
       "      <td>&lt;class 'sktime.forecasting.theta.ThetaModularF...</td>\n",
       "    </tr>\n",
       "    <tr>\n",
       "      <th>35</th>\n",
       "      <td>TransformedTargetForecaster</td>\n",
       "      <td>&lt;class 'sktime.forecasting.compose._pipeline.T...</td>\n",
       "    </tr>\n",
       "    <tr>\n",
       "      <th>36</th>\n",
       "      <td>UnobservedComponents</td>\n",
       "      <td>&lt;class 'sktime.forecasting.structural.Unobserv...</td>\n",
       "    </tr>\n",
       "    <tr>\n",
       "      <th>37</th>\n",
       "      <td>UpdateEvery</td>\n",
       "      <td>&lt;class 'sktime.forecasting.stream._update.Upda...</td>\n",
       "    </tr>\n",
       "    <tr>\n",
       "      <th>38</th>\n",
       "      <td>UpdateRefitsEvery</td>\n",
       "      <td>&lt;class 'sktime.forecasting.stream._update.Upda...</td>\n",
       "    </tr>\n",
       "    <tr>\n",
       "      <th>39</th>\n",
       "      <td>VARMAX</td>\n",
       "      <td>&lt;class 'sktime.forecasting.varmax.VARMAX'&gt;</td>\n",
       "    </tr>\n",
       "    <tr>\n",
       "      <th>40</th>\n",
       "      <td>VECM</td>\n",
       "      <td>&lt;class 'sktime.forecasting.vecm.VECM'&gt;</td>\n",
       "    </tr>\n",
       "    <tr>\n",
       "      <th>41</th>\n",
       "      <td>YfromX</td>\n",
       "      <td>&lt;class 'sktime.forecasting.compose._reduce.Yfr...</td>\n",
       "    </tr>\n",
       "  </tbody>\n",
       "</table>\n",
       "</div>"
      ],
      "text/plain": [
       "                                         name  \\\n",
       "0                                        ARDL   \n",
       "1                                       ARIMA   \n",
       "2                                   AutoARIMA   \n",
       "3                      AutoEnsembleForecaster   \n",
       "4                                     AutoREG   \n",
       "5                    ColumnEnsembleForecaster   \n",
       "6                          ConformalIntervals   \n",
       "7                                     Croston   \n",
       "8           DirectTabularRegressionForecaster   \n",
       "9        DirectTimeSeriesRegressionForecaster   \n",
       "10                                 DontUpdate   \n",
       "11                              DynamicFactor   \n",
       "12                         EnsembleForecaster   \n",
       "13                           FhPlexForecaster   \n",
       "14                            ForecastByLevel   \n",
       "15                                  ForecastX   \n",
       "16                        ForecastingPipeline   \n",
       "17                HierarchyEnsembleForecaster   \n",
       "18     MultioutputTabularRegressionForecaster   \n",
       "19  MultioutputTimeSeriesRegressionForecaster   \n",
       "20                        MultiplexForecaster   \n",
       "21                              NaiveVariance   \n",
       "22                                    Permute   \n",
       "23                     PluginParamsForecaster   \n",
       "24                                    Prophet   \n",
       "25                       ReconcilerForecaster   \n",
       "26       RecursiveTabularRegressionForecaster   \n",
       "27    RecursiveTimeSeriesRegressionForecaster   \n",
       "28                                    SARIMAX   \n",
       "29                              STLForecaster   \n",
       "30                         StackingForecaster   \n",
       "31                          StatsForecastARCH   \n",
       "32                     StatsForecastAutoARIMA   \n",
       "33                         StatsForecastGARCH   \n",
       "34                     ThetaModularForecaster   \n",
       "35                TransformedTargetForecaster   \n",
       "36                       UnobservedComponents   \n",
       "37                                UpdateEvery   \n",
       "38                          UpdateRefitsEvery   \n",
       "39                                     VARMAX   \n",
       "40                                       VECM   \n",
       "41                                     YfromX   \n",
       "\n",
       "                                               object  \n",
       "0              <class 'sktime.forecasting.ardl.ARDL'>  \n",
       "1            <class 'sktime.forecasting.arima.ARIMA'>  \n",
       "2        <class 'sktime.forecasting.arima.AutoARIMA'>  \n",
       "3   <class 'sktime.forecasting.compose._ensemble.A...  \n",
       "4       <class 'sktime.forecasting.auto_reg.AutoREG'>  \n",
       "5   <class 'sktime.forecasting.compose._column_ens...  \n",
       "6   <class 'sktime.forecasting.conformal.Conformal...  \n",
       "7        <class 'sktime.forecasting.croston.Croston'>  \n",
       "8   <class 'sktime.forecasting.compose._reduce.Dir...  \n",
       "9   <class 'sktime.forecasting.compose._reduce.Dir...  \n",
       "10  <class 'sktime.forecasting.stream._update.Dont...  \n",
       "11  <class 'sktime.forecasting.dynamic_factor.Dyna...  \n",
       "12  <class 'sktime.forecasting.compose._ensemble.E...  \n",
       "13  <class 'sktime.forecasting.compose._fhplex.FhP...  \n",
       "14  <class 'sktime.forecasting.compose._grouped.Fo...  \n",
       "15  <class 'sktime.forecasting.compose._pipeline.F...  \n",
       "16  <class 'sktime.forecasting.compose._pipeline.F...  \n",
       "17  <class 'sktime.forecasting.compose._hierarchy_...  \n",
       "18  <class 'sktime.forecasting.compose._reduce.Mul...  \n",
       "19  <class 'sktime.forecasting.compose._reduce.Mul...  \n",
       "20  <class 'sktime.forecasting.compose._multiplexe...  \n",
       "21   <class 'sktime.forecasting.naive.NaiveVariance'>  \n",
       "22  <class 'sktime.forecasting.compose._pipeline.P...  \n",
       "23  <class 'sktime.param_est.plugin.PluginParamsFo...  \n",
       "24     <class 'sktime.forecasting.fbprophet.Prophet'>  \n",
       "25  <class 'sktime.forecasting.reconcile.Reconcile...  \n",
       "26  <class 'sktime.forecasting.compose._reduce.Rec...  \n",
       "27  <class 'sktime.forecasting.compose._reduce.Rec...  \n",
       "28       <class 'sktime.forecasting.sarimax.SARIMAX'>  \n",
       "29  <class 'sktime.forecasting.trend._stl_forecast...  \n",
       "30  <class 'sktime.forecasting.compose._stack.Stac...  \n",
       "31  <class 'sktime.forecasting.arch._statsforecast...  \n",
       "32  <class 'sktime.forecasting.statsforecast.Stats...  \n",
       "33  <class 'sktime.forecasting.arch._statsforecast...  \n",
       "34  <class 'sktime.forecasting.theta.ThetaModularF...  \n",
       "35  <class 'sktime.forecasting.compose._pipeline.T...  \n",
       "36  <class 'sktime.forecasting.structural.Unobserv...  \n",
       "37  <class 'sktime.forecasting.stream._update.Upda...  \n",
       "38  <class 'sktime.forecasting.stream._update.Upda...  \n",
       "39         <class 'sktime.forecasting.varmax.VARMAX'>  \n",
       "40             <class 'sktime.forecasting.vecm.VECM'>  \n",
       "41  <class 'sktime.forecasting.compose._reduce.Yfr...  "
      ]
     },
     "execution_count": 42,
     "metadata": {},
     "output_type": "execute_result"
    }
   ],
   "source": [
    "forecaster_list"
   ]
  },
  {
   "cell_type": "code",
   "execution_count": null,
   "metadata": {},
   "outputs": [],
   "source": []
  }
 ],
 "metadata": {
  "kernelspec": {
   "display_name": "Python 3 (ipykernel)",
   "language": "python",
   "name": "python3"
  },
  "language_info": {
   "codemirror_mode": {
    "name": "ipython",
    "version": 3
   },
   "file_extension": ".py",
   "mimetype": "text/x-python",
   "name": "python",
   "nbconvert_exporter": "python",
   "pygments_lexer": "ipython3",
   "version": "3.10.12"
  }
 },
 "nbformat": 4,
 "nbformat_minor": 4
}
