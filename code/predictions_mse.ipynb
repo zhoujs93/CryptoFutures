{
 "cells": [
  {
   "cell_type": "code",
   "execution_count": 13,
   "metadata": {
    "collapsed": true
   },
   "outputs": [],
   "source": [
    "import tensorflow as tf\n",
    "tf.random.set_seed(42)\n",
    "import tensorflow.python.keras.backend as K\n",
    "import tensorflow.python.keras.layers as layers\n",
    "from tensorflow.python.keras.callbacks import Callback, ReduceLROnPlateau, ModelCheckpoint, EarlyStopping\n",
    "\n",
    "\n",
    "def create_ae_mlp(num_columns, num_labels, hidden_units, dropout_rates, ls=1e-2, lr=1e-3):\n",
    "    inp = tf.keras.layers.Input(shape=(num_columns,))\n",
    "    x0 = tf.keras.layers.BatchNormalization()(inp)\n",
    "\n",
    "    encoder = tf.keras.layers.GaussianNoise(dropout_rates[0])(x0)\n",
    "    encoder = tf.keras.layers.Dense(hidden_units[0])(encoder)\n",
    "    encoder = tf.keras.layers.BatchNormalization()(encoder)\n",
    "    encoder = tf.keras.layers.Activation('swish')(encoder)\n",
    "\n",
    "    decoder = tf.keras.layers.Dropout(dropout_rates[1])(encoder)\n",
    "    decoder = tf.keras.layers.Dense(num_columns, name='decoder')(decoder)\n",
    "\n",
    "    x_ae = tf.keras.layers.Dense(hidden_units[1])(decoder)\n",
    "    x_ae = tf.keras.layers.BatchNormalization()(x_ae)\n",
    "    x_ae = tf.keras.layers.Activation('swish')(x_ae)\n",
    "    x_ae = tf.keras.layers.Dropout(dropout_rates[2])(x_ae)\n",
    "\n",
    "    out_ae = tf.keras.layers.Dense(num_labels, name='ae_action')(x_ae)\n",
    "\n",
    "    x = tf.keras.layers.Concatenate()([x0, encoder])\n",
    "    x = tf.keras.layers.BatchNormalization()(x)\n",
    "    x = tf.keras.layers.Dropout(dropout_rates[3])(x)\n",
    "\n",
    "    for i in range(2, len(hidden_units)):\n",
    "        x = tf.keras.layers.Dense(hidden_units[i])(x)\n",
    "        x = tf.keras.layers.BatchNormalization()(x)\n",
    "        x = tf.keras.layers.Activation('swish')(x)\n",
    "        x = tf.keras.layers.Dropout(dropout_rates[i + 2])(x)\n",
    "\n",
    "    out = tf.keras.layers.Dense(num_labels, name='action')(x)\n",
    "\n",
    "    model = tf.keras.models.Model(inputs=inp, outputs=[decoder, out_ae, out])\n",
    "    model.compile(optimizer=tf.keras.optimizers.Adam(learning_rate=lr),\n",
    "                  loss={'decoder': tf.keras.losses.MeanSquaredError(),\n",
    "                        'ae_action': tf.keras.losses.Huber(delta = 1.3),\n",
    "                        'action': tf.keras.losses.Huber(delta = 1.3),\n",
    "                        },\n",
    "                  metrics={'decoder': tf.keras.metrics.MeanAbsoluteError(name='MAE'),\n",
    "                           'ae_action': tfa.metrics.r_square.RSquare(name = 'rsquare'),\n",
    "                           'action': tfa.metrics.r_square.RSquare(name = 'rsquare'),\n",
    "                           },\n",
    "                  )\n",
    "\n",
    "    return model"
   ]
  },
  {
   "cell_type": "code",
   "execution_count": 14,
   "outputs": [],
   "source": [
    "import tensorflow_addons as tfa\n",
    "def create_model(n_in, n_out, layers, dropout_rate, optimizer, metrics):\n",
    "\n",
    "    inp = tf.keras.layers.Input(shape = (n_in, ))\n",
    "\n",
    "    x=inp\n",
    "    for i,hidden_units in enumerate(layers):\n",
    "        x = tf.keras.layers.BatchNormalization()(x)\n",
    "        if i>0:\n",
    "            x = tf.keras.layers.Dropout(dropout_rate)(x)\n",
    "        else:\n",
    "            x = tf.keras.layers.Dropout(.01)(x)\n",
    "        x = tf.keras.layers.Dense(hidden_units)(x)\n",
    "        x = tf.keras.layers.Activation('relu')(x)\n",
    "\n",
    "    out = tf.keras.layers.Dense(n_out, name = 'action')(x)\n",
    "\n",
    "    model = tf.keras.models.Model(inputs = inp, outputs = out)\n",
    "    model.compile(optimizer = optimizer,\n",
    "                  loss = tf.keras.losses.Huber(delta = 1.3),\n",
    "                  metrics = metrics,\n",
    "#                   run_eagerly=True\n",
    "                 )\n",
    "\n",
    "    return model"
   ],
   "metadata": {
    "collapsed": false,
    "pycharm": {
     "name": "#%%\n"
    }
   }
  },
  {
   "cell_type": "code",
   "execution_count": 15,
   "outputs": [],
   "source": [
    "class ValiConfig:\n",
    "    RMSE_WEIGHT = 0.001\n",
    "    SCALE_FACTOR_EXP = 0.0001\n",
    "    SCALE_FACTOR = 100\n",
    "    SCALE_SHIFT = (1 - 1/SCALE_FACTOR) / 2\n",
    "    HISTORICAL_DATA_LOOKBACK_DAYS_MIN = 25\n",
    "    HISTORICAL_DATA_LOOKBACK_DAYS_MAX = 30\n",
    "    PREDICTIONS_MIN = 100\n",
    "    PREDICTIONS_MAX = 101\n",
    "    DELETE_STALE_DATA = 180\n",
    "\n",
    "    STANDARD_TF = 5\n",
    "\n",
    "# from sklearn.metrics import roc_auc_score\n",
    "# class ValScore(tf.keras.callbacks.Callback):\n",
    "#     def __init__(self, validation_data,dates,weights,targs):\n",
    "#         super().__init__()\n",
    "#         self.X_val, self.y_val = validation_data\n",
    "#         self.dates, self.weights, self.targs = dates, weights, targs\n",
    "\n",
    "#     def on_epoch_end(self, epoch, logs={}):\n",
    "#         y_pred=self.model(self.X_val,training = False).numpy()\n",
    "#         aoc = roc_auc_score(self.y_val, y_pred,average=None)\n",
    "#         action=(y_pred.mean(1)>0.5).astype('int8')\n",
    "#         score=utility_score_bincount(self.dates,self.weights,self.targs,action)\n",
    "#         print(f\"AOC scores: {aoc}, t: {score[0]:.2f}, Utility score: {score[1]:.0f}\")"
   ],
   "metadata": {
    "collapsed": false,
    "pycharm": {
     "name": "#%%\n"
    }
   }
  },
  {
   "cell_type": "code",
   "execution_count": 16,
   "outputs": [],
   "source": [
    "class Params: pass\n",
    "param=Params()"
   ],
   "metadata": {
    "collapsed": false,
    "pycharm": {
     "name": "#%%\n"
    }
   }
  },
  {
   "cell_type": "code",
   "execution_count": 17,
   "outputs": [],
   "source": [
    "import lightgbm as lgb\n",
    "import pandas as pd\n",
    "import numpy as np\n",
    "from itertools import islice\n",
    "import tscv\n",
    "\n",
    "def generate_label(df, threshold = 0.002):\n",
    "    df['label'] = 0\n",
    "    df.loc[(df['target_15m'] <= -1*threshold), 'label'] = 1\n",
    "    df.loc[(df['target_15m'] >= threshold), 'label'] = 2\n",
    "    return df\n",
    "\n",
    "def get_na_features(df, train_features):\n",
    "    tmp = pd.DataFrame(df[train_features].isnull().sum())\n",
    "    tmp = tmp[tmp[0] > 0].reset_index()\n",
    "    tmp.columns = ['feat', 'cnt']\n",
    "    tmp = tmp.sort_values('cnt')\n",
    "    feat_groups = dict(tmp.groupby('cnt')['feat'].agg(lambda x: list(x)))\n",
    "    return feat_groups"
   ],
   "metadata": {
    "collapsed": false,
    "pycharm": {
     "name": "#%%\n"
    }
   }
  },
  {
   "cell_type": "code",
   "execution_count": 18,
   "outputs": [],
   "source": [
    "def generate_labels(df, target_interval = 60, interval = 1):\n",
    "  n_periods = int(target_interval / interval)\n",
    "  columns = [f'target_{target_interval}m', f'close_{target_interval}m', 'close_t']\n",
    "  print(f'Label is {columns}')\n",
    "  df[f'target_{target_interval}m'] = df['close'].pct_change(-n_periods)\n",
    "  df[f'close_{target_interval}m'] = df['close'].shift(-n_periods)\n",
    "  df['close_t'] = df['close']\n",
    "  df['close_5m'] = df['close'].shift(-1)\n",
    "  df = df.dropna(subset = [f'target_{target_interval}m'], axis = 0)\n",
    "  return df, columns\n"
   ],
   "metadata": {
    "collapsed": false,
    "pycharm": {
     "name": "#%%\n"
    }
   }
  },
  {
   "cell_type": "code",
   "execution_count": 19,
   "outputs": [],
   "source": [
    "features_to_remove = ['quote_asset_volume', 'number_of_trades', 'taker_buy_base_asset_volume',\n",
    "                      'taker_buy_quote_asset_volume', 'sum_open_interest', 'sum_open_interest_value',\n",
    "                      'count_toptrader_long_short_ratio', 'sum_toptrader_long_short_ratio', 'count_long_short_ratio',\n",
    "                      'sum_taker_long_short_vol_ratio']"
   ],
   "metadata": {
    "collapsed": false,
    "pycharm": {
     "name": "#%%\n"
    }
   }
  },
  {
   "cell_type": "code",
   "execution_count": 20,
   "outputs": [],
   "source": [
    "from joblib import load, dump\n",
    "date = f'11_23'\n",
    "directory = f'spot_data_11_23'"
   ],
   "metadata": {
    "collapsed": false,
    "pycharm": {
     "name": "#%%\n"
    }
   }
  },
  {
   "cell_type": "code",
   "execution_count": 73,
   "outputs": [
    {
     "name": "stdout",
     "output_type": "stream",
     "text": [
      "Shape of Xtrain is (65749, 132)\n",
      "30\n",
      "1/1 [==============================] - 0s 210ms/step\n",
      "[[nan]]\n"
     ]
    }
   ],
   "source": [
    "train = False\n",
    "df = pd.read_feather('../data/df_btc_with_features_5m_spot.feather')\n",
    "\n",
    "cols_to_drop = ['open_time', 'close_time', 'ignore', 'token', 'close_t', 'close_5m',\n",
    "                'create_time', 'symbol', 'returns', 'returns_5m',\n",
    "                'target_15m', 'label', 'token_code', 'target_5m'] + features_to_remove\n",
    "\n",
    "target_intervals = [30, 60, 90, 120, 150, 180, 210, 240,\n",
    "                    270, 300, 330, 360, 390, 420, 450, 480]\n",
    "\n",
    "df = df.loc[df['token'] == 'BTCUSDT'].reset_index(drop = True)\n",
    "\n",
    "df = df.sort_values(by='open_time', ignore_index=True)\n",
    "# df = generate_label(df, threshold=0.002)\n",
    "# df = generate_five_minute_labels(df)\n",
    "\n",
    "interval = 5\n",
    "# df, columns = generate_labels(df, target_interval = target_interval, interval = interval)\n",
    "# cols_to_drop += columns\n",
    "df['close_5m'] = df['close'].shift(-1)\n",
    "df['close_t'] = df['close'].copy()\n",
    "\n",
    "start_time = df['open_time'].min()\n",
    "end_time = df['open_time'].max()\n",
    "dates = df['open_time'].unique()\n",
    "n = len(dates)\n",
    "train_idx = int(0.7 * n)\n",
    "valid_idx = int(0.9 * n)\n",
    "train_end = dates[train_idx]\n",
    "valid_end = dates[valid_idx]\n",
    "\n",
    "train_df = df.loc[df['open_time'] < train_end].reset_index(drop=True)\n",
    "valid_df = df.loc[(train_end <= df['open_time']) & (df['open_time'] < valid_end)].reset_index(drop=True)\n",
    "\n",
    "train_df = pd.concat([train_df, valid_df], axis = 0)\n",
    "\n",
    "test_df = df.loc[(df['open_time'] >= valid_end)].reset_index(drop=True)\n",
    "\n",
    "valid_df = test_df.copy()\n",
    "\n",
    "train_features = [x for x in df.columns if (x not in cols_to_drop)]\n",
    "object_cols = train_df[train_features].select_dtypes(include=object).columns\n",
    "train_df[object_cols] = train_df[object_cols].astype(float)\n",
    "\n",
    "nan_features = get_na_features(train_df, train_features)\n",
    "feature_cols = pd.DataFrame(train_features)\n",
    "dtype_df = pd.DataFrame(train_df[train_features].select_dtypes(exclude=[float]).columns)\n",
    "train_features = [x for x in train_features if x not in dtype_df.values]\n",
    "### model parameters\n",
    "param.layers = [500, 350, 200]\n",
    "param.dropout_rate = 0.35\n",
    "\n",
    "\n",
    "###training parameters\n",
    "param.bs = 8192\n",
    "param.lr = 0.002\n",
    "param.epochs = 30\n",
    "param.wd = 0.02\n",
    "\n",
    "def normalize_columns_infer(df, means, stds):\n",
    "    features = means.index.tolist()\n",
    "    for feature in features:\n",
    "        mean = means.loc[feature]\n",
    "        std = stds.loc[feature]\n",
    "        df[feature] = (df[feature] - mean) / std\n",
    "    return df\n",
    "\n",
    "from joblib import load, dump\n",
    "date = f'11_23'\n",
    "directory = f'spot_data_11_23'\n",
    "means = load(f'../output/{directory}/means_return_huber.joblib')\n",
    "std = load(f'../output/{directory}/std_return_huber.joblib')\n",
    "train_features_test = load(f'../output/{directory}/train_features_test_return_huber.joblib')\n",
    "\n",
    "valid_df = normalize_columns_infer(valid_df, means, std)\n",
    "\n",
    "x_val = valid_df[train_features_test]\n",
    "\n",
    "params = {'num_columns': len(train_features_test),\n",
    "        'num_labels': 1,\n",
    "        'hidden_units': [96, 96, 896, 448, 448, 256],\n",
    "        'dropout_rates': [0.03527936123679956, 0.038424974585075086, 0.42409238408801436, 0.10431484318345882,\n",
    "                          0.49230389137187497, 0.32024444956111164, 0.2716856145683449, 0.4379233941604448],\n",
    "        'ls': 0,\n",
    "        'lr': 1e-3,\n",
    "        }\n",
    "\n",
    "print(f'Shape of Xtrain is {x_val.shape}')\n",
    "unique_models = [i for i in range(1, 17)]\n",
    "ypred_all = []\n",
    "cols_to_keep = ['open_time', 'close_t', 'close_5m']\n",
    "fold = 4\n",
    "ypreds = {0 : pd.concat([valid_df['open_time'], valid_df['close_t'], valid_df['close_5m']], axis = 1)}\n",
    "metrics = [tf.keras.metrics.MeanSquaredError(name='loss'),\n",
    "           tf.keras.metrics.MeanSquaredError(name='mse')]\n",
    "\n",
    "for l in unique_models[:1]:\n",
    "    target_interval = l * 30\n",
    "    print(target_interval)\n",
    "    n_samples = int(target_interval / interval)\n",
    "    # model = create_model(len(train_features_test), 1, param.layers, param.dropout_rate,\n",
    "    #                      optimizer=tfa.optimizers.Lookahead(\n",
    "    #                          tfa.optimizers.LAMB(learning_rate=param.lr, weight_decay_rate=param.wd)\n",
    "    #                      ), metrics = metrics)\n",
    "    model = create_ae_mlp(**params)\n",
    "    model.load_weights(f'../output/{directory}/AEMLP_HUBER_{fold}_returns{target_interval}m_{interval}m_{date}.hdf5')\n",
    "    predictions = model.predict(x_val.iloc[-1:].values)\n",
    "    print(predictions[-1])\n",
    "    predictions_df = pd.DataFrame(predictions[-1], columns = [f'predictions_{target_interval}'])\n",
    "    # ypred_df = pd.DataFrame(preds, columns = ['ypred_ret', 'close'])\n",
    "    # ypred_all.append(predictions)\n",
    "    # ypreds[target_interval] = predictions_df.copy()\n",
    "    # K.clear_session()\n"
   ],
   "metadata": {
    "collapsed": false,
    "pycharm": {
     "name": "#%%\n"
    }
   }
  },
  {
   "cell_type": "code",
   "execution_count": 72,
   "outputs": [
    {
     "data": {
      "text/plain": "(65749, 132)"
     },
     "execution_count": 72,
     "metadata": {},
     "output_type": "execute_result"
    }
   ],
   "source": [
    "x_val.shape"
   ],
   "metadata": {
    "collapsed": false,
    "pycharm": {
     "name": "#%%\n"
    }
   }
  },
  {
   "cell_type": "code",
   "execution_count": null,
   "outputs": [],
   "source": [
    "space = [i for i in range(1, 485)]\n",
    "target_intervals = [30, 60, 90, 120, 150, 180, 210, 240,\n",
    "                    270, 300, 330, 360, 390, 420, 450, 480]"
   ],
   "metadata": {
    "collapsed": false,
    "pycharm": {
     "name": "#%%\n"
    }
   }
  },
  {
   "cell_type": "code",
   "execution_count": 25,
   "outputs": [],
   "source": [
    "df_pred = valid_df[['open_time', 'close_t', 'close_5m']]"
   ],
   "metadata": {
    "collapsed": false,
    "pycharm": {
     "name": "#%%\n"
    }
   }
  },
  {
   "cell_type": "code",
   "execution_count": 26,
   "outputs": [
    {
     "name": "stderr",
     "output_type": "stream",
     "text": [
      "/var/folders/yn/2f068kxj3tx1xbtcj5w0tnnm0000gn/T/ipykernel_68298/2611823993.py:3: SettingWithCopyWarning: \n",
      "A value is trying to be set on a copy of a slice from a DataFrame.\n",
      "Try using .loc[row_indexer,col_indexer] = value instead\n",
      "\n",
      "See the caveats in the documentation: https://pandas.pydata.org/pandas-docs/stable/user_guide/indexing.html#returning-a-view-versus-a-copy\n",
      "  df_pred[f'predictions_{s}'] = (ypreds[s][f'predictions_{s}'].values + 1) * df_pred['close_t']\n",
      "/var/folders/yn/2f068kxj3tx1xbtcj5w0tnnm0000gn/T/ipykernel_68298/2611823993.py:3: SettingWithCopyWarning: \n",
      "A value is trying to be set on a copy of a slice from a DataFrame.\n",
      "Try using .loc[row_indexer,col_indexer] = value instead\n",
      "\n",
      "See the caveats in the documentation: https://pandas.pydata.org/pandas-docs/stable/user_guide/indexing.html#returning-a-view-versus-a-copy\n",
      "  df_pred[f'predictions_{s}'] = (ypreds[s][f'predictions_{s}'].values + 1) * df_pred['close_t']\n",
      "/var/folders/yn/2f068kxj3tx1xbtcj5w0tnnm0000gn/T/ipykernel_68298/2611823993.py:3: SettingWithCopyWarning: \n",
      "A value is trying to be set on a copy of a slice from a DataFrame.\n",
      "Try using .loc[row_indexer,col_indexer] = value instead\n",
      "\n",
      "See the caveats in the documentation: https://pandas.pydata.org/pandas-docs/stable/user_guide/indexing.html#returning-a-view-versus-a-copy\n",
      "  df_pred[f'predictions_{s}'] = (ypreds[s][f'predictions_{s}'].values + 1) * df_pred['close_t']\n",
      "/var/folders/yn/2f068kxj3tx1xbtcj5w0tnnm0000gn/T/ipykernel_68298/2611823993.py:3: SettingWithCopyWarning: \n",
      "A value is trying to be set on a copy of a slice from a DataFrame.\n",
      "Try using .loc[row_indexer,col_indexer] = value instead\n",
      "\n",
      "See the caveats in the documentation: https://pandas.pydata.org/pandas-docs/stable/user_guide/indexing.html#returning-a-view-versus-a-copy\n",
      "  df_pred[f'predictions_{s}'] = (ypreds[s][f'predictions_{s}'].values + 1) * df_pred['close_t']\n",
      "/var/folders/yn/2f068kxj3tx1xbtcj5w0tnnm0000gn/T/ipykernel_68298/2611823993.py:3: SettingWithCopyWarning: \n",
      "A value is trying to be set on a copy of a slice from a DataFrame.\n",
      "Try using .loc[row_indexer,col_indexer] = value instead\n",
      "\n",
      "See the caveats in the documentation: https://pandas.pydata.org/pandas-docs/stable/user_guide/indexing.html#returning-a-view-versus-a-copy\n",
      "  df_pred[f'predictions_{s}'] = (ypreds[s][f'predictions_{s}'].values + 1) * df_pred['close_t']\n",
      "/var/folders/yn/2f068kxj3tx1xbtcj5w0tnnm0000gn/T/ipykernel_68298/2611823993.py:3: SettingWithCopyWarning: \n",
      "A value is trying to be set on a copy of a slice from a DataFrame.\n",
      "Try using .loc[row_indexer,col_indexer] = value instead\n",
      "\n",
      "See the caveats in the documentation: https://pandas.pydata.org/pandas-docs/stable/user_guide/indexing.html#returning-a-view-versus-a-copy\n",
      "  df_pred[f'predictions_{s}'] = (ypreds[s][f'predictions_{s}'].values + 1) * df_pred['close_t']\n",
      "/var/folders/yn/2f068kxj3tx1xbtcj5w0tnnm0000gn/T/ipykernel_68298/2611823993.py:3: SettingWithCopyWarning: \n",
      "A value is trying to be set on a copy of a slice from a DataFrame.\n",
      "Try using .loc[row_indexer,col_indexer] = value instead\n",
      "\n",
      "See the caveats in the documentation: https://pandas.pydata.org/pandas-docs/stable/user_guide/indexing.html#returning-a-view-versus-a-copy\n",
      "  df_pred[f'predictions_{s}'] = (ypreds[s][f'predictions_{s}'].values + 1) * df_pred['close_t']\n",
      "/var/folders/yn/2f068kxj3tx1xbtcj5w0tnnm0000gn/T/ipykernel_68298/2611823993.py:3: SettingWithCopyWarning: \n",
      "A value is trying to be set on a copy of a slice from a DataFrame.\n",
      "Try using .loc[row_indexer,col_indexer] = value instead\n",
      "\n",
      "See the caveats in the documentation: https://pandas.pydata.org/pandas-docs/stable/user_guide/indexing.html#returning-a-view-versus-a-copy\n",
      "  df_pred[f'predictions_{s}'] = (ypreds[s][f'predictions_{s}'].values + 1) * df_pred['close_t']\n",
      "/var/folders/yn/2f068kxj3tx1xbtcj5w0tnnm0000gn/T/ipykernel_68298/2611823993.py:3: SettingWithCopyWarning: \n",
      "A value is trying to be set on a copy of a slice from a DataFrame.\n",
      "Try using .loc[row_indexer,col_indexer] = value instead\n",
      "\n",
      "See the caveats in the documentation: https://pandas.pydata.org/pandas-docs/stable/user_guide/indexing.html#returning-a-view-versus-a-copy\n",
      "  df_pred[f'predictions_{s}'] = (ypreds[s][f'predictions_{s}'].values + 1) * df_pred['close_t']\n",
      "/var/folders/yn/2f068kxj3tx1xbtcj5w0tnnm0000gn/T/ipykernel_68298/2611823993.py:3: SettingWithCopyWarning: \n",
      "A value is trying to be set on a copy of a slice from a DataFrame.\n",
      "Try using .loc[row_indexer,col_indexer] = value instead\n",
      "\n",
      "See the caveats in the documentation: https://pandas.pydata.org/pandas-docs/stable/user_guide/indexing.html#returning-a-view-versus-a-copy\n",
      "  df_pred[f'predictions_{s}'] = (ypreds[s][f'predictions_{s}'].values + 1) * df_pred['close_t']\n",
      "/var/folders/yn/2f068kxj3tx1xbtcj5w0tnnm0000gn/T/ipykernel_68298/2611823993.py:3: SettingWithCopyWarning: \n",
      "A value is trying to be set on a copy of a slice from a DataFrame.\n",
      "Try using .loc[row_indexer,col_indexer] = value instead\n",
      "\n",
      "See the caveats in the documentation: https://pandas.pydata.org/pandas-docs/stable/user_guide/indexing.html#returning-a-view-versus-a-copy\n",
      "  df_pred[f'predictions_{s}'] = (ypreds[s][f'predictions_{s}'].values + 1) * df_pred['close_t']\n",
      "/var/folders/yn/2f068kxj3tx1xbtcj5w0tnnm0000gn/T/ipykernel_68298/2611823993.py:3: SettingWithCopyWarning: \n",
      "A value is trying to be set on a copy of a slice from a DataFrame.\n",
      "Try using .loc[row_indexer,col_indexer] = value instead\n",
      "\n",
      "See the caveats in the documentation: https://pandas.pydata.org/pandas-docs/stable/user_guide/indexing.html#returning-a-view-versus-a-copy\n",
      "  df_pred[f'predictions_{s}'] = (ypreds[s][f'predictions_{s}'].values + 1) * df_pred['close_t']\n",
      "/var/folders/yn/2f068kxj3tx1xbtcj5w0tnnm0000gn/T/ipykernel_68298/2611823993.py:3: SettingWithCopyWarning: \n",
      "A value is trying to be set on a copy of a slice from a DataFrame.\n",
      "Try using .loc[row_indexer,col_indexer] = value instead\n",
      "\n",
      "See the caveats in the documentation: https://pandas.pydata.org/pandas-docs/stable/user_guide/indexing.html#returning-a-view-versus-a-copy\n",
      "  df_pred[f'predictions_{s}'] = (ypreds[s][f'predictions_{s}'].values + 1) * df_pred['close_t']\n",
      "/var/folders/yn/2f068kxj3tx1xbtcj5w0tnnm0000gn/T/ipykernel_68298/2611823993.py:3: SettingWithCopyWarning: \n",
      "A value is trying to be set on a copy of a slice from a DataFrame.\n",
      "Try using .loc[row_indexer,col_indexer] = value instead\n",
      "\n",
      "See the caveats in the documentation: https://pandas.pydata.org/pandas-docs/stable/user_guide/indexing.html#returning-a-view-versus-a-copy\n",
      "  df_pred[f'predictions_{s}'] = (ypreds[s][f'predictions_{s}'].values + 1) * df_pred['close_t']\n",
      "/var/folders/yn/2f068kxj3tx1xbtcj5w0tnnm0000gn/T/ipykernel_68298/2611823993.py:3: SettingWithCopyWarning: \n",
      "A value is trying to be set on a copy of a slice from a DataFrame.\n",
      "Try using .loc[row_indexer,col_indexer] = value instead\n",
      "\n",
      "See the caveats in the documentation: https://pandas.pydata.org/pandas-docs/stable/user_guide/indexing.html#returning-a-view-versus-a-copy\n",
      "  df_pred[f'predictions_{s}'] = (ypreds[s][f'predictions_{s}'].values + 1) * df_pred['close_t']\n",
      "/var/folders/yn/2f068kxj3tx1xbtcj5w0tnnm0000gn/T/ipykernel_68298/2611823993.py:3: SettingWithCopyWarning: \n",
      "A value is trying to be set on a copy of a slice from a DataFrame.\n",
      "Try using .loc[row_indexer,col_indexer] = value instead\n",
      "\n",
      "See the caveats in the documentation: https://pandas.pydata.org/pandas-docs/stable/user_guide/indexing.html#returning-a-view-versus-a-copy\n",
      "  df_pred[f'predictions_{s}'] = (ypreds[s][f'predictions_{s}'].values + 1) * df_pred['close_t']\n"
     ]
    }
   ],
   "source": [
    "for s in space:\n",
    "    if s in target_intervals:\n",
    "        df_pred[f'predictions_{s}'] = (ypreds[s][f'predictions_{s}'].values + 1) * df_pred['close_t']"
   ],
   "metadata": {
    "collapsed": false,
    "pycharm": {
     "name": "#%%\n"
    }
   }
  },
  {
   "cell_type": "code",
   "execution_count": 27,
   "outputs": [],
   "source": [
    "def calculate_weighted_rmse(predictions: np, actual: np) -> float:\n",
    "    predictions = np.array(predictions)\n",
    "    actual = np.array(actual)\n",
    "\n",
    "    k = 0.001\n",
    "\n",
    "    weights = np.exp(-k * np.arange(len(predictions)))\n",
    "    weighted_squared_errors = weights * (predictions - actual) ** 2\n",
    "    weighted_rmse = np.sqrt(np.sum(weighted_squared_errors) / np.sum(weights))\n",
    "\n",
    "    return weighted_rmse"
   ],
   "metadata": {
    "collapsed": false,
    "pycharm": {
     "name": "#%%\n"
    }
   }
  },
  {
   "cell_type": "markdown",
   "source": [
    "- returns for previous model is not good. Also need to fix bugs with respect to below code and miner.py"
   ],
   "metadata": {
    "collapsed": false,
    "pycharm": {
     "name": "#%% md\n"
    }
   }
  },
  {
   "cell_type": "code",
   "execution_count": 61,
   "outputs": [
    {
     "name": "stdout",
     "output_type": "stream",
     "text": [
      "30097.99\n"
     ]
    }
   ],
   "source": [
    "from scipy.signal import savgol_filter\n",
    "from statsmodels.tsa.api import SimpleExpSmoothing\n",
    "\n",
    "rmse = []\n",
    "rows = df_pred.index[:-100]\n",
    "for row in rows[788:789]:\n",
    "    close_t = df_pred.loc[row, 'close_t'].item()\n",
    "    print(close_t)\n",
    "    y_pred = pd.DataFrame(np.array([close_t] + [np.nan] * 100), index = list(range(0, 101)), columns = ['ypred'])\n",
    "    for idx in target_intervals:\n",
    "        row_idx = idx // 5\n",
    "        y_pred.loc[row_idx, 'ypred'] = df_pred.loc[row, f'predictions_{idx}'].item()\n",
    "    # y_pred['ypred'] = savgol_filter(y_pred['ypred'].values, 5, 2)\n",
    "    y_pred['ypred'] = y_pred['ypred'].interpolate(method = 'linear', limit = 5, limit_direction = 'forward')\n",
    "    y_pred_arr = savgol_filter(y_pred.iloc[1:],20, 3, axis = 0)\n",
    "    # mean = y_pred_arr.iloc[-15:].mean()\n",
    "    # y_pred_arr = y_pred_arr.fillna(mean)\n",
    "    y_true = df_pred['close_5m'].iloc[row:row+100]\n",
    "    score = calculate_weighted_rmse(y_pred_arr, y_true.values)\n",
    "    rmse.append(score)"
   ],
   "metadata": {
    "collapsed": false,
    "pycharm": {
     "name": "#%%\n"
    }
   }
  },
  {
   "cell_type": "code",
   "execution_count": 62,
   "outputs": [
    {
     "data": {
      "text/plain": "          rmse\n0  2068.660161",
      "text/html": "<div>\n<style scoped>\n    .dataframe tbody tr th:only-of-type {\n        vertical-align: middle;\n    }\n\n    .dataframe tbody tr th {\n        vertical-align: top;\n    }\n\n    .dataframe thead th {\n        text-align: right;\n    }\n</style>\n<table border=\"1\" class=\"dataframe\">\n  <thead>\n    <tr style=\"text-align: right;\">\n      <th></th>\n      <th>rmse</th>\n    </tr>\n  </thead>\n  <tbody>\n    <tr>\n      <th>0</th>\n      <td>2068.660161</td>\n    </tr>\n  </tbody>\n</table>\n</div>"
     },
     "execution_count": 62,
     "metadata": {},
     "output_type": "execute_result"
    }
   ],
   "source": [
    "rmse_df = pd.DataFrame(rmse, columns = ['rmse'])\n",
    "rmse_df"
   ],
   "metadata": {
    "collapsed": false,
    "pycharm": {
     "name": "#%%\n"
    }
   }
  },
  {
   "cell_type": "code",
   "execution_count": 63,
   "outputs": [
    {
     "data": {
      "text/plain": "rmse    2068.660161\ndtype: float64"
     },
     "execution_count": 63,
     "metadata": {},
     "output_type": "execute_result"
    }
   ],
   "source": [
    "rmse_df.mean()"
   ],
   "metadata": {
    "collapsed": false,
    "pycharm": {
     "name": "#%%\n"
    }
   }
  },
  {
   "cell_type": "code",
   "execution_count": 54,
   "outputs": [
    {
     "data": {
      "text/plain": "               0         1        diff\n0   30103.673927  30111.78    8.106073\n1   30109.357853  30128.44   19.082147\n2   30115.041780  30129.99   14.948220\n3   30120.725707  30122.50    1.774293\n4   30126.409633  30112.80   13.609633\n..           ...       ...         ...\n95  30591.090519  30191.52  399.570519\n96  30591.090519  30191.45  399.640519\n97  30591.090519  30221.03  370.060519\n98  30591.090519  30218.61  372.480519\n99  30591.090519  30230.24  360.850519\n\n[100 rows x 3 columns]",
      "text/html": "<div>\n<style scoped>\n    .dataframe tbody tr th:only-of-type {\n        vertical-align: middle;\n    }\n\n    .dataframe tbody tr th {\n        vertical-align: top;\n    }\n\n    .dataframe thead th {\n        text-align: right;\n    }\n</style>\n<table border=\"1\" class=\"dataframe\">\n  <thead>\n    <tr style=\"text-align: right;\">\n      <th></th>\n      <th>0</th>\n      <th>1</th>\n      <th>diff</th>\n    </tr>\n  </thead>\n  <tbody>\n    <tr>\n      <th>0</th>\n      <td>30103.673927</td>\n      <td>30111.78</td>\n      <td>8.106073</td>\n    </tr>\n    <tr>\n      <th>1</th>\n      <td>30109.357853</td>\n      <td>30128.44</td>\n      <td>19.082147</td>\n    </tr>\n    <tr>\n      <th>2</th>\n      <td>30115.041780</td>\n      <td>30129.99</td>\n      <td>14.948220</td>\n    </tr>\n    <tr>\n      <th>3</th>\n      <td>30120.725707</td>\n      <td>30122.50</td>\n      <td>1.774293</td>\n    </tr>\n    <tr>\n      <th>4</th>\n      <td>30126.409633</td>\n      <td>30112.80</td>\n      <td>13.609633</td>\n    </tr>\n    <tr>\n      <th>...</th>\n      <td>...</td>\n      <td>...</td>\n      <td>...</td>\n    </tr>\n    <tr>\n      <th>95</th>\n      <td>30591.090519</td>\n      <td>30191.52</td>\n      <td>399.570519</td>\n    </tr>\n    <tr>\n      <th>96</th>\n      <td>30591.090519</td>\n      <td>30191.45</td>\n      <td>399.640519</td>\n    </tr>\n    <tr>\n      <th>97</th>\n      <td>30591.090519</td>\n      <td>30221.03</td>\n      <td>370.060519</td>\n    </tr>\n    <tr>\n      <th>98</th>\n      <td>30591.090519</td>\n      <td>30218.61</td>\n      <td>372.480519</td>\n    </tr>\n    <tr>\n      <th>99</th>\n      <td>30591.090519</td>\n      <td>30230.24</td>\n      <td>360.850519</td>\n    </tr>\n  </tbody>\n</table>\n<p>100 rows × 3 columns</p>\n</div>"
     },
     "execution_count": 54,
     "metadata": {},
     "output_type": "execute_result"
    }
   ],
   "source": [
    "tt = pd.DataFrame(np.concatenate([y_pred_arr.values.reshape(-1, 1), y_true.values.reshape(-1, 1)], axis = 1))\n",
    "tt['diff'] = np.absolute(tt[0] - tt[1])\n",
    "tt"
   ],
   "metadata": {
    "collapsed": false,
    "pycharm": {
     "name": "#%%\n"
    }
   }
  },
  {
   "cell_type": "code",
   "execution_count": null,
   "outputs": [],
   "source": [],
   "metadata": {
    "collapsed": false,
    "pycharm": {
     "name": "#%%\n"
    }
   }
  },
  {
   "cell_type": "code",
   "execution_count": null,
   "outputs": [],
   "source": [],
   "metadata": {
    "collapsed": false,
    "pycharm": {
     "name": "#%%\n"
    }
   }
  },
  {
   "cell_type": "code",
   "execution_count": null,
   "outputs": [],
   "source": [],
   "metadata": {
    "collapsed": false,
    "pycharm": {
     "name": "#%%\n"
    }
   }
  },
  {
   "cell_type": "code",
   "execution_count": 8,
   "outputs": [],
   "source": [
    "train_features = [x for x in df.columns if (x not in cols_to_drop)]\n",
    "\n",
    "valid_df['token'] = valid_df['token'].astype('category').cat.codes\n",
    "object_cols = valid_df[train_features].select_dtypes(include=object).columns\n",
    "valid_df[object_cols] = valid_df[object_cols].astype(float)\n",
    "\n",
    "nan_features = get_na_features(valid_df, train_features)\n",
    "\n",
    "feature_cols = pd.DataFrame(train_features)\n",
    "dtype_df = pd.DataFrame(valid_df[train_features].select_dtypes(exclude=[float]).columns)\n",
    "train_features = [x for x in train_features if x not in dtype_df.values]"
   ],
   "metadata": {
    "collapsed": false,
    "pycharm": {
     "name": "#%%\n"
    }
   }
  },
  {
   "cell_type": "code",
   "execution_count": 9,
   "outputs": [],
   "source": [
    "### model parameters\n",
    "param.layers = [500,350,200]\n",
    "param.dropout_rate = 0.35\n",
    "\n",
    "###training parameters\n",
    "param.bs = 8192\n",
    "param.lr = 0.002\n",
    "param.epochs = 30\n",
    "param.wd = 0.02"
   ],
   "metadata": {
    "collapsed": false,
    "pycharm": {
     "name": "#%%\n"
    }
   }
  },
  {
   "cell_type": "code",
   "execution_count": 10,
   "outputs": [],
   "source": [
    "groups = pd.factorize(\n",
    "    train_df['open_time'].dt.day.astype(str) + '_' + train_df['open_time'].dt.month.astype(str) + '_' + train_df[\n",
    "        'open_time'].dt.year.astype(str))[0]\n",
    "\n",
    "cv = tscv.PurgedGroupTimeSeriesSplit(\n",
    "    n_splits=5,\n",
    "    group_gap=31,\n",
    ")"
   ],
   "metadata": {
    "collapsed": false,
    "pycharm": {
     "name": "#%%\n"
    }
   }
  },
  {
   "cell_type": "code",
   "execution_count": 11,
   "outputs": [],
   "source": [
    "from joblib import load, dump\n",
    "\n",
    "means = load('../output/means_15m.joblib')\n",
    "std = load('../output/std_15m.joblib')\n",
    "train_set_features = load('../output/train_features_test_15m.joblib')"
   ],
   "metadata": {
    "collapsed": false,
    "pycharm": {
     "name": "#%%\n"
    }
   }
  },
  {
   "cell_type": "code",
   "execution_count": 12,
   "outputs": [],
   "source": [
    "def normalize_columns_infer(df, means, stds):\n",
    "    features = means.index.tolist()\n",
    "    for feature in features:\n",
    "        mean = means.loc[feature]\n",
    "        std = stds.loc[feature]\n",
    "        df[feature] = (df[feature] - mean) / std\n",
    "    return df"
   ],
   "metadata": {
    "collapsed": false,
    "pycharm": {
     "name": "#%%\n"
    }
   }
  },
  {
   "cell_type": "code",
   "execution_count": 13,
   "outputs": [],
   "source": [
    "train_features_test = train_set_features\n",
    "valid_df = normalize_columns_infer(valid_df, means, std)"
   ],
   "metadata": {
    "collapsed": false,
    "pycharm": {
     "name": "#%%\n"
    }
   }
  },
  {
   "cell_type": "code",
   "execution_count": 14,
   "outputs": [],
   "source": [
    "nan_features = get_na_features(train_df, train_features)"
   ],
   "metadata": {
    "collapsed": false,
    "pycharm": {
     "name": "#%%\n"
    }
   }
  },
  {
   "cell_type": "code",
   "execution_count": 15,
   "outputs": [],
   "source": [
    "for k, v in nan_features.items():\n",
    "  for feat in v:\n",
    "    train_features.remove(feat)"
   ],
   "metadata": {
    "collapsed": false,
    "pycharm": {
     "name": "#%%\n"
    }
   }
  },
  {
   "cell_type": "code",
   "execution_count": 16,
   "outputs": [],
   "source": [
    "### adding overall AuC as a metric\n",
    "### for early stopping I only look at resp and resp_sum because they start overfitting earlier\n",
    "use_weights = False\n",
    "metrics =  [tf.keras.metrics.MeanSquaredError(name='loss'),\n",
    "            tf.keras.metrics.MeanSquaredError(name='mse')]\n",
    "            # tf.keras.metrics.AUC(name='AUC')]\n",
    "\n",
    "scores = []\n",
    "batch_size = 4096"
   ],
   "metadata": {
    "collapsed": false,
    "pycharm": {
     "name": "#%%\n"
    }
   }
  },
  {
   "cell_type": "code",
   "execution_count": 17,
   "outputs": [
    {
     "data": {
      "text/plain": "145"
     },
     "execution_count": 17,
     "metadata": {},
     "output_type": "execute_result"
    }
   ],
   "source": [
    "len(train_features_test)"
   ],
   "metadata": {
    "collapsed": false,
    "pycharm": {
     "name": "#%%\n"
    }
   }
  },
  {
   "cell_type": "code",
   "execution_count": 18,
   "outputs": [
    {
     "name": "stdout",
     "output_type": "stream",
     "text": [
      "Train Date is from 2022-08-16 07:12:00 - 2023-05-17 02:23:00\n",
      "Shape of Xtrain is (394272, 145), Shape of yTrain is (394272,)\n",
      "12321/12321 [==============================] - 13s 1ms/step\n"
     ]
    }
   ],
   "source": [
    "fold = 4\n",
    "min_train, max_train = min(valid_df['open_time']).to_pydatetime(), max(\n",
    "  valid_df['open_time']).to_pydatetime()\n",
    "\n",
    "x_train, x_val = valid_df[train_features_test], valid_df[train_features_test]\n",
    "\n",
    "print(f'Train Date is from {min_train} - {max_train}')\n",
    "\n",
    "y_train, y_val = valid_df['target_15m'].values, valid_df['target_15m'].values\n",
    "\n",
    "print(f'Shape of Xtrain is {x_train.shape}, Shape of yTrain is {y_train.shape}')\n",
    "\n",
    "model = create_model(len(train_features_test), 1, param.layers, param.dropout_rate,\n",
    "                    optimizer=tfa.optimizers.Lookahead(\n",
    "                        tfa.optimizers.LAMB(learning_rate=param.lr, weight_decay_rate=param.wd)\n",
    "                    ),\n",
    "                    metrics=metrics)\n",
    "model.load_weights(f'../output/MLP_mse_{fold}_returns15m_11_19.hdf5')\n",
    "\n",
    "predictions = model.predict(x_val.values)\n",
    "ypred = pd.DataFrame(predictions, columns = ['ypred'])\n",
    "cols_to_keep = ['open_time', 'target_15m', 'close', 'open']\n",
    "x_df = valid_df[cols_to_keep].reset_index(drop = True)\n",
    "x_df.columns = cols_to_keep\n",
    "x_df['pred_ret5m'] = ypred['ypred']"
   ],
   "metadata": {
    "collapsed": false,
    "pycharm": {
     "name": "#%%\n"
    }
   }
  },
  {
   "cell_type": "code",
   "execution_count": 19,
   "outputs": [
    {
     "data": {
      "text/plain": "                 open_time  target_15m     close      open  pred_ret5m\n0      2022-08-16 07:12:00    0.000471 -0.354885 -0.355103    0.003362\n1      2022-08-16 07:13:00   -0.000104 -0.355334 -0.354884    0.001678\n2      2022-08-16 07:14:00   -0.000350 -0.354762 -0.355327    0.002275\n3      2022-08-16 07:15:00    0.000100 -0.354666 -0.354761    0.003887\n4      2022-08-16 07:16:00    0.000358 -0.354672 -0.354665    0.001617\n...                    ...         ...       ...       ...         ...\n394267 2023-05-17 02:19:00   -0.001573 -0.178749 -0.178754    0.003006\n394268 2023-05-17 02:20:00   -0.002186 -0.178597 -0.178742    0.000415\n394269 2023-05-17 02:21:00   -0.002075 -0.178485 -0.178602   -0.000274\n394270 2023-05-17 02:22:00   -0.002176 -0.178508 -0.178479   -0.001875\n394271 2023-05-17 02:23:00   -0.001359 -0.178715 -0.178507   -0.001856\n\n[394272 rows x 5 columns]",
      "text/html": "<div>\n<style scoped>\n    .dataframe tbody tr th:only-of-type {\n        vertical-align: middle;\n    }\n\n    .dataframe tbody tr th {\n        vertical-align: top;\n    }\n\n    .dataframe thead th {\n        text-align: right;\n    }\n</style>\n<table border=\"1\" class=\"dataframe\">\n  <thead>\n    <tr style=\"text-align: right;\">\n      <th></th>\n      <th>open_time</th>\n      <th>target_15m</th>\n      <th>close</th>\n      <th>open</th>\n      <th>pred_ret5m</th>\n    </tr>\n  </thead>\n  <tbody>\n    <tr>\n      <th>0</th>\n      <td>2022-08-16 07:12:00</td>\n      <td>0.000471</td>\n      <td>-0.354885</td>\n      <td>-0.355103</td>\n      <td>0.003362</td>\n    </tr>\n    <tr>\n      <th>1</th>\n      <td>2022-08-16 07:13:00</td>\n      <td>-0.000104</td>\n      <td>-0.355334</td>\n      <td>-0.354884</td>\n      <td>0.001678</td>\n    </tr>\n    <tr>\n      <th>2</th>\n      <td>2022-08-16 07:14:00</td>\n      <td>-0.000350</td>\n      <td>-0.354762</td>\n      <td>-0.355327</td>\n      <td>0.002275</td>\n    </tr>\n    <tr>\n      <th>3</th>\n      <td>2022-08-16 07:15:00</td>\n      <td>0.000100</td>\n      <td>-0.354666</td>\n      <td>-0.354761</td>\n      <td>0.003887</td>\n    </tr>\n    <tr>\n      <th>4</th>\n      <td>2022-08-16 07:16:00</td>\n      <td>0.000358</td>\n      <td>-0.354672</td>\n      <td>-0.354665</td>\n      <td>0.001617</td>\n    </tr>\n    <tr>\n      <th>...</th>\n      <td>...</td>\n      <td>...</td>\n      <td>...</td>\n      <td>...</td>\n      <td>...</td>\n    </tr>\n    <tr>\n      <th>394267</th>\n      <td>2023-05-17 02:19:00</td>\n      <td>-0.001573</td>\n      <td>-0.178749</td>\n      <td>-0.178754</td>\n      <td>0.003006</td>\n    </tr>\n    <tr>\n      <th>394268</th>\n      <td>2023-05-17 02:20:00</td>\n      <td>-0.002186</td>\n      <td>-0.178597</td>\n      <td>-0.178742</td>\n      <td>0.000415</td>\n    </tr>\n    <tr>\n      <th>394269</th>\n      <td>2023-05-17 02:21:00</td>\n      <td>-0.002075</td>\n      <td>-0.178485</td>\n      <td>-0.178602</td>\n      <td>-0.000274</td>\n    </tr>\n    <tr>\n      <th>394270</th>\n      <td>2023-05-17 02:22:00</td>\n      <td>-0.002176</td>\n      <td>-0.178508</td>\n      <td>-0.178479</td>\n      <td>-0.001875</td>\n    </tr>\n    <tr>\n      <th>394271</th>\n      <td>2023-05-17 02:23:00</td>\n      <td>-0.001359</td>\n      <td>-0.178715</td>\n      <td>-0.178507</td>\n      <td>-0.001856</td>\n    </tr>\n  </tbody>\n</table>\n<p>394272 rows × 5 columns</p>\n</div>"
     },
     "execution_count": 19,
     "metadata": {},
     "output_type": "execute_result"
    }
   ],
   "source": [
    "x_df"
   ],
   "metadata": {
    "collapsed": false,
    "pycharm": {
     "name": "#%%\n"
    }
   }
  },
  {
   "cell_type": "code",
   "execution_count": 20,
   "outputs": [],
   "source": [
    "x_df['close'] = (x_df['close']* std.loc['close'] + means.loc['close'])"
   ],
   "metadata": {
    "collapsed": false,
    "pycharm": {
     "name": "#%%\n"
    }
   }
  },
  {
   "cell_type": "code",
   "execution_count": 21,
   "outputs": [],
   "source": [
    "x_df['close_5m_pred'] = (1 + x_df['pred_ret5m']) * x_df['close']"
   ],
   "metadata": {
    "collapsed": false,
    "pycharm": {
     "name": "#%%\n"
    }
   }
  },
  {
   "cell_type": "code",
   "execution_count": 22,
   "outputs": [
    {
     "ename": "KeyError",
     "evalue": "\"['close_5m'] not in index\"",
     "output_type": "error",
     "traceback": [
      "\u001B[0;31m---------------------------------------------------------------------------\u001B[0m",
      "\u001B[0;31mKeyError\u001B[0m                                  Traceback (most recent call last)",
      "Cell \u001B[0;32mIn[22], line 1\u001B[0m\n\u001B[0;32m----> 1\u001B[0m \u001B[43mx_df\u001B[49m\u001B[38;5;241;43m.\u001B[39;49m\u001B[43mplot\u001B[49m\u001B[43m(\u001B[49m\u001B[43mx\u001B[49m\u001B[43m \u001B[49m\u001B[38;5;241;43m=\u001B[39;49m\u001B[43m \u001B[49m\u001B[38;5;124;43m'\u001B[39;49m\u001B[38;5;124;43mopen_time\u001B[39;49m\u001B[38;5;124;43m'\u001B[39;49m\u001B[43m,\u001B[49m\u001B[43m \u001B[49m\u001B[43my\u001B[49m\u001B[43m \u001B[49m\u001B[38;5;241;43m=\u001B[39;49m\u001B[43m \u001B[49m\u001B[43m[\u001B[49m\u001B[38;5;124;43m'\u001B[39;49m\u001B[38;5;124;43mclose_5m\u001B[39;49m\u001B[38;5;124;43m'\u001B[39;49m\u001B[43m,\u001B[49m\u001B[43m \u001B[49m\u001B[38;5;124;43m'\u001B[39;49m\u001B[38;5;124;43mclose_5m_pred\u001B[39;49m\u001B[38;5;124;43m'\u001B[39;49m\u001B[43m]\u001B[49m\u001B[43m)\u001B[49m\n",
      "File \u001B[0;32m~/anaconda3/envs/python310/lib/python3.10/site-packages/pandas/plotting/_core.py:961\u001B[0m, in \u001B[0;36mPlotAccessor.__call__\u001B[0;34m(self, *args, **kwargs)\u001B[0m\n\u001B[1;32m    958\u001B[0m             \u001B[38;5;28;01mpass\u001B[39;00m\n\u001B[1;32m    960\u001B[0m \u001B[38;5;66;03m# don't overwrite\u001B[39;00m\n\u001B[0;32m--> 961\u001B[0m data \u001B[38;5;241m=\u001B[39m \u001B[43mdata\u001B[49m\u001B[43m[\u001B[49m\u001B[43my\u001B[49m\u001B[43m]\u001B[49m\u001B[38;5;241m.\u001B[39mcopy()\n\u001B[1;32m    963\u001B[0m \u001B[38;5;28;01mif\u001B[39;00m \u001B[38;5;28misinstance\u001B[39m(data, ABCSeries):\n\u001B[1;32m    964\u001B[0m     label_name \u001B[38;5;241m=\u001B[39m label_kw \u001B[38;5;129;01mor\u001B[39;00m y\n",
      "File \u001B[0;32m~/anaconda3/envs/python310/lib/python3.10/site-packages/pandas/core/frame.py:3767\u001B[0m, in \u001B[0;36mDataFrame.__getitem__\u001B[0;34m(self, key)\u001B[0m\n\u001B[1;32m   3765\u001B[0m     \u001B[38;5;28;01mif\u001B[39;00m is_iterator(key):\n\u001B[1;32m   3766\u001B[0m         key \u001B[38;5;241m=\u001B[39m \u001B[38;5;28mlist\u001B[39m(key)\n\u001B[0;32m-> 3767\u001B[0m     indexer \u001B[38;5;241m=\u001B[39m \u001B[38;5;28;43mself\u001B[39;49m\u001B[38;5;241;43m.\u001B[39;49m\u001B[43mcolumns\u001B[49m\u001B[38;5;241;43m.\u001B[39;49m\u001B[43m_get_indexer_strict\u001B[49m\u001B[43m(\u001B[49m\u001B[43mkey\u001B[49m\u001B[43m,\u001B[49m\u001B[43m \u001B[49m\u001B[38;5;124;43m\"\u001B[39;49m\u001B[38;5;124;43mcolumns\u001B[39;49m\u001B[38;5;124;43m\"\u001B[39;49m\u001B[43m)\u001B[49m[\u001B[38;5;241m1\u001B[39m]\n\u001B[1;32m   3769\u001B[0m \u001B[38;5;66;03m# take() does not accept boolean indexers\u001B[39;00m\n\u001B[1;32m   3770\u001B[0m \u001B[38;5;28;01mif\u001B[39;00m \u001B[38;5;28mgetattr\u001B[39m(indexer, \u001B[38;5;124m\"\u001B[39m\u001B[38;5;124mdtype\u001B[39m\u001B[38;5;124m\"\u001B[39m, \u001B[38;5;28;01mNone\u001B[39;00m) \u001B[38;5;241m==\u001B[39m \u001B[38;5;28mbool\u001B[39m:\n",
      "File \u001B[0;32m~/anaconda3/envs/python310/lib/python3.10/site-packages/pandas/core/indexes/base.py:5877\u001B[0m, in \u001B[0;36mIndex._get_indexer_strict\u001B[0;34m(self, key, axis_name)\u001B[0m\n\u001B[1;32m   5874\u001B[0m \u001B[38;5;28;01melse\u001B[39;00m:\n\u001B[1;32m   5875\u001B[0m     keyarr, indexer, new_indexer \u001B[38;5;241m=\u001B[39m \u001B[38;5;28mself\u001B[39m\u001B[38;5;241m.\u001B[39m_reindex_non_unique(keyarr)\n\u001B[0;32m-> 5877\u001B[0m \u001B[38;5;28;43mself\u001B[39;49m\u001B[38;5;241;43m.\u001B[39;49m\u001B[43m_raise_if_missing\u001B[49m\u001B[43m(\u001B[49m\u001B[43mkeyarr\u001B[49m\u001B[43m,\u001B[49m\u001B[43m \u001B[49m\u001B[43mindexer\u001B[49m\u001B[43m,\u001B[49m\u001B[43m \u001B[49m\u001B[43maxis_name\u001B[49m\u001B[43m)\u001B[49m\n\u001B[1;32m   5879\u001B[0m keyarr \u001B[38;5;241m=\u001B[39m \u001B[38;5;28mself\u001B[39m\u001B[38;5;241m.\u001B[39mtake(indexer)\n\u001B[1;32m   5880\u001B[0m \u001B[38;5;28;01mif\u001B[39;00m \u001B[38;5;28misinstance\u001B[39m(key, Index):\n\u001B[1;32m   5881\u001B[0m     \u001B[38;5;66;03m# GH 42790 - Preserve name from an Index\u001B[39;00m\n",
      "File \u001B[0;32m~/anaconda3/envs/python310/lib/python3.10/site-packages/pandas/core/indexes/base.py:5941\u001B[0m, in \u001B[0;36mIndex._raise_if_missing\u001B[0;34m(self, key, indexer, axis_name)\u001B[0m\n\u001B[1;32m   5938\u001B[0m     \u001B[38;5;28;01mraise\u001B[39;00m \u001B[38;5;167;01mKeyError\u001B[39;00m(\u001B[38;5;124mf\u001B[39m\u001B[38;5;124m\"\u001B[39m\u001B[38;5;124mNone of [\u001B[39m\u001B[38;5;132;01m{\u001B[39;00mkey\u001B[38;5;132;01m}\u001B[39;00m\u001B[38;5;124m] are in the [\u001B[39m\u001B[38;5;132;01m{\u001B[39;00maxis_name\u001B[38;5;132;01m}\u001B[39;00m\u001B[38;5;124m]\u001B[39m\u001B[38;5;124m\"\u001B[39m)\n\u001B[1;32m   5940\u001B[0m not_found \u001B[38;5;241m=\u001B[39m \u001B[38;5;28mlist\u001B[39m(ensure_index(key)[missing_mask\u001B[38;5;241m.\u001B[39mnonzero()[\u001B[38;5;241m0\u001B[39m]]\u001B[38;5;241m.\u001B[39munique())\n\u001B[0;32m-> 5941\u001B[0m \u001B[38;5;28;01mraise\u001B[39;00m \u001B[38;5;167;01mKeyError\u001B[39;00m(\u001B[38;5;124mf\u001B[39m\u001B[38;5;124m\"\u001B[39m\u001B[38;5;132;01m{\u001B[39;00mnot_found\u001B[38;5;132;01m}\u001B[39;00m\u001B[38;5;124m not in index\u001B[39m\u001B[38;5;124m\"\u001B[39m)\n",
      "\u001B[0;31mKeyError\u001B[0m: \"['close_5m'] not in index\""
     ]
    }
   ],
   "source": [
    "x_df.plot(x = 'open_time', y = ['close_5m_pred'])"
   ],
   "metadata": {
    "collapsed": false,
    "pycharm": {
     "name": "#%%\n"
    }
   }
  },
  {
   "cell_type": "code",
   "execution_count": null,
   "outputs": [],
   "source": [
    "def calculate_weighted_rmse(predictions: np, actual: np) -> float:\n",
    "    predictions = np.array(predictions)\n",
    "    actual = np.array(actual)\n",
    "\n",
    "    k = ValiConfig.RMSE_WEIGHT\n",
    "\n",
    "    weights = np.exp(-k * np.arange(len(predictions)))\n",
    "    weighted_squared_errors = weights * (predictions - actual) ** 2\n",
    "    weighted_rmse = np.sqrt(np.sum(weighted_squared_errors) / np.sum(weights))\n",
    "\n",
    "    return weighted_rmse"
   ],
   "metadata": {
    "collapsed": false,
    "pycharm": {
     "name": "#%%\n"
    }
   }
  },
  {
   "cell_type": "code",
   "execution_count": 138,
   "outputs": [
    {
     "name": "stdout",
     "output_type": "stream",
     "text": [
      "weighted rmse: 64.17401026209629\n"
     ]
    }
   ],
   "source": [
    "weighted_rmse = calculate_weighted_rmse(x_df['close_5m_pred'], x_df['close_5m'])\n",
    "print(f'weighted rmse: {weighted_rmse}')"
   ],
   "metadata": {
    "collapsed": false,
    "pycharm": {
     "name": "#%%\n"
    }
   }
  },
  {
   "cell_type": "code",
   "execution_count": 74,
   "outputs": [],
   "source": [
    "params = {'num_columns': len(train_features_test),\n",
    "          'num_labels': 1,\n",
    "          'hidden_units': [96, 96, 896, 448, 448, 256],\n",
    "          'dropout_rates': [0.03527936123679956, 0.038424974585075086, 0.42409238408801436, 0.10431484318345882,\n",
    "                            0.49230389137187497, 0.32024444956111164, 0.2716856145683449, 0.4379233941604448],\n",
    "          'ls': 0,\n",
    "          'lr': 1e-3,\n",
    "          }"
   ],
   "metadata": {
    "collapsed": false,
    "pycharm": {
     "name": "#%%\n"
    }
   }
  },
  {
   "cell_type": "code",
   "execution_count": 75,
   "outputs": [
    {
     "name": "stdout",
     "output_type": "stream",
     "text": [
      "Valid Date is from 2022-08-16 07:12:00 - 2023-05-17 02:23:00\n",
      "Shape of Xtrain is (394272, 151), Shape of yTrain is (394272,)\n",
      "12321/12321 [==============================] - 27s 2ms/step\n"
     ]
    },
    {
     "ename": "KeyError",
     "evalue": "\"['label'] not in index\"",
     "output_type": "error",
     "traceback": [
      "\u001B[0;31m---------------------------------------------------------------------------\u001B[0m",
      "\u001B[0;31mKeyError\u001B[0m                                  Traceback (most recent call last)",
      "Cell \u001B[0;32mIn[75], line 22\u001B[0m\n\u001B[1;32m     20\u001B[0m ypred \u001B[38;5;241m=\u001B[39m pd\u001B[38;5;241m.\u001B[39mDataFrame(preds, columns \u001B[38;5;241m=\u001B[39m [\u001B[38;5;124m'\u001B[39m\u001B[38;5;124mypred\u001B[39m\u001B[38;5;124m'\u001B[39m])\n\u001B[1;32m     21\u001B[0m cols_to_keep \u001B[38;5;241m=\u001B[39m [\u001B[38;5;124m'\u001B[39m\u001B[38;5;124mopen_time\u001B[39m\u001B[38;5;124m'\u001B[39m, \u001B[38;5;124m'\u001B[39m\u001B[38;5;124mlabel\u001B[39m\u001B[38;5;124m'\u001B[39m, \u001B[38;5;124m'\u001B[39m\u001B[38;5;124mtarget_15m\u001B[39m\u001B[38;5;124m'\u001B[39m, \u001B[38;5;124m'\u001B[39m\u001B[38;5;124mtoken\u001B[39m\u001B[38;5;124m'\u001B[39m, \u001B[38;5;124m'\u001B[39m\u001B[38;5;124mclose\u001B[39m\u001B[38;5;124m'\u001B[39m, \u001B[38;5;124m'\u001B[39m\u001B[38;5;124mopen\u001B[39m\u001B[38;5;124m'\u001B[39m]\n\u001B[0;32m---> 22\u001B[0m x_df \u001B[38;5;241m=\u001B[39m \u001B[43mvalid_df\u001B[49m\u001B[43m[\u001B[49m\u001B[43mcols_to_keep\u001B[49m\u001B[43m]\u001B[49m\u001B[38;5;241m.\u001B[39mreset_index(drop \u001B[38;5;241m=\u001B[39m \u001B[38;5;28;01mTrue\u001B[39;00m)\n\u001B[1;32m     23\u001B[0m cols_to_keep \u001B[38;5;241m=\u001B[39m [\u001B[38;5;124m'\u001B[39m\u001B[38;5;124mopen_time\u001B[39m\u001B[38;5;124m'\u001B[39m, \u001B[38;5;124m'\u001B[39m\u001B[38;5;124mtarget_5m\u001B[39m\u001B[38;5;124m'\u001B[39m, \u001B[38;5;124m'\u001B[39m\u001B[38;5;124mclose\u001B[39m\u001B[38;5;124m'\u001B[39m, \u001B[38;5;124m'\u001B[39m\u001B[38;5;124mopen\u001B[39m\u001B[38;5;124m'\u001B[39m, \u001B[38;5;124m'\u001B[39m\u001B[38;5;124mclose_5m\u001B[39m\u001B[38;5;124m'\u001B[39m]\n\u001B[1;32m     24\u001B[0m x_df \u001B[38;5;241m=\u001B[39m valid_df[cols_to_keep]\u001B[38;5;241m.\u001B[39mreset_index(drop \u001B[38;5;241m=\u001B[39m \u001B[38;5;28;01mTrue\u001B[39;00m)\n",
      "File \u001B[0;32m~/anaconda3/envs/python310/lib/python3.10/site-packages/pandas/core/frame.py:3767\u001B[0m, in \u001B[0;36mDataFrame.__getitem__\u001B[0;34m(self, key)\u001B[0m\n\u001B[1;32m   3765\u001B[0m     \u001B[38;5;28;01mif\u001B[39;00m is_iterator(key):\n\u001B[1;32m   3766\u001B[0m         key \u001B[38;5;241m=\u001B[39m \u001B[38;5;28mlist\u001B[39m(key)\n\u001B[0;32m-> 3767\u001B[0m     indexer \u001B[38;5;241m=\u001B[39m \u001B[38;5;28;43mself\u001B[39;49m\u001B[38;5;241;43m.\u001B[39;49m\u001B[43mcolumns\u001B[49m\u001B[38;5;241;43m.\u001B[39;49m\u001B[43m_get_indexer_strict\u001B[49m\u001B[43m(\u001B[49m\u001B[43mkey\u001B[49m\u001B[43m,\u001B[49m\u001B[43m \u001B[49m\u001B[38;5;124;43m\"\u001B[39;49m\u001B[38;5;124;43mcolumns\u001B[39;49m\u001B[38;5;124;43m\"\u001B[39;49m\u001B[43m)\u001B[49m[\u001B[38;5;241m1\u001B[39m]\n\u001B[1;32m   3769\u001B[0m \u001B[38;5;66;03m# take() does not accept boolean indexers\u001B[39;00m\n\u001B[1;32m   3770\u001B[0m \u001B[38;5;28;01mif\u001B[39;00m \u001B[38;5;28mgetattr\u001B[39m(indexer, \u001B[38;5;124m\"\u001B[39m\u001B[38;5;124mdtype\u001B[39m\u001B[38;5;124m\"\u001B[39m, \u001B[38;5;28;01mNone\u001B[39;00m) \u001B[38;5;241m==\u001B[39m \u001B[38;5;28mbool\u001B[39m:\n",
      "File \u001B[0;32m~/anaconda3/envs/python310/lib/python3.10/site-packages/pandas/core/indexes/base.py:5877\u001B[0m, in \u001B[0;36mIndex._get_indexer_strict\u001B[0;34m(self, key, axis_name)\u001B[0m\n\u001B[1;32m   5874\u001B[0m \u001B[38;5;28;01melse\u001B[39;00m:\n\u001B[1;32m   5875\u001B[0m     keyarr, indexer, new_indexer \u001B[38;5;241m=\u001B[39m \u001B[38;5;28mself\u001B[39m\u001B[38;5;241m.\u001B[39m_reindex_non_unique(keyarr)\n\u001B[0;32m-> 5877\u001B[0m \u001B[38;5;28;43mself\u001B[39;49m\u001B[38;5;241;43m.\u001B[39;49m\u001B[43m_raise_if_missing\u001B[49m\u001B[43m(\u001B[49m\u001B[43mkeyarr\u001B[49m\u001B[43m,\u001B[49m\u001B[43m \u001B[49m\u001B[43mindexer\u001B[49m\u001B[43m,\u001B[49m\u001B[43m \u001B[49m\u001B[43maxis_name\u001B[49m\u001B[43m)\u001B[49m\n\u001B[1;32m   5879\u001B[0m keyarr \u001B[38;5;241m=\u001B[39m \u001B[38;5;28mself\u001B[39m\u001B[38;5;241m.\u001B[39mtake(indexer)\n\u001B[1;32m   5880\u001B[0m \u001B[38;5;28;01mif\u001B[39;00m \u001B[38;5;28misinstance\u001B[39m(key, Index):\n\u001B[1;32m   5881\u001B[0m     \u001B[38;5;66;03m# GH 42790 - Preserve name from an Index\u001B[39;00m\n",
      "File \u001B[0;32m~/anaconda3/envs/python310/lib/python3.10/site-packages/pandas/core/indexes/base.py:5941\u001B[0m, in \u001B[0;36mIndex._raise_if_missing\u001B[0;34m(self, key, indexer, axis_name)\u001B[0m\n\u001B[1;32m   5938\u001B[0m     \u001B[38;5;28;01mraise\u001B[39;00m \u001B[38;5;167;01mKeyError\u001B[39;00m(\u001B[38;5;124mf\u001B[39m\u001B[38;5;124m\"\u001B[39m\u001B[38;5;124mNone of [\u001B[39m\u001B[38;5;132;01m{\u001B[39;00mkey\u001B[38;5;132;01m}\u001B[39;00m\u001B[38;5;124m] are in the [\u001B[39m\u001B[38;5;132;01m{\u001B[39;00maxis_name\u001B[38;5;132;01m}\u001B[39;00m\u001B[38;5;124m]\u001B[39m\u001B[38;5;124m\"\u001B[39m)\n\u001B[1;32m   5940\u001B[0m not_found \u001B[38;5;241m=\u001B[39m \u001B[38;5;28mlist\u001B[39m(ensure_index(key)[missing_mask\u001B[38;5;241m.\u001B[39mnonzero()[\u001B[38;5;241m0\u001B[39m]]\u001B[38;5;241m.\u001B[39munique())\n\u001B[0;32m-> 5941\u001B[0m \u001B[38;5;28;01mraise\u001B[39;00m \u001B[38;5;167;01mKeyError\u001B[39;00m(\u001B[38;5;124mf\u001B[39m\u001B[38;5;124m\"\u001B[39m\u001B[38;5;132;01m{\u001B[39;00mnot_found\u001B[38;5;132;01m}\u001B[39;00m\u001B[38;5;124m not in index\u001B[39m\u001B[38;5;124m\"\u001B[39m)\n",
      "\u001B[0;31mKeyError\u001B[0m: \"['label'] not in index\""
     ]
    }
   ],
   "source": [
    "scores = []\n",
    "batch_size = 4096\n",
    "df_pred = []\n",
    "\n",
    "min_train, max_train = min(valid_df['open_time']).to_pydatetime(), max(valid_df['open_time']).to_pydatetime()\n",
    "min_valid, max_valid = min(valid_df['open_time']).to_pydatetime(), max(\n",
    "              valid_df['open_time']).to_pydatetime()\n",
    "\n",
    "x_train, x_val = valid_df[train_features_test], valid_df[train_features_test]\n",
    "print(f'Valid Date is from {min_valid} - {max_valid}')\n",
    "\n",
    "y_train, y_val = valid_df['target_5m'], valid_df['target_5m']\n",
    "print(f'Shape of Xtrain is {x_train.shape}, Shape of yTrain is {y_train.shape}')\n",
    "\n",
    "model = create_ae_mlp(**params)\n",
    "model.load_weights(f'../output/AEMLP_MSE_0_{batch_size}.hdf5')\n",
    "\n",
    "predictions = model.predict(x_val.values)\n",
    "preds = predictions[-1]\n",
    "ypred = pd.DataFrame(preds, columns = ['ypred'])\n",
    "cols_to_keep = ['open_time', 'target_5m', 'close', 'open', 'close_5m']\n",
    "x_df = valid_df[cols_to_keep].reset_index(drop = True)\n",
    "x_df['pred_ret5m'] = ypred['ypred']"
   ],
   "metadata": {
    "collapsed": false,
    "pycharm": {
     "name": "#%%\n"
    }
   }
  },
  {
   "cell_type": "code",
   "execution_count": 79,
   "outputs": [],
   "source": [
    "cols_to_keep = ['open_time', 'target_5m', 'close', 'open', 'close_5m']\n",
    "x_df = valid_df[cols_to_keep].reset_index(drop = True)\n",
    "x_df['pred_ret5m'] = ypred['ypred']\n",
    "x_df['close_5m_pred'] = (1 + x_df['pred_ret5m']) * x_df['close']"
   ],
   "metadata": {
    "collapsed": false,
    "pycharm": {
     "name": "#%%\n"
    }
   }
  },
  {
   "cell_type": "code",
   "execution_count": 80,
   "outputs": [],
   "source": [
    "def calculate_weighted_rmse(predictions: np, actual: np) -> float:\n",
    "    predictions = np.array(predictions)\n",
    "    actual = np.array(actual)\n",
    "\n",
    "    k = ValiConfig.RMSE_WEIGHT\n",
    "\n",
    "    weights = np.exp(-k * np.arange(len(predictions)))\n",
    "    weighted_squared_errors = weights * (predictions - actual) ** 2\n",
    "    weighted_rmse = np.sqrt(np.sum(weighted_squared_errors) / np.sum(weights))\n",
    "\n",
    "    return weighted_rmse"
   ],
   "metadata": {
    "collapsed": false,
    "pycharm": {
     "name": "#%%\n"
    }
   }
  },
  {
   "cell_type": "code",
   "execution_count": 86,
   "outputs": [],
   "source": [
    "x_df = x_df.drop(['close', 'open'], axis = 1)\n",
    "df_to_keep = valid_df[['open_time', 'close']]\n",
    "new_df = x_df.merge(df_to_keep, left_on = ['open_time'], right_on = ['open_time'], how = 'inner')\n",
    "new_df['close_5m_pred'] = (1 + new_df['pred_ret5m']) * new_df['close']"
   ],
   "metadata": {
    "collapsed": false,
    "pycharm": {
     "name": "#%%\n"
    }
   }
  },
  {
   "cell_type": "code",
   "execution_count": 88,
   "outputs": [],
   "source": [
    "new_df['close_5m_pred'] = (1 + new_df['pred_ret5m']) * new_df['close']"
   ],
   "metadata": {
    "collapsed": false,
    "pycharm": {
     "name": "#%%\n"
    }
   }
  },
  {
   "cell_type": "code",
   "execution_count": 89,
   "outputs": [
    {
     "name": "stdout",
     "output_type": "stream",
     "text": [
      "23822.790749928434\n"
     ]
    }
   ],
   "source": [
    "valid_wrmse = calculate_weighted_rmse(x_df['close_5m_pred'], x_df['close_5m'])\n",
    "print(valid_wrmse)"
   ],
   "metadata": {
    "collapsed": false,
    "pycharm": {
     "name": "#%%\n"
    }
   }
  },
  {
   "cell_type": "code",
   "execution_count": 94,
   "outputs": [
    {
     "data": {
      "text/plain": "<Figure size 640x480 with 1 Axes>",
      "image/png": "[encoded data removed]"
     },
     "metadata": {},
     "output_type": "display_data"
    }
   ],
   "source": [
    "ax = new_df.plot(x = 'open_time', y = ['close_5m', 'close_5m_pred'])"
   ],
   "metadata": {
    "collapsed": false,
    "pycharm": {
     "name": "#%%\n"
    }
   }
  },
  {
   "cell_type": "code",
   "execution_count": 92,
   "outputs": [
    {
     "data": {
      "text/plain": "1.6673892019980485e-05"
     },
     "execution_count": 92,
     "metadata": {},
     "output_type": "execute_result"
    }
   ],
   "source": [
    "(23990/23989.6)-1"
   ],
   "metadata": {
    "collapsed": false,
    "pycharm": {
     "name": "#%%\n"
    }
   }
  },
  {
   "cell_type": "code",
   "execution_count": 91,
   "outputs": [
    {
     "data": {
      "text/plain": "                 open_time  target_5m  close_5m  pred_ret5m  close_5m_pred  \\\n0      2022-08-16 07:12:00  -0.000017   23990.0    0.034901   24826.853000   \n1      2022-08-16 07:13:00  -0.000392   23991.0    0.036496   24856.844945   \n2      2022-08-16 07:14:00  -0.000217   23997.0    0.035883   24852.690836   \n3      2022-08-16 07:15:00   0.000042   23992.5    0.041578   24991.091608   \n4      2022-08-16 07:16:00   0.000225   23988.0    0.029742   24707.003182   \n...                    ...        ...       ...         ...            ...   \n394267 2023-05-17 02:19:00   0.000243   27123.4    0.034690   28071.143544   \n394268 2023-05-17 02:20:00   0.000454   27120.4    0.034970   28081.538211   \n394269 2023-05-17 02:21:00   0.000704   27115.6    0.030422   27960.197561   \n394270 2023-05-17 02:22:00   0.000513   27120.4    0.029899   27945.591701   \n394271 2023-05-17 02:23:00   0.000760   27110.0    0.028874   27913.966786   \n\n          close  \n0       23989.6  \n1       23981.6  \n2       23991.8  \n3       23993.5  \n4       23993.4  \n...         ...  \n394267  27130.0  \n394268  27132.7  \n394269  27134.7  \n394270  27134.3  \n394271  27130.6  \n\n[394272 rows x 6 columns]",
      "text/html": "<div>\n<style scoped>\n    .dataframe tbody tr th:only-of-type {\n        vertical-align: middle;\n    }\n\n    .dataframe tbody tr th {\n        vertical-align: top;\n    }\n\n    .dataframe thead th {\n        text-align: right;\n    }\n</style>\n<table border=\"1\" class=\"dataframe\">\n  <thead>\n    <tr style=\"text-align: right;\">\n      <th></th>\n      <th>open_time</th>\n      <th>target_5m</th>\n      <th>close_5m</th>\n      <th>pred_ret5m</th>\n      <th>close_5m_pred</th>\n      <th>close</th>\n    </tr>\n  </thead>\n  <tbody>\n    <tr>\n      <th>0</th>\n      <td>2022-08-16 07:12:00</td>\n      <td>-0.000017</td>\n      <td>23990.0</td>\n      <td>0.034901</td>\n      <td>24826.853000</td>\n      <td>23989.6</td>\n    </tr>\n    <tr>\n      <th>1</th>\n      <td>2022-08-16 07:13:00</td>\n      <td>-0.000392</td>\n      <td>23991.0</td>\n      <td>0.036496</td>\n      <td>24856.844945</td>\n      <td>23981.6</td>\n    </tr>\n    <tr>\n      <th>2</th>\n      <td>2022-08-16 07:14:00</td>\n      <td>-0.000217</td>\n      <td>23997.0</td>\n      <td>0.035883</td>\n      <td>24852.690836</td>\n      <td>23991.8</td>\n    </tr>\n    <tr>\n      <th>3</th>\n      <td>2022-08-16 07:15:00</td>\n      <td>0.000042</td>\n      <td>23992.5</td>\n      <td>0.041578</td>\n      <td>24991.091608</td>\n      <td>23993.5</td>\n    </tr>\n    <tr>\n      <th>4</th>\n      <td>2022-08-16 07:16:00</td>\n      <td>0.000225</td>\n      <td>23988.0</td>\n      <td>0.029742</td>\n      <td>24707.003182</td>\n      <td>23993.4</td>\n    </tr>\n    <tr>\n      <th>...</th>\n      <td>...</td>\n      <td>...</td>\n      <td>...</td>\n      <td>...</td>\n      <td>...</td>\n      <td>...</td>\n    </tr>\n    <tr>\n      <th>394267</th>\n      <td>2023-05-17 02:19:00</td>\n      <td>0.000243</td>\n      <td>27123.4</td>\n      <td>0.034690</td>\n      <td>28071.143544</td>\n      <td>27130.0</td>\n    </tr>\n    <tr>\n      <th>394268</th>\n      <td>2023-05-17 02:20:00</td>\n      <td>0.000454</td>\n      <td>27120.4</td>\n      <td>0.034970</td>\n      <td>28081.538211</td>\n      <td>27132.7</td>\n    </tr>\n    <tr>\n      <th>394269</th>\n      <td>2023-05-17 02:21:00</td>\n      <td>0.000704</td>\n      <td>27115.6</td>\n      <td>0.030422</td>\n      <td>27960.197561</td>\n      <td>27134.7</td>\n    </tr>\n    <tr>\n      <th>394270</th>\n      <td>2023-05-17 02:22:00</td>\n      <td>0.000513</td>\n      <td>27120.4</td>\n      <td>0.029899</td>\n      <td>27945.591701</td>\n      <td>27134.3</td>\n    </tr>\n    <tr>\n      <th>394271</th>\n      <td>2023-05-17 02:23:00</td>\n      <td>0.000760</td>\n      <td>27110.0</td>\n      <td>0.028874</td>\n      <td>27913.966786</td>\n      <td>27130.6</td>\n    </tr>\n  </tbody>\n</table>\n<p>394272 rows × 6 columns</p>\n</div>"
     },
     "execution_count": 91,
     "metadata": {},
     "output_type": "execute_result"
    }
   ],
   "source": [
    "new_df"
   ],
   "metadata": {
    "collapsed": false,
    "pycharm": {
     "name": "#%%\n"
    }
   }
  },
  {
   "cell_type": "code",
   "execution_count": null,
   "outputs": [],
   "source": [],
   "metadata": {
    "collapsed": false,
    "pycharm": {
     "name": "#%%\n"
    }
   }
  }
 ],
 "metadata": {
  "kernelspec": {
   "display_name": "Python 3",
   "language": "python",
   "name": "python3"
  },
  "language_info": {
   "codemirror_mode": {
    "name": "ipython",
    "version": 2
   },
   "file_extension": ".py",
   "mimetype": "text/x-python",
   "name": "python",
   "nbconvert_exporter": "python",
   "pygments_lexer": "ipython2",
   "version": "2.7.6"
  }
 },
 "nbformat": 4,
 "nbformat_minor": 0
}