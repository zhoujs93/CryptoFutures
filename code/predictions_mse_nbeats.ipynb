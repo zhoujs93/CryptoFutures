{
 "cells": [
  {
   "cell_type": "code",
   "execution_count": 34,
   "metadata": {
    "collapsed": true
   },
   "outputs": [],
   "source": [
    "import tensorflow as tf\n",
    "tf.random.set_seed(42)\n",
    "from kerasbeats import prep_time_series, NBeatsModel\n",
    "from tensorflow import keras\n",
    "import numpy as np\n",
    "import pandas as pd\n",
    "\n",
    "\n",
    "def create_nbeat_mlp(num_columns, num_labels, lookback, horizon, hidden_units, dropout_rates, batch_size, ls=1e-2, lr=1e-3, ):\n",
    "    nbeats = NBeatsModel(model_type = 'generic', lookback = lookback, horizon = horizon,\n",
    "                         learning_rate = lr, batch_size = batch_size,\n",
    "                         num_generic_neurons = hidden_units[0]) # set as default\n",
    "    nbeats.build_layer()\n",
    "    time_input = keras.layers.Input(shape = (lookback * horizon, ))\n",
    "    x_nb = nbeats.model_layer(time_input)\n",
    "\n",
    "    xcons = keras.layers.Input(shape = (num_columns, ))\n",
    "    x = keras.layers.Concatenate()([xcons, x_nb])\n",
    "    x = tf.keras.layers.BatchNormalization()(x)\n",
    "    x = tf.keras.layers.Dropout(dropout_rates[0])(x)\n",
    "\n",
    "    for i in range(1, len(hidden_units)):\n",
    "        x = tf.keras.layers.Dense(hidden_units[i])(x)\n",
    "        x = tf.keras.layers.BatchNormalization()(x)\n",
    "        x = tf.keras.layers.Activation('swish')(x)\n",
    "        x = tf.keras.layers.Dropout(dropout_rates[i])(x)\n",
    "\n",
    "    out = tf.keras.layers.Dense(num_labels, name = 'action')(x)\n",
    "    model = tf.keras.models.Model(inputs = [time_input, xcons], outputs = out)\n",
    "    model.compile(optimizer=tf.keras.optimizers.Adam(learning_rate=lr),\n",
    "                  loss = {'action' : tf.keras.losses.MeanSquaredError()},\n",
    "                  metrics = {'action' : tf.metrics.MeanSquaredError(name = 'mse')})\n",
    "    return model"
   ]
  },
  {
   "cell_type": "code",
   "execution_count": 15,
   "outputs": [],
   "source": [
    "import lightgbm as lgb\n",
    "import pandas as pd\n",
    "import numpy as np\n",
    "from itertools import islice\n",
    "import tscv\n",
    "\n",
    "def generate_label(df, threshold = 0.002):\n",
    "    df['label'] = 0\n",
    "    df.loc[(df['target_15m'] <= -1*threshold), 'label'] = 1\n",
    "    df.loc[(df['target_15m'] >= threshold), 'label'] = 2\n",
    "    return df\n",
    "\n",
    "def get_na_features(df, train_features):\n",
    "    tmp = pd.DataFrame(df[train_features].isnull().sum())\n",
    "    tmp = tmp[tmp[0] > 0].reset_index()\n",
    "    tmp.columns = ['feat', 'cnt']\n",
    "    tmp = tmp.sort_values('cnt')\n",
    "    feat_groups = dict(tmp.groupby('cnt')['feat'].agg(lambda x: list(x)))\n",
    "    return feat_groups"
   ],
   "metadata": {
    "collapsed": false,
    "pycharm": {
     "name": "#%%\n"
    }
   }
  },
  {
   "cell_type": "code",
   "execution_count": 18,
   "outputs": [],
   "source": [
    "def normalize_columns_infer(df, means, stds):\n",
    "    features = means.index.tolist()\n",
    "    for feature in features:\n",
    "        mean = means.loc[feature]\n",
    "        std = stds.loc[feature]\n",
    "        df[feature] = (df[feature] - mean) / std\n",
    "    return df"
   ],
   "metadata": {
    "collapsed": false,
    "pycharm": {
     "name": "#%%\n"
    }
   }
  },
  {
   "cell_type": "code",
   "execution_count": 17,
   "outputs": [],
   "source": [
    "from pathlib import Path\n",
    "directory = 'spot_data_11_25'\n",
    "date = '11_25'\n",
    "lib = Path(f\"../output/{directory}\").mkdir(parents=True, exist_ok=True)\n",
    "window = 30\n",
    "file = f'target_{window}m_feature.csv'\n",
    "corr = pd.read_csv(f'../output/feature_corr/{file}', header = 0, index_col = 0)\n",
    "\n",
    "train_features = corr.iloc[:50].index.tolist()"
   ],
   "metadata": {
    "collapsed": false,
    "pycharm": {
     "name": "#%%\n"
    }
   }
  },
  {
   "cell_type": "code",
   "execution_count": 36,
   "outputs": [
    {
     "name": "stdout",
     "output_type": "stream",
     "text": [
      "Shape of X_const is (65150, 50), x_tr is (65150, 500), y_tr is (65150, 100)\n",
      "2036/2036 [==============================] - 31s 15ms/step\n"
     ]
    }
   ],
   "source": [
    "train = False\n",
    "df = pd.read_feather('../data/df_btc_with_features_5m_spot.feather')\n",
    "\n",
    "df = df.loc[df['token'] == 'BTCUSDT'].reset_index(drop = True)\n",
    "\n",
    "df = df.sort_values(by='open_time', ignore_index=True)\n",
    "\n",
    "df['close_5m'] = df['close'].shift(-1)\n",
    "df['close_t'] = df['close'].copy()\n",
    "df['target_5m'] = df['close'].pct_change(1)\n",
    "\n",
    "start_time = df['open_time'].min()\n",
    "end_time = df['open_time'].max()\n",
    "dates = df['open_time'].unique()\n",
    "n = len(dates)\n",
    "train_idx = int(0.7 * n)\n",
    "valid_idx = int(0.9 * n)\n",
    "train_end = dates[train_idx]\n",
    "valid_end = dates[valid_idx]\n",
    "\n",
    "train_df = df.loc[df['open_time'] < train_end].reset_index(drop=True)\n",
    "valid_df = df.loc[(train_end <= df['open_time']) & (df['open_time'] < valid_end)].reset_index(drop=True)\n",
    "\n",
    "train_df = pd.concat([train_df, valid_df], axis = 0)\n",
    "\n",
    "test_df = df.loc[(df['open_time'] >= valid_end)].reset_index(drop=True)\n",
    "\n",
    "valid_df = test_df.copy()\n",
    "\n",
    "groups = pd.factorize(\n",
    "    train_df['open_time'].dt.day.astype(str) + '_' + train_df['open_time'].dt.month.astype(str) + '_' + train_df[\n",
    "        'open_time'].dt.year.astype(str))[0]\n",
    "\n",
    "cv = tscv.PurgedGroupTimeSeriesSplit(\n",
    "    n_splits=5,\n",
    "    group_gap=31,\n",
    ")\n",
    "\n",
    "from joblib import load, dump\n",
    "date = f'11_25'\n",
    "directory = f'spot_data_11_25'\n",
    "lookback = 5\n",
    "horizon = 100\n",
    "means = load(f'../output/{directory}/means_nbeats_huber_l={lookback}_h={horizon}.joblib')\n",
    "std = load(f'../output/{directory}/std_return_nbeats_l={lookback}_h={horizon}.joblib')\n",
    "train_features_test = load(\n",
    "    f'../output/{directory}/train_features_test_return_nbeats_l={lookback}_h={horizon}.joblib')\n",
    "\n",
    "valid_df = normalize_columns_infer(valid_df, means, std)\n",
    "\n",
    "lookback = 5\n",
    "horizon = 100\n",
    "batch_size = 4096\n",
    "params = {'num_columns': len(train_features_test),\n",
    "          'num_labels': 100,\n",
    "          'lookback' : lookback,\n",
    "          'horizon' : horizon,\n",
    "          'batch_size' : batch_size,\n",
    "          'hidden_units': [200, 200, 300, 256],\n",
    "          'dropout_rates': [0.42409238408801436, 0.10431484318345882,\n",
    "                            0.49230389137187497, 0.32024444956111164, 0.2716856145683449, 0.4379233941604448],\n",
    "          'ls': 0,\n",
    "          'lr': 1e-3,\n",
    "          }\n",
    "\n",
    "x_val, y_val = prep_time_series(valid_df['target_5m'], lookback = lookback, horizon = horizon)\n",
    "cutoff_val = valid_df.shape[0] - x_val.shape[0]\n",
    "\n",
    "x_val_cons = valid_df[train_features_test].iloc[cutoff_val:]\n",
    "print(f'Shape of X_const is {x_val_cons.shape}, x_tr is {x_val.shape}, y_tr is {y_val.shape}')\n",
    "fold = 4\n",
    "model = create_nbeat_mlp(**params)\n",
    "model.load_weights(f'../output/{directory}/NBEATS_MSE_{fold}_returns{horizon}m_{lookback}m_{date}.hdf5')\n",
    "\n",
    "preds = model.predict([x_val, x_val_cons])\n"
   ],
   "metadata": {
    "collapsed": false,
    "pycharm": {
     "name": "#%%\n"
    }
   }
  },
  {
   "cell_type": "code",
   "execution_count": 46,
   "outputs": [],
   "source": [
    "x_val_cons = valid_df[['close_t', 'close_5m']].iloc[cutoff_val:].reset_index(drop = True)"
   ],
   "metadata": {
    "collapsed": false,
    "pycharm": {
     "name": "#%%\n"
    }
   }
  },
  {
   "cell_type": "code",
   "execution_count": 50,
   "outputs": [
    {
     "name": "stderr",
     "output_type": "stream",
     "text": [
      "65150it [02:34, 422.65it/s] \n"
     ]
    }
   ],
   "source": [
    "from tqdm import tqdm\n",
    "ypred = []\n",
    "ytrue = []\n",
    "for i, row in tqdm(x_val_cons.iterrows()):\n",
    "    rets = preds[i, :]\n",
    "    prices = (1 + rets) * row['close_t']\n",
    "    ypred.append(prices)\n",
    "    target = x_val_cons['close_5m'].iloc[i:i+100]\n",
    "    ytrue.append(target)"
   ],
   "metadata": {
    "collapsed": false,
    "pycharm": {
     "name": "#%%\n"
    }
   }
  },
  {
   "cell_type": "code",
   "execution_count": 51,
   "outputs": [],
   "source": [
    "def calculate_weighted_rmse(predictions: np, actual: np) -> float:\n",
    "    predictions = np.array(predictions)\n",
    "    actual = np.array(actual)\n",
    "\n",
    "    k = 0.001\n",
    "\n",
    "    weights = np.exp(-k * np.arange(len(predictions)))\n",
    "    weighted_squared_errors = weights * (predictions - actual) ** 2\n",
    "    weighted_rmse = np.sqrt(np.sum(weighted_squared_errors) / np.sum(weights))\n",
    "\n",
    "    return weighted_rmse"
   ],
   "metadata": {
    "collapsed": false,
    "pycharm": {
     "name": "#%%\n"
    }
   }
  },
  {
   "cell_type": "code",
   "execution_count": 55,
   "outputs": [
    {
     "name": "stderr",
     "output_type": "stream",
     "text": [
      "100%|██████████| 65049/65049 [00:01<00:00, 36644.75it/s]\n"
     ]
    }
   ],
   "source": [
    "rmse = []\n",
    "for i in tqdm(range(1, len(ypred)-100)):\n",
    "    ypred_i = ypred[i]\n",
    "    ytrue_i = ytrue[i]\n",
    "    score = calculate_weighted_rmse(ytrue_i, ypred_i)\n",
    "    rmse.append(score)"
   ],
   "metadata": {
    "collapsed": false,
    "pycharm": {
     "name": "#%%\n"
    }
   }
  },
  {
   "cell_type": "code",
   "execution_count": 56,
   "outputs": [
    {
     "ename": "KeyboardInterrupt",
     "evalue": "",
     "output_type": "error",
     "traceback": [
      "\u001B[0;31m---------------------------------------------------------------------------\u001B[0m",
      "\u001B[0;31mKeyboardInterrupt\u001B[0m                         Traceback (most recent call last)",
      "Cell \u001B[0;32mIn[56], line 3\u001B[0m\n\u001B[1;32m      1\u001B[0m rmse_df \u001B[38;5;241m=\u001B[39m pd\u001B[38;5;241m.\u001B[39mDataFrame(rmse)\n\u001B[1;32m      2\u001B[0m pred_df \u001B[38;5;241m=\u001B[39m pd\u001B[38;5;241m.\u001B[39mDataFrame(ypred)\n\u001B[0;32m----> 3\u001B[0m true_df \u001B[38;5;241m=\u001B[39m \u001B[43mpd\u001B[49m\u001B[38;5;241;43m.\u001B[39;49m\u001B[43mDataFrame\u001B[49m\u001B[43m(\u001B[49m\u001B[43mytrue\u001B[49m\u001B[43m)\u001B[49m\n",
      "File \u001B[0;32m~/anaconda3/envs/python310/lib/python3.10/site-packages/pandas/core/frame.py:809\u001B[0m, in \u001B[0;36mDataFrame.__init__\u001B[0;34m(self, data, index, columns, dtype, copy)\u001B[0m\n\u001B[1;32m    807\u001B[0m     \u001B[38;5;28;01mif\u001B[39;00m columns \u001B[38;5;129;01mis\u001B[39;00m \u001B[38;5;129;01mnot\u001B[39;00m \u001B[38;5;28;01mNone\u001B[39;00m:\n\u001B[1;32m    808\u001B[0m         columns \u001B[38;5;241m=\u001B[39m ensure_index(columns)\n\u001B[0;32m--> 809\u001B[0m     arrays, columns, index \u001B[38;5;241m=\u001B[39m \u001B[43mnested_data_to_arrays\u001B[49m\u001B[43m(\u001B[49m\n\u001B[1;32m    810\u001B[0m \u001B[43m        \u001B[49m\u001B[38;5;66;43;03m# error: Argument 3 to \"nested_data_to_arrays\" has incompatible\u001B[39;49;00m\n\u001B[1;32m    811\u001B[0m \u001B[43m        \u001B[49m\u001B[38;5;66;43;03m# type \"Optional[Collection[Any]]\"; expected \"Optional[Index]\"\u001B[39;49;00m\n\u001B[1;32m    812\u001B[0m \u001B[43m        \u001B[49m\u001B[43mdata\u001B[49m\u001B[43m,\u001B[49m\n\u001B[1;32m    813\u001B[0m \u001B[43m        \u001B[49m\u001B[43mcolumns\u001B[49m\u001B[43m,\u001B[49m\n\u001B[1;32m    814\u001B[0m \u001B[43m        \u001B[49m\u001B[43mindex\u001B[49m\u001B[43m,\u001B[49m\u001B[43m  \u001B[49m\u001B[38;5;66;43;03m# type: ignore[arg-type]\u001B[39;49;00m\n\u001B[1;32m    815\u001B[0m \u001B[43m        \u001B[49m\u001B[43mdtype\u001B[49m\u001B[43m,\u001B[49m\n\u001B[1;32m    816\u001B[0m \u001B[43m    \u001B[49m\u001B[43m)\u001B[49m\n\u001B[1;32m    817\u001B[0m     mgr \u001B[38;5;241m=\u001B[39m arrays_to_mgr(\n\u001B[1;32m    818\u001B[0m         arrays,\n\u001B[1;32m    819\u001B[0m         columns,\n\u001B[0;32m   (...)\u001B[0m\n\u001B[1;32m    822\u001B[0m         typ\u001B[38;5;241m=\u001B[39mmanager,\n\u001B[1;32m    823\u001B[0m     )\n\u001B[1;32m    824\u001B[0m \u001B[38;5;28;01melse\u001B[39;00m:\n",
      "File \u001B[0;32m~/anaconda3/envs/python310/lib/python3.10/site-packages/pandas/core/internals/construction.py:520\u001B[0m, in \u001B[0;36mnested_data_to_arrays\u001B[0;34m(data, columns, index, dtype)\u001B[0m\n\u001B[1;32m    517\u001B[0m \u001B[38;5;28;01mif\u001B[39;00m is_named_tuple(data[\u001B[38;5;241m0\u001B[39m]) \u001B[38;5;129;01mand\u001B[39;00m columns \u001B[38;5;129;01mis\u001B[39;00m \u001B[38;5;28;01mNone\u001B[39;00m:\n\u001B[1;32m    518\u001B[0m     columns \u001B[38;5;241m=\u001B[39m ensure_index(data[\u001B[38;5;241m0\u001B[39m]\u001B[38;5;241m.\u001B[39m_fields)\n\u001B[0;32m--> 520\u001B[0m arrays, columns \u001B[38;5;241m=\u001B[39m \u001B[43mto_arrays\u001B[49m\u001B[43m(\u001B[49m\u001B[43mdata\u001B[49m\u001B[43m,\u001B[49m\u001B[43m \u001B[49m\u001B[43mcolumns\u001B[49m\u001B[43m,\u001B[49m\u001B[43m \u001B[49m\u001B[43mdtype\u001B[49m\u001B[38;5;241;43m=\u001B[39;49m\u001B[43mdtype\u001B[49m\u001B[43m)\u001B[49m\n\u001B[1;32m    521\u001B[0m columns \u001B[38;5;241m=\u001B[39m ensure_index(columns)\n\u001B[1;32m    523\u001B[0m \u001B[38;5;28;01mif\u001B[39;00m index \u001B[38;5;129;01mis\u001B[39;00m \u001B[38;5;28;01mNone\u001B[39;00m:\n",
      "File \u001B[0;32m~/anaconda3/envs/python310/lib/python3.10/site-packages/pandas/core/internals/construction.py:839\u001B[0m, in \u001B[0;36mto_arrays\u001B[0;34m(data, columns, dtype)\u001B[0m\n\u001B[1;32m    837\u001B[0m     arr, columns \u001B[38;5;241m=\u001B[39m _list_of_dict_to_arrays(data, columns)\n\u001B[1;32m    838\u001B[0m \u001B[38;5;28;01melif\u001B[39;00m \u001B[38;5;28misinstance\u001B[39m(data[\u001B[38;5;241m0\u001B[39m], ABCSeries):\n\u001B[0;32m--> 839\u001B[0m     arr, columns \u001B[38;5;241m=\u001B[39m \u001B[43m_list_of_series_to_arrays\u001B[49m\u001B[43m(\u001B[49m\u001B[43mdata\u001B[49m\u001B[43m,\u001B[49m\u001B[43m \u001B[49m\u001B[43mcolumns\u001B[49m\u001B[43m)\u001B[49m\n\u001B[1;32m    840\u001B[0m \u001B[38;5;28;01melse\u001B[39;00m:\n\u001B[1;32m    841\u001B[0m     \u001B[38;5;66;03m# last ditch effort\u001B[39;00m\n\u001B[1;32m    842\u001B[0m     data \u001B[38;5;241m=\u001B[39m [\u001B[38;5;28mtuple\u001B[39m(x) \u001B[38;5;28;01mfor\u001B[39;00m x \u001B[38;5;129;01min\u001B[39;00m data]\n",
      "File \u001B[0;32m~/anaconda3/envs/python310/lib/python3.10/site-packages/pandas/core/internals/construction.py:882\u001B[0m, in \u001B[0;36m_list_of_series_to_arrays\u001B[0;34m(data, columns)\u001B[0m\n\u001B[1;32m    880\u001B[0m     indexer \u001B[38;5;241m=\u001B[39m indexer_cache[\u001B[38;5;28mid\u001B[39m(index)]\n\u001B[1;32m    881\u001B[0m \u001B[38;5;28;01melse\u001B[39;00m:\n\u001B[0;32m--> 882\u001B[0m     indexer \u001B[38;5;241m=\u001B[39m indexer_cache[\u001B[38;5;28mid\u001B[39m(index)] \u001B[38;5;241m=\u001B[39m \u001B[43mindex\u001B[49m\u001B[38;5;241;43m.\u001B[39;49m\u001B[43mget_indexer\u001B[49m\u001B[43m(\u001B[49m\u001B[43mcolumns\u001B[49m\u001B[43m)\u001B[49m\n\u001B[1;32m    884\u001B[0m values \u001B[38;5;241m=\u001B[39m extract_array(s, extract_numpy\u001B[38;5;241m=\u001B[39m\u001B[38;5;28;01mTrue\u001B[39;00m)\n\u001B[1;32m    885\u001B[0m aligned_values\u001B[38;5;241m.\u001B[39mappend(algorithms\u001B[38;5;241m.\u001B[39mtake_nd(values, indexer))\n",
      "File \u001B[0;32m~/anaconda3/envs/python310/lib/python3.10/site-packages/pandas/core/indexes/base.py:3942\u001B[0m, in \u001B[0;36mIndex.get_indexer\u001B[0;34m(self, target, method, limit, tolerance)\u001B[0m\n\u001B[1;32m   3937\u001B[0m     target \u001B[38;5;241m=\u001B[39m target\u001B[38;5;241m.\u001B[39mastype(dtype, copy\u001B[38;5;241m=\u001B[39m\u001B[38;5;28;01mFalse\u001B[39;00m)\n\u001B[1;32m   3938\u001B[0m     \u001B[38;5;28;01mreturn\u001B[39;00m this\u001B[38;5;241m.\u001B[39m_get_indexer(\n\u001B[1;32m   3939\u001B[0m         target, method\u001B[38;5;241m=\u001B[39mmethod, limit\u001B[38;5;241m=\u001B[39mlimit, tolerance\u001B[38;5;241m=\u001B[39mtolerance\n\u001B[1;32m   3940\u001B[0m     )\n\u001B[0;32m-> 3942\u001B[0m \u001B[38;5;28;01mreturn\u001B[39;00m \u001B[38;5;28;43mself\u001B[39;49m\u001B[38;5;241;43m.\u001B[39;49m\u001B[43m_get_indexer\u001B[49m\u001B[43m(\u001B[49m\u001B[43mtarget\u001B[49m\u001B[43m,\u001B[49m\u001B[43m \u001B[49m\u001B[43mmethod\u001B[49m\u001B[43m,\u001B[49m\u001B[43m \u001B[49m\u001B[43mlimit\u001B[49m\u001B[43m,\u001B[49m\u001B[43m \u001B[49m\u001B[43mtolerance\u001B[49m\u001B[43m)\u001B[49m\n",
      "File \u001B[0;32m~/anaconda3/envs/python310/lib/python3.10/site-packages/pandas/core/indexes/range.py:447\u001B[0m, in \u001B[0;36mRangeIndex._get_indexer\u001B[0;34m(self, target, method, limit, tolerance)\u001B[0m\n\u001B[1;32m    444\u001B[0m locs[\u001B[38;5;241m~\u001B[39mvalid] \u001B[38;5;241m=\u001B[39m \u001B[38;5;241m-\u001B[39m\u001B[38;5;241m1\u001B[39m\n\u001B[1;32m    445\u001B[0m locs[valid] \u001B[38;5;241m=\u001B[39m locs[valid] \u001B[38;5;241m/\u001B[39m step\n\u001B[0;32m--> 447\u001B[0m \u001B[38;5;28;01mif\u001B[39;00m step \u001B[38;5;241m!=\u001B[39m \u001B[38;5;28;43mself\u001B[39;49m\u001B[38;5;241;43m.\u001B[39;49m\u001B[43mstep\u001B[49m:\n\u001B[1;32m    448\u001B[0m     \u001B[38;5;66;03m# We reversed this range: transform to original locs\u001B[39;00m\n\u001B[1;32m    449\u001B[0m     locs[valid] \u001B[38;5;241m=\u001B[39m \u001B[38;5;28mlen\u001B[39m(\u001B[38;5;28mself\u001B[39m) \u001B[38;5;241m-\u001B[39m \u001B[38;5;241m1\u001B[39m \u001B[38;5;241m-\u001B[39m locs[valid]\n\u001B[1;32m    450\u001B[0m \u001B[38;5;28;01mreturn\u001B[39;00m ensure_platform_int(locs)\n",
      "File \u001B[0;32m~/anaconda3/envs/python310/lib/python3.10/site-packages/pandas/core/indexes/range.py:316\u001B[0m, in \u001B[0;36mRangeIndex.step\u001B[0;34m(self)\u001B[0m\n\u001B[1;32m    301\u001B[0m \u001B[38;5;250m    \u001B[39m\u001B[38;5;124;03m\"\"\"\u001B[39;00m\n\u001B[1;32m    302\u001B[0m \u001B[38;5;124;03m    The value of the `stop` parameter.\u001B[39;00m\n\u001B[1;32m    303\u001B[0m \n\u001B[0;32m   (...)\u001B[0m\n\u001B[1;32m    312\u001B[0m \u001B[38;5;124;03m    -10\u001B[39;00m\n\u001B[1;32m    313\u001B[0m \u001B[38;5;124;03m    \"\"\"\u001B[39;00m\n\u001B[1;32m    314\u001B[0m     \u001B[38;5;28;01mreturn\u001B[39;00m \u001B[38;5;28mself\u001B[39m\u001B[38;5;241m.\u001B[39m_range\u001B[38;5;241m.\u001B[39mstop\n\u001B[0;32m--> 316\u001B[0m \u001B[38;5;129m@property\u001B[39m\n\u001B[1;32m    317\u001B[0m \u001B[38;5;28;01mdef\u001B[39;00m \u001B[38;5;21mstep\u001B[39m(\u001B[38;5;28mself\u001B[39m) \u001B[38;5;241m-\u001B[39m\u001B[38;5;241m>\u001B[39m \u001B[38;5;28mint\u001B[39m:\n\u001B[1;32m    318\u001B[0m \u001B[38;5;250m    \u001B[39m\u001B[38;5;124;03m\"\"\"\u001B[39;00m\n\u001B[1;32m    319\u001B[0m \u001B[38;5;124;03m    The value of the `step` parameter (``1`` if this was not supplied).\u001B[39;00m\n\u001B[1;32m    320\u001B[0m \n\u001B[0;32m   (...)\u001B[0m\n\u001B[1;32m    336\u001B[0m \u001B[38;5;124;03m    1\u001B[39;00m\n\u001B[1;32m    337\u001B[0m \u001B[38;5;124;03m    \"\"\"\u001B[39;00m\n\u001B[1;32m    338\u001B[0m     \u001B[38;5;66;03m# GH 25710\u001B[39;00m\n",
      "\u001B[0;31mKeyboardInterrupt\u001B[0m: "
     ]
    }
   ],
   "source": [
    "rmse_df = pd.DataFrame(rmse)\n",
    "# pred_df = pd.DataFrame(ypred)\n",
    "# true_df = pd.DataFrame(ytrue)"
   ],
   "metadata": {
    "collapsed": false,
    "pycharm": {
     "name": "#%%\n"
    }
   }
  },
  {
   "cell_type": "code",
   "execution_count": 72,
   "outputs": [],
   "source": [
    "test_x = x_val[-1, :].reshape(1, -1)\n",
    "test_x_cons = valid_df[train_features_test].iloc[-1, :].values.reshape(1, -1)"
   ],
   "metadata": {
    "collapsed": false,
    "pycharm": {
     "name": "#%%\n"
    }
   }
  },
  {
   "cell_type": "code",
   "execution_count": 78,
   "outputs": [
    {
     "name": "stdout",
     "output_type": "stream",
     "text": [
      "1/1 [==============================] - 0s 29ms/step\n"
     ]
    }
   ],
   "source": [
    "preds = model.predict([test_x, test_x_cons])\n"
   ],
   "metadata": {
    "collapsed": false,
    "pycharm": {
     "name": "#%%\n"
    }
   }
  },
  {
   "cell_type": "code",
   "execution_count": 79,
   "outputs": [
    {
     "data": {
      "text/plain": "array([[-2.7423457e-04],\n       [-2.3064767e-03],\n       [-1.4398299e-03],\n       [-1.3466255e-04],\n       [-6.1064749e-04],\n       [-1.0027986e-03],\n       [ 1.5606404e-03],\n       [ 2.3287081e-04],\n       [ 7.3816400e-04],\n       [-3.8709759e-04],\n       [-3.4602184e-04],\n       [-8.0463884e-04],\n       [-1.0930328e-03],\n       [-5.1470066e-04],\n       [-1.9291659e-03],\n       [-5.9225300e-04],\n       [-9.9845883e-04],\n       [-7.2583638e-04],\n       [ 2.5094178e-04],\n       [-5.6439487e-04],\n       [-2.5192969e-03],\n       [ 1.7120889e-04],\n       [-3.9061165e-04],\n       [ 1.5866286e-03],\n       [ 5.5073638e-04],\n       [-1.1011825e-03],\n       [ 1.2349584e-03],\n       [ 3.5656849e-06],\n       [ 8.2784583e-04],\n       [-5.6279369e-04],\n       [-3.0728395e-04],\n       [ 9.1687473e-04],\n       [-4.0490413e-05],\n       [ 3.9559440e-05],\n       [ 2.9032512e-04],\n       [-2.7043046e-05],\n       [-4.9188617e-05],\n       [ 9.6712151e-04],\n       [ 6.1888609e-04],\n       [-1.4302582e-03],\n       [ 1.4680608e-03],\n       [-2.9020472e-03],\n       [-1.0010141e-03],\n       [-1.6745983e-03],\n       [ 1.1351308e-03],\n       [ 1.6572122e-03],\n       [ 5.0338858e-04],\n       [ 5.3877936e-04],\n       [ 1.8794226e-03],\n       [-1.2309480e-03],\n       [ 6.5961760e-04],\n       [ 1.9901888e-03],\n       [ 9.3715463e-04],\n       [-1.5434514e-03],\n       [-8.4765127e-04],\n       [ 2.0657999e-03],\n       [ 8.9228875e-04],\n       [ 1.2205469e-03],\n       [ 1.6508515e-03],\n       [ 5.8672042e-04],\n       [ 5.1635732e-05],\n       [ 1.6969059e-03],\n       [ 1.7834021e-03],\n       [-2.7724809e-04],\n       [-3.7825294e-04],\n       [ 1.0510018e-03],\n       [-7.1866810e-04],\n       [ 3.9543316e-04],\n       [-2.4090346e-03],\n       [ 9.2713360e-04],\n       [ 1.8901683e-03],\n       [-5.8673363e-04],\n       [-6.1474147e-04],\n       [-2.3214915e-03],\n       [ 6.8982801e-04],\n       [ 1.8728453e-03],\n       [-4.9748080e-04],\n       [ 4.9968361e-04],\n       [-1.8553053e-03],\n       [ 1.8632666e-03],\n       [ 1.1551633e-03],\n       [-1.6161872e-03],\n       [ 3.8852441e-04],\n       [ 1.1813474e-03],\n       [-1.3874972e-04],\n       [ 1.2150762e-03],\n       [ 1.0374167e-03],\n       [-4.4023409e-04],\n       [ 5.3852284e-04],\n       [ 2.2026943e-05],\n       [-1.9143199e-03],\n       [ 5.2765349e-04],\n       [-5.9885508e-04],\n       [ 3.8985052e-04],\n       [ 4.0648988e-04],\n       [-1.3387506e-04],\n       [-1.6383881e-04],\n       [-1.2094129e-03],\n       [ 3.6416156e-04],\n       [ 1.0870248e-03]], dtype=float32)"
     },
     "execution_count": 79,
     "metadata": {},
     "output_type": "execute_result"
    }
   ],
   "source": [
    "preds.reshape(-1, 1)"
   ],
   "metadata": {
    "collapsed": false,
    "pycharm": {
     "name": "#%%\n"
    }
   }
  },
  {
   "cell_type": "code",
   "execution_count": 76,
   "outputs": [
    {
     "data": {
      "text/plain": "0    166.624309\ndtype: float64"
     },
     "execution_count": 76,
     "metadata": {},
     "output_type": "execute_result"
    }
   ],
   "source": [
    "rmse_df.mean(axis = 0)"
   ],
   "metadata": {
    "collapsed": false,
    "pycharm": {
     "name": "#%%\n"
    }
   }
  },
  {
   "cell_type": "code",
   "execution_count": null,
   "outputs": [],
   "source": [],
   "metadata": {
    "collapsed": false,
    "pycharm": {
     "name": "#%%\n"
    }
   }
  }
 ],
 "metadata": {
  "kernelspec": {
   "display_name": "Python 3",
   "language": "python",
   "name": "python3"
  },
  "language_info": {
   "codemirror_mode": {
    "name": "ipython",
    "version": 2
   },
   "file_extension": ".py",
   "mimetype": "text/x-python",
   "name": "python",
   "nbconvert_exporter": "python",
   "pygments_lexer": "ipython2",
   "version": "2.7.6"
  }
 },
 "nbformat": 4,
 "nbformat_minor": 0
}