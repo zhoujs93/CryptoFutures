{
 "cells": [
  {
   "cell_type": "code",
   "execution_count": 1,
   "metadata": {
    "collapsed": true
   },
   "outputs": [
    {
     "name": "stderr",
     "output_type": "stream",
     "text": [
      "2023-12-03 01:04:19.075189: I tensorflow/core/platform/cpu_feature_guard.cc:182] This TensorFlow binary is optimized to use available CPU instructions in performance-critical operations.\n",
      "To enable the following instructions: AVX2 FMA, in other operations, rebuild TensorFlow with the appropriate compiler flags.\n"
     ]
    }
   ],
   "source": [
    "import tensorflow as tf\n",
    "tf.random.set_seed(42)\n",
    "from kerasbeats import prep_time_series, NBeatsModel\n",
    "from tensorflow import keras\n",
    "import numpy as np\n",
    "import pandas as pd\n",
    "\n",
    "\n",
    "def create_nbeat_mlp(num_columns, num_labels, lookback, horizon, hidden_units, dropout_rates, batch_size, ls=1e-2, lr=1e-3, ):\n",
    "    nbeats = NBeatsModel(model_type = 'generic', lookback = lookback, horizon = horizon,\n",
    "                         learning_rate = lr, batch_size = batch_size,\n",
    "                         num_generic_neurons = hidden_units[0]) # set as default\n",
    "    nbeats.build_layer()\n",
    "    time_input = keras.layers.Input(shape = (lookback * horizon, ))\n",
    "    x_nb = nbeats.model_layer(time_input)\n",
    "\n",
    "    xcons = keras.layers.Input(shape = (num_columns, ))\n",
    "    x = keras.layers.Concatenate()([xcons, x_nb])\n",
    "    x = tf.keras.layers.BatchNormalization()(x)\n",
    "    x = tf.keras.layers.Dropout(dropout_rates[0])(x)\n",
    "\n",
    "    for i in range(1, len(hidden_units)):\n",
    "        x = tf.keras.layers.Dense(hidden_units[i])(x)\n",
    "        x = tf.keras.layers.BatchNormalization()(x)\n",
    "        x = tf.keras.layers.Activation('swish')(x)\n",
    "        x = tf.keras.layers.Dropout(dropout_rates[i])(x)\n",
    "\n",
    "    out = tf.keras.layers.Dense(num_labels, name = 'action')(x)\n",
    "    model = tf.keras.models.Model(inputs = [time_input, xcons], outputs = out)\n",
    "    model.compile(optimizer=tf.keras.optimizers.Adam(learning_rate=lr),\n",
    "                  loss = {'action' : tf.keras.losses.MeanSquaredError()},\n",
    "                  metrics = {'action' : tf.metrics.MeanSquaredError(name = 'mse')})\n",
    "    return model"
   ]
  },
  {
   "cell_type": "code",
   "execution_count": 2,
   "outputs": [],
   "source": [
    "import lightgbm as lgb\n",
    "import pandas as pd\n",
    "import numpy as np\n",
    "from itertools import islice\n",
    "import tscv\n",
    "\n",
    "def generate_label(df, threshold = 0.002):\n",
    "    df['label'] = 0\n",
    "    df.loc[(df['target_15m'] <= -1*threshold), 'label'] = 1\n",
    "    df.loc[(df['target_15m'] >= threshold), 'label'] = 2\n",
    "    return df\n",
    "\n",
    "def get_na_features(df, train_features):\n",
    "    tmp = pd.DataFrame(df[train_features].isnull().sum())\n",
    "    tmp = tmp[tmp[0] > 0].reset_index()\n",
    "    tmp.columns = ['feat', 'cnt']\n",
    "    tmp = tmp.sort_values('cnt')\n",
    "    feat_groups = dict(tmp.groupby('cnt')['feat'].agg(lambda x: list(x)))\n",
    "    return feat_groups"
   ],
   "metadata": {
    "collapsed": false,
    "pycharm": {
     "name": "#%%\n"
    }
   }
  },
  {
   "cell_type": "code",
   "execution_count": 3,
   "outputs": [],
   "source": [
    "def normalize_columns_infer(df, means, stds):\n",
    "    features = means.index.tolist()\n",
    "    for feature in features:\n",
    "        mean = means.loc[feature]\n",
    "        std = stds.loc[feature]\n",
    "        df[feature] = (df[feature] - mean) / std\n",
    "    return df"
   ],
   "metadata": {
    "collapsed": false,
    "pycharm": {
     "name": "#%%\n"
    }
   }
  },
  {
   "cell_type": "code",
   "execution_count": 5,
   "outputs": [
    {
     "name": "stdout",
     "output_type": "stream",
     "text": [
      "Shape of X_const is (327745, 51), x_tr is (327745, 1500), y_tr is (327745, 500)\n",
      "10243/10243 [==============================] - 256s 25ms/step\n"
     ]
    }
   ],
   "source": [
    "train = False\n",
    "df = pd.read_feather('../data/df_btc_with_features_1m_spot.feather')\n",
    "\n",
    "df = df.loc[df['token'] == 'BTCUSDT'].reset_index(drop = True)\n",
    "\n",
    "df = df.sort_values(by='open_time', ignore_index=True)\n",
    "\n",
    "df['close_5m'] = df['close'].shift(-1)\n",
    "df['close_t'] = df['close'].copy()\n",
    "df['target_5m'] = df['close'].pct_change(1)\n",
    "\n",
    "start_time = df['open_time'].min()\n",
    "end_time = df['open_time'].max()\n",
    "dates = df['open_time'].unique()\n",
    "n = len(dates)\n",
    "train_idx = int(0.7 * n)\n",
    "valid_idx = int(0.9 * n)\n",
    "train_end = dates[train_idx]\n",
    "valid_end = dates[valid_idx]\n",
    "\n",
    "train_df = df.loc[df['open_time'] < train_end].reset_index(drop=True)\n",
    "valid_df = df.loc[(train_end <= df['open_time']) & (df['open_time'] < valid_end)].reset_index(drop=True)\n",
    "\n",
    "train_df = pd.concat([train_df, valid_df], axis = 0)\n",
    "\n",
    "test_df = df.loc[(df['open_time'] >= valid_end)].reset_index(drop=True)\n",
    "\n",
    "valid_df = test_df.copy()\n",
    "\n",
    "groups = pd.factorize(\n",
    "    train_df['open_time'].dt.day.astype(str) + '_' + train_df['open_time'].dt.month.astype(str) + '_' + train_df[\n",
    "        'open_time'].dt.year.astype(str))[0]\n",
    "\n",
    "cv = tscv.PurgedGroupTimeSeriesSplit(\n",
    "    n_splits=5,\n",
    "    group_gap=31,\n",
    ")\n",
    "\n",
    "from joblib import load, dump\n",
    "date = f'11_27'\n",
    "directory = f'spot_data_1202_nbeats_1m'\n",
    "lookback = 3\n",
    "horizon = 500\n",
    "\n",
    "means = load(f'../output/{directory}/means_nbeats_huber_l=3_h=500_50feats.joblib')\n",
    "std = load(f'../output/{directory}/std_return_nbeats_l=3_h=500_50feats.joblib')\n",
    "train_features_test = load(\n",
    "    f'../output/{directory}/train_features_test_return_nbeats_l=3_h=500_50feats.joblib')\n",
    "\n",
    "batch_size = 4096\n",
    "train_features_test += ['target_5m']\n",
    "params = {'num_columns': len(train_features_test),\n",
    "          'num_labels': 500,\n",
    "          'lookback' : lookback,\n",
    "          'horizon' : horizon,\n",
    "          'batch_size' : batch_size,\n",
    "          'hidden_units': [200, 200, 300, 256],\n",
    "          'dropout_rates': [0.7, 0.5,\n",
    "                            0.7, 0.5],\n",
    "          'ls': 0,\n",
    "          'lr': 1e-3,\n",
    "          }\n",
    "\n",
    "valid_df = normalize_columns_infer(valid_df, means, std)\n",
    "\n",
    "x_val, y_val = prep_time_series(valid_df['target_5m'], lookback = lookback, horizon = horizon)\n",
    "cutoff_val = valid_df.shape[0] - x_val.shape[0]\n",
    "\n",
    "x_val_cons = valid_df[train_features_test].iloc[(lookback * horizon) - 1:-horizon, :]\n",
    "print(f'Shape of X_const is {x_val_cons.shape}, x_tr is {x_val.shape}, y_tr is {y_val.shape}')\n",
    "fold = 4\n",
    "model = create_nbeat_mlp(**params)\n",
    "model.load_weights(f'../output/{directory}/NBEATS_HUBER_4_returns500m_3m_weightedmse_allfeats_hidrop.hdf5')\n",
    "\n",
    "preds = model.predict([x_val, x_val_cons])\n"
   ],
   "metadata": {
    "collapsed": false,
    "pycharm": {
     "name": "#%%\n"
    }
   }
  },
  {
   "cell_type": "code",
   "execution_count": 11,
   "outputs": [],
   "source": [
    "x_val_cons = valid_df[['close_t', 'close_5m', 'open_time', 'target_5m']]"
   ],
   "metadata": {
    "collapsed": false,
    "pycharm": {
     "name": "#%%\n"
    }
   }
  },
  {
   "cell_type": "code",
   "execution_count": 7,
   "outputs": [],
   "source": [
    "x_time, y_time = prep_time_series(valid_df['open_time'], lookback = lookback, horizon = horizon)"
   ],
   "metadata": {
    "collapsed": false,
    "pycharm": {
     "name": "#%%\n"
    }
   }
  },
  {
   "cell_type": "code",
   "execution_count": 8,
   "outputs": [],
   "source": [
    "x_val, y_val = prep_time_series(valid_df['target_5m'], lookback = lookback, horizon = horizon)"
   ],
   "metadata": {
    "collapsed": false,
    "pycharm": {
     "name": "#%%\n"
    }
   }
  },
  {
   "cell_type": "code",
   "execution_count": 9,
   "outputs": [],
   "source": [
    "x_val_price, y_val_price = prep_time_series(valid_df['close_t'], lookback = lookback, horizon = horizon)"
   ],
   "metadata": {
    "collapsed": false,
    "pycharm": {
     "name": "#%%\n"
    }
   }
  },
  {
   "cell_type": "code",
   "execution_count": 16,
   "outputs": [],
   "source": [
    "tt = x_val_cons.loc[(x_val_cons['open_time'] >= '2023-04-15') & (x_val_cons['open_time'] < '2023-04-16')]"
   ],
   "metadata": {
    "collapsed": false,
    "pycharm": {
     "name": "#%%\n"
    }
   }
  },
  {
   "cell_type": "code",
   "execution_count": 12,
   "outputs": [
    {
     "name": "stderr",
     "output_type": "stream",
     "text": [
      "327745it [00:30, 10889.77it/s]\n"
     ]
    },
    {
     "ename": "IndexError",
     "evalue": "index 327745 is out of bounds for axis 0 with size 327745",
     "output_type": "error",
     "traceback": [
      "\u001B[0;31m---------------------------------------------------------------------------\u001B[0m",
      "\u001B[0;31mIndexError\u001B[0m                                Traceback (most recent call last)",
      "Cell \u001B[0;32mIn[12], line 8\u001B[0m\n\u001B[1;32m      6\u001B[0m ret_true \u001B[38;5;241m=\u001B[39m []\n\u001B[1;32m      7\u001B[0m \u001B[38;5;28;01mfor\u001B[39;00m i, row \u001B[38;5;129;01min\u001B[39;00m tqdm(x_val_cons\u001B[38;5;241m.\u001B[39miterrows()):\n\u001B[0;32m----> 8\u001B[0m     rets \u001B[38;5;241m=\u001B[39m \u001B[43mpreds\u001B[49m\u001B[43m[\u001B[49m\u001B[43mi\u001B[49m\u001B[43m,\u001B[49m\u001B[43m \u001B[49m\u001B[43m:\u001B[49m\u001B[43m]\u001B[49m\n\u001B[1;32m      9\u001B[0m     cum_rets \u001B[38;5;241m=\u001B[39m (\u001B[38;5;241m1\u001B[39m \u001B[38;5;241m+\u001B[39m rets)\u001B[38;5;241m.\u001B[39mcumprod() \u001B[38;5;241m-\u001B[39m \u001B[38;5;241m1\u001B[39m\n\u001B[1;32m     10\u001B[0m     prices \u001B[38;5;241m=\u001B[39m (\u001B[38;5;241m1\u001B[39m \u001B[38;5;241m+\u001B[39m cum_rets) \u001B[38;5;241m*\u001B[39m row[\u001B[38;5;124m'\u001B[39m\u001B[38;5;124mclose_t\u001B[39m\u001B[38;5;124m'\u001B[39m]\n",
      "\u001B[0;31mIndexError\u001B[0m: index 327745 is out of bounds for axis 0 with size 327745"
     ]
    }
   ],
   "source": [
    "from tqdm import tqdm\n",
    "ypred = []\n",
    "ytrue = []\n",
    "dates = []\n",
    "ret_pred = []\n",
    "ret_true = []\n",
    "for i, row in tqdm(x_val_cons.iterrows()):\n",
    "    rets = preds[i, :]\n",
    "    cum_rets = (1 + rets).cumprod() - 1\n",
    "    prices = (1 + cum_rets) * row['close_t']\n",
    "    dates.append(row['open_time'])\n",
    "    ypred.append(prices)\n",
    "    ytrue_price = y_val_price[i, :]\n",
    "    ytrue.append(ytrue_price)\n",
    "    ret_pred.append(rets)\n",
    "    ytrue_ret = y_val[i, :]\n",
    "    ret_true.append(ytrue_ret)"
   ],
   "metadata": {
    "collapsed": false,
    "pycharm": {
     "name": "#%%\n"
    }
   }
  },
  {
   "cell_type": "code",
   "execution_count": 13,
   "outputs": [],
   "source": [
    "def calculate_weighted_rmse(predictions: np, actual: np) -> float:\n",
    "    predictions = np.array(predictions)\n",
    "    actual = np.array(actual)\n",
    "\n",
    "    k = 0.001\n",
    "\n",
    "    weights = np.exp(-k * np.arange(len(predictions)))\n",
    "    weighted_squared_errors = weights * (predictions - actual) ** 2\n",
    "    weighted_rmse = np.sqrt(np.sum(weighted_squared_errors) / np.sum(weights))\n",
    "\n",
    "    return weighted_rmse"
   ],
   "metadata": {
    "collapsed": false,
    "pycharm": {
     "name": "#%%\n"
    }
   }
  },
  {
   "cell_type": "code",
   "execution_count": 18,
   "outputs": [
    {
     "name": "stderr",
     "output_type": "stream",
     "text": [
      "100%|██████████| 327744/327744 [02:26<00:00, 2232.93it/s]\n"
     ]
    }
   ],
   "source": [
    "from sklearn.metrics import r2_score\n",
    "from tqdm import tqdm\n",
    "\n",
    "rmse = []\n",
    "rsquare = []\n",
    "rmse_5min = []\n",
    "for i in tqdm(range(1, len(ypred))):\n",
    "    date = dates[i]\n",
    "    ypred_price_i = ypred[i]\n",
    "    ytrue_price_i = ytrue[i]\n",
    "    ytrue_ret_i = ret_true[i]\n",
    "    ypred_ret_i = ret_pred[i]\n",
    "    score = calculate_weighted_rmse(ytrue_price_i, ypred_price_i)\n",
    "    rmse_5min_score = calculate_weighted_rmse(ytrue_price_i[::5], ypred_price_i[::5])\n",
    "    rsquare_score = r2_score(ytrue_ret_i, ypred_ret_i)\n",
    "    rmse.append((date, score))\n",
    "    rmse_5min.append(rmse_5min_score)\n",
    "    rsquare.append((date, rsquare_score))"
   ],
   "metadata": {
    "collapsed": false,
    "pycharm": {
     "name": "#%%\n"
    }
   }
  },
  {
   "cell_type": "code",
   "execution_count": 19,
   "outputs": [],
   "source": [
    "rmse_df = pd.DataFrame(rmse)\n",
    "rsquared_df = pd.DataFrame(rsquare)\n",
    "rmse_df_5min = pd.DataFrame(rmse_5min)\n",
    "# pred_df = pd.DataFrame(ypred)\n",
    "# true_df = pd.DataFrame(ytrue)"
   ],
   "metadata": {
    "collapsed": false,
    "pycharm": {
     "name": "#%%\n"
    }
   }
  },
  {
   "cell_type": "code",
   "execution_count": 20,
   "outputs": [
    {
     "data": {
      "text/plain": "0    434.587161\ndtype: float64"
     },
     "execution_count": 20,
     "metadata": {},
     "output_type": "execute_result"
    }
   ],
   "source": [
    "rmse_df_5min.mean()"
   ],
   "metadata": {
    "collapsed": false,
    "pycharm": {
     "name": "#%%\n"
    }
   }
  },
  {
   "cell_type": "code",
   "execution_count": 21,
   "outputs": [
    {
     "data": {
      "text/plain": "0    2023-08-06 19:28:29.999998976\n1                       433.079244\ndtype: object"
     },
     "execution_count": 21,
     "metadata": {},
     "output_type": "execute_result"
    }
   ],
   "source": [
    "rmse_df.mean()"
   ],
   "metadata": {
    "collapsed": false,
    "pycharm": {
     "name": "#%%\n"
    }
   }
  },
  {
   "cell_type": "code",
   "execution_count": 20,
   "outputs": [
    {
     "data": {
      "text/plain": "0    65 days 12:05:19.314835846\n1                    175.214985\ndtype: object"
     },
     "execution_count": 20,
     "metadata": {},
     "output_type": "execute_result"
    }
   ],
   "source": [
    "rmse_df.std()"
   ],
   "metadata": {
    "collapsed": false,
    "pycharm": {
     "name": "#%%\n"
    }
   }
  },
  {
   "cell_type": "code",
   "execution_count": 281,
   "outputs": [],
   "source": [
    "tt = rmse_df.loc[('2023-10-26' <= rmse_df[0]) & ('2023-10-27' > rmse_df[0])]"
   ],
   "metadata": {
    "collapsed": false,
    "pycharm": {
     "name": "#%%\n"
    }
   }
  },
  {
   "cell_type": "code",
   "execution_count": 215,
   "outputs": [],
   "source": [
    "sample = pd.DataFrame({\n",
    "    'ypred' : ypred[55540],\n",
    "    'ytrue' : ytrue[55540]\n",
    "})"
   ],
   "metadata": {
    "collapsed": false,
    "pycharm": {
     "name": "#%%\n"
    }
   }
  },
  {
   "cell_type": "code",
   "execution_count": 216,
   "outputs": [
    {
     "data": {
      "text/plain": "           ypred     ytrue\n0   31551.136719  31521.07\n1   31574.626953  31551.50\n2   31586.687500  31600.81\n3   31564.462891  31629.32\n4   31567.626953  31613.31\n..           ...       ...\n95  31741.500000  34475.99\n96  31738.015625  34514.07\n97  31742.509766  34572.01\n98  31769.808594  34472.88\n99  31779.568359  34449.23\n\n[100 rows x 2 columns]",
      "text/html": "<div>\n<style scoped>\n    .dataframe tbody tr th:only-of-type {\n        vertical-align: middle;\n    }\n\n    .dataframe tbody tr th {\n        vertical-align: top;\n    }\n\n    .dataframe thead th {\n        text-align: right;\n    }\n</style>\n<table border=\"1\" class=\"dataframe\">\n  <thead>\n    <tr style=\"text-align: right;\">\n      <th></th>\n      <th>ypred</th>\n      <th>ytrue</th>\n    </tr>\n  </thead>\n  <tbody>\n    <tr>\n      <th>0</th>\n      <td>31551.136719</td>\n      <td>31521.07</td>\n    </tr>\n    <tr>\n      <th>1</th>\n      <td>31574.626953</td>\n      <td>31551.50</td>\n    </tr>\n    <tr>\n      <th>2</th>\n      <td>31586.687500</td>\n      <td>31600.81</td>\n    </tr>\n    <tr>\n      <th>3</th>\n      <td>31564.462891</td>\n      <td>31629.32</td>\n    </tr>\n    <tr>\n      <th>4</th>\n      <td>31567.626953</td>\n      <td>31613.31</td>\n    </tr>\n    <tr>\n      <th>...</th>\n      <td>...</td>\n      <td>...</td>\n    </tr>\n    <tr>\n      <th>95</th>\n      <td>31741.500000</td>\n      <td>34475.99</td>\n    </tr>\n    <tr>\n      <th>96</th>\n      <td>31738.015625</td>\n      <td>34514.07</td>\n    </tr>\n    <tr>\n      <th>97</th>\n      <td>31742.509766</td>\n      <td>34572.01</td>\n    </tr>\n    <tr>\n      <th>98</th>\n      <td>31769.808594</td>\n      <td>34472.88</td>\n    </tr>\n    <tr>\n      <th>99</th>\n      <td>31779.568359</td>\n      <td>34449.23</td>\n    </tr>\n  </tbody>\n</table>\n<p>100 rows × 2 columns</p>\n</div>"
     },
     "execution_count": 216,
     "metadata": {},
     "output_type": "execute_result"
    }
   ],
   "source": [
    "sample"
   ],
   "metadata": {
    "collapsed": false,
    "pycharm": {
     "name": "#%%\n"
    }
   }
  },
  {
   "cell_type": "code",
   "execution_count": 67,
   "outputs": [
    {
     "data": {
      "text/plain": "<Axes: >"
     },
     "execution_count": 67,
     "metadata": {},
     "output_type": "execute_result"
    },
    {
     "data": {
      "text/plain": "<Figure size 640x480 with 1 Axes>",
      "image/png": "[encoded data removed]"
     },
     "metadata": {},
     "output_type": "display_data"
    }
   ],
   "source": [
    "rmse_df.loc[50000:60000].plot()"
   ],
   "metadata": {
    "collapsed": false,
    "pycharm": {
     "name": "#%%\n"
    }
   }
  },
  {
   "cell_type": "code",
   "execution_count": 30,
   "outputs": [
    {
     "data": {
      "text/plain": "<Axes: >"
     },
     "execution_count": 30,
     "metadata": {},
     "output_type": "execute_result"
    },
    {
     "data": {
      "text/plain": "<Figure size 640x480 with 1 Axes>",
      "image/png": "[encoded data removed]"
     },
     "metadata": {},
     "output_type": "display_data"
    }
   ],
   "source": [
    "rmse_df.loc[50000:60000].plot()"
   ],
   "metadata": {
    "collapsed": false,
    "pycharm": {
     "name": "#%%\n"
    }
   }
  },
  {
   "cell_type": "code",
   "execution_count": 72,
   "outputs": [],
   "source": [
    "test_x = x_val[-1, :].reshape(1, -1)\n",
    "test_x_cons = valid_df[train_features_test].iloc[-1, :].values.reshape(1, -1)"
   ],
   "metadata": {
    "collapsed": false,
    "pycharm": {
     "name": "#%%\n"
    }
   }
  },
  {
   "cell_type": "code",
   "execution_count": 78,
   "outputs": [
    {
     "name": "stdout",
     "output_type": "stream",
     "text": [
      "1/1 [==============================] - 0s 29ms/step\n"
     ]
    }
   ],
   "source": [
    "preds = model.predict([test_x, test_x_cons])\n"
   ],
   "metadata": {
    "collapsed": false,
    "pycharm": {
     "name": "#%%\n"
    }
   }
  },
  {
   "cell_type": "code",
   "execution_count": 79,
   "outputs": [
    {
     "data": {
      "text/plain": "array([[-2.7423457e-04],\n       [-2.3064767e-03],\n       [-1.4398299e-03],\n       [-1.3466255e-04],\n       [-6.1064749e-04],\n       [-1.0027986e-03],\n       [ 1.5606404e-03],\n       [ 2.3287081e-04],\n       [ 7.3816400e-04],\n       [-3.8709759e-04],\n       [-3.4602184e-04],\n       [-8.0463884e-04],\n       [-1.0930328e-03],\n       [-5.1470066e-04],\n       [-1.9291659e-03],\n       [-5.9225300e-04],\n       [-9.9845883e-04],\n       [-7.2583638e-04],\n       [ 2.5094178e-04],\n       [-5.6439487e-04],\n       [-2.5192969e-03],\n       [ 1.7120889e-04],\n       [-3.9061165e-04],\n       [ 1.5866286e-03],\n       [ 5.5073638e-04],\n       [-1.1011825e-03],\n       [ 1.2349584e-03],\n       [ 3.5656849e-06],\n       [ 8.2784583e-04],\n       [-5.6279369e-04],\n       [-3.0728395e-04],\n       [ 9.1687473e-04],\n       [-4.0490413e-05],\n       [ 3.9559440e-05],\n       [ 2.9032512e-04],\n       [-2.7043046e-05],\n       [-4.9188617e-05],\n       [ 9.6712151e-04],\n       [ 6.1888609e-04],\n       [-1.4302582e-03],\n       [ 1.4680608e-03],\n       [-2.9020472e-03],\n       [-1.0010141e-03],\n       [-1.6745983e-03],\n       [ 1.1351308e-03],\n       [ 1.6572122e-03],\n       [ 5.0338858e-04],\n       [ 5.3877936e-04],\n       [ 1.8794226e-03],\n       [-1.2309480e-03],\n       [ 6.5961760e-04],\n       [ 1.9901888e-03],\n       [ 9.3715463e-04],\n       [-1.5434514e-03],\n       [-8.4765127e-04],\n       [ 2.0657999e-03],\n       [ 8.9228875e-04],\n       [ 1.2205469e-03],\n       [ 1.6508515e-03],\n       [ 5.8672042e-04],\n       [ 5.1635732e-05],\n       [ 1.6969059e-03],\n       [ 1.7834021e-03],\n       [-2.7724809e-04],\n       [-3.7825294e-04],\n       [ 1.0510018e-03],\n       [-7.1866810e-04],\n       [ 3.9543316e-04],\n       [-2.4090346e-03],\n       [ 9.2713360e-04],\n       [ 1.8901683e-03],\n       [-5.8673363e-04],\n       [-6.1474147e-04],\n       [-2.3214915e-03],\n       [ 6.8982801e-04],\n       [ 1.8728453e-03],\n       [-4.9748080e-04],\n       [ 4.9968361e-04],\n       [-1.8553053e-03],\n       [ 1.8632666e-03],\n       [ 1.1551633e-03],\n       [-1.6161872e-03],\n       [ 3.8852441e-04],\n       [ 1.1813474e-03],\n       [-1.3874972e-04],\n       [ 1.2150762e-03],\n       [ 1.0374167e-03],\n       [-4.4023409e-04],\n       [ 5.3852284e-04],\n       [ 2.2026943e-05],\n       [-1.9143199e-03],\n       [ 5.2765349e-04],\n       [-5.9885508e-04],\n       [ 3.8985052e-04],\n       [ 4.0648988e-04],\n       [-1.3387506e-04],\n       [-1.6383881e-04],\n       [-1.2094129e-03],\n       [ 3.6416156e-04],\n       [ 1.0870248e-03]], dtype=float32)"
     },
     "execution_count": 79,
     "metadata": {},
     "output_type": "execute_result"
    }
   ],
   "source": [
    "test_df"
   ],
   "metadata": {
    "collapsed": false,
    "pycharm": {
     "name": "#%%\n"
    }
   }
  },
  {
   "cell_type": "code",
   "execution_count": 76,
   "outputs": [
    {
     "data": {
      "text/plain": "0    166.624309\ndtype: float64"
     },
     "execution_count": 76,
     "metadata": {},
     "output_type": "execute_result"
    }
   ],
   "source": [
    "rmse_df.mean(axis = 0)"
   ],
   "metadata": {
    "collapsed": false,
    "pycharm": {
     "name": "#%%\n"
    }
   }
  },
  {
   "cell_type": "code",
   "execution_count": null,
   "outputs": [],
   "source": [
    "x_val, y_val = prep_time_series(valid['close'], lookback = lookback, horizon = horizon)\n",
    "cutoff_val = valid_df.shape[0] - x_val.shape[0]"
   ],
   "metadata": {
    "collapsed": false,
    "pycharm": {
     "name": "#%%\n"
    }
   }
  },
  {
   "cell_type": "code",
   "execution_count": 83,
   "outputs": [],
   "source": [
    "x_pred, y_pred = prep_time_series(valid_df['close'], lookback = lookback, horizon = horizon)"
   ],
   "metadata": {
    "collapsed": false,
    "pycharm": {
     "name": "#%%\n"
    }
   }
  },
  {
   "cell_type": "code",
   "execution_count": 84,
   "outputs": [],
   "source": [
    "x_true, y_true = prep_time_series(valid_df['close_5m'], lookback = lookback, horizon = horizon)"
   ],
   "metadata": {
    "collapsed": false,
    "pycharm": {
     "name": "#%%\n"
    }
   }
  },
  {
   "cell_type": "code",
   "execution_count": 97,
   "outputs": [
    {
     "name": "stderr",
     "output_type": "stream",
     "text": [
      "100%|██████████| 65649/65649 [00:06<00:00, 10560.92it/s]\n"
     ]
    }
   ],
   "source": [
    "rmse_baseline = []\n",
    "for row in tqdm(range(valid_df.shape[0]-100)):\n",
    "    ypred = [valid_df['close'].iloc[row]] * 100\n",
    "    ytrue = valid_df['close_5m'].iloc[row:row + 100]\n",
    "    score = calculate_weighted_rmse(ypred, ytrue)\n",
    "    rmse_baseline.append(score)"
   ],
   "metadata": {
    "collapsed": false,
    "pycharm": {
     "name": "#%%\n"
    }
   }
  },
  {
   "cell_type": "code",
   "execution_count": 98,
   "outputs": [],
   "source": [
    "rmse_base_df = pd.DataFrame(rmse_baseline, columns = ['baseline'])"
   ],
   "metadata": {
    "collapsed": false,
    "pycharm": {
     "name": "#%%\n"
    }
   }
  },
  {
   "cell_type": "code",
   "execution_count": 100,
   "outputs": [
    {
     "data": {
      "text/plain": "         baseline\n0       65.216209\n1       66.619421\n2       66.190923\n3       64.714689\n4       63.573939\n...           ...\n65644  835.754484\n65645  695.870742\n65646  713.182356\n65647  689.329160\n65648  764.818826\n\n[65649 rows x 1 columns]",
      "text/html": "<div>\n<style scoped>\n    .dataframe tbody tr th:only-of-type {\n        vertical-align: middle;\n    }\n\n    .dataframe tbody tr th {\n        vertical-align: top;\n    }\n\n    .dataframe thead th {\n        text-align: right;\n    }\n</style>\n<table border=\"1\" class=\"dataframe\">\n  <thead>\n    <tr style=\"text-align: right;\">\n      <th></th>\n      <th>baseline</th>\n    </tr>\n  </thead>\n  <tbody>\n    <tr>\n      <th>0</th>\n      <td>65.216209</td>\n    </tr>\n    <tr>\n      <th>1</th>\n      <td>66.619421</td>\n    </tr>\n    <tr>\n      <th>2</th>\n      <td>66.190923</td>\n    </tr>\n    <tr>\n      <th>3</th>\n      <td>64.714689</td>\n    </tr>\n    <tr>\n      <th>4</th>\n      <td>63.573939</td>\n    </tr>\n    <tr>\n      <th>...</th>\n      <td>...</td>\n    </tr>\n    <tr>\n      <th>65644</th>\n      <td>835.754484</td>\n    </tr>\n    <tr>\n      <th>65645</th>\n      <td>695.870742</td>\n    </tr>\n    <tr>\n      <th>65646</th>\n      <td>713.182356</td>\n    </tr>\n    <tr>\n      <th>65647</th>\n      <td>689.329160</td>\n    </tr>\n    <tr>\n      <th>65648</th>\n      <td>764.818826</td>\n    </tr>\n  </tbody>\n</table>\n<p>65649 rows × 1 columns</p>\n</div>"
     },
     "execution_count": 100,
     "metadata": {},
     "output_type": "execute_result"
    }
   ],
   "source": [
    "rmse_base_df"
   ],
   "metadata": {
    "collapsed": false,
    "pycharm": {
     "name": "#%%\n"
    }
   }
  },
  {
   "cell_type": "code",
   "execution_count": null,
   "outputs": [],
   "source": [],
   "metadata": {
    "collapsed": false,
    "pycharm": {
     "name": "#%%\n"
    }
   }
  }
 ],
 "metadata": {
  "kernelspec": {
   "display_name": "Python 3",
   "language": "python",
   "name": "python3"
  },
  "language_info": {
   "codemirror_mode": {
    "name": "ipython",
    "version": 2
   },
   "file_extension": ".py",
   "mimetype": "text/x-python",
   "name": "python",
   "nbconvert_exporter": "python",
   "pygments_lexer": "ipython2",
   "version": "2.7.6"
  }
 },
 "nbformat": 4,
 "nbformat_minor": 0
}