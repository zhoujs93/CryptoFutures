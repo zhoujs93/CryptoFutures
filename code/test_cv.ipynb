{
 "cells": [
  {
   "cell_type": "code",
   "execution_count": 105,
   "metadata": {
    "collapsed": true
   },
   "outputs": [],
   "source": [
    "import tscv\n",
    "import pandas as pd\n",
    "import talib as ta\n",
    "import numpy as np"
   ]
  },
  {
   "cell_type": "code",
   "execution_count": 71,
   "outputs": [],
   "source": [
    "df = pd.read_feather('../data/df_btc_eth_with_features.feather')\n",
    "cols_to_drop = ['open_time', 'close_time', 'ignore',\n",
    "                'create_time', 'symbol', 'returns', 'returns_5m',\n",
    "                'open', 'high', 'low', 'close', 'target_15m', 'token']"
   ],
   "metadata": {
    "collapsed": false,
    "pycharm": {
     "name": "#%%\n"
    }
   }
  },
  {
   "cell_type": "code",
   "execution_count": 72,
   "outputs": [
    {
     "data": {
      "text/plain": "            open_time     open     high      low    close   volume  \\\n0 2020-01-01 00:00:00  7189.43  7190.52  7177.00  7182.44  246.092   \n1 2020-01-01 00:00:00   129.12   129.12   128.91   128.97  289.040   \n2 2020-01-01 00:01:00  7182.43  7182.44  7178.75  7179.01   70.909   \n3 2020-01-01 00:01:00   128.95   129.04   128.93   128.94  695.566   \n4 2020-01-01 00:02:00  7179.01  7179.01  7175.25  7177.93   99.420   \n\n                     close_time  quote_asset_volume  number_of_trades  \\\n0 2020-01-01 00:00:59.999000064        1.767430e+06             336.0   \n1 2020-01-01 00:00:59.999000064        3.729667e+04              18.0   \n2 2020-01-01 00:01:59.999000064        5.091458e+05             140.0   \n3 2020-01-01 00:01:59.999000064        8.971706e+04              49.0   \n4 2020-01-01 00:02:59.999000064        7.135396e+05             148.0   \n\n   taker_buy_base_asset_volume  ...  mom_roc_30  mom_roc_60 mom_roc_120  \\\n0                       46.630  ...         NaN         NaN         NaN   \n1                      155.107  ...         NaN         NaN         NaN   \n2                       32.597  ...         NaN         NaN         NaN   \n3                      284.536  ...         NaN         NaN         NaN   \n4                       16.311  ...         NaN         NaN         NaN   \n\n   mom_roc_240  sin_hour  cos_hour   Day_sin  Day_cos  month_sin  month_cos  \n0          NaN  0.000000  1.000000  0.201299  0.97953        0.5   0.866025  \n1          NaN  0.000000  1.000000  0.201299  0.97953        0.5   0.866025  \n2          NaN  0.004363  0.999990  0.201299  0.97953        0.5   0.866025  \n3          NaN  0.004363  0.999990  0.201299  0.97953        0.5   0.866025  \n4          NaN  0.008727  0.999962  0.201299  0.97953        0.5   0.866025  \n\n[5 rows x 155 columns]",
      "text/html": "<div>\n<style scoped>\n    .dataframe tbody tr th:only-of-type {\n        vertical-align: middle;\n    }\n\n    .dataframe tbody tr th {\n        vertical-align: top;\n    }\n\n    .dataframe thead th {\n        text-align: right;\n    }\n</style>\n<table border=\"1\" class=\"dataframe\">\n  <thead>\n    <tr style=\"text-align: right;\">\n      <th></th>\n      <th>open_time</th>\n      <th>open</th>\n      <th>high</th>\n      <th>low</th>\n      <th>close</th>\n      <th>volume</th>\n      <th>close_time</th>\n      <th>quote_asset_volume</th>\n      <th>number_of_trades</th>\n      <th>taker_buy_base_asset_volume</th>\n      <th>...</th>\n      <th>mom_roc_30</th>\n      <th>mom_roc_60</th>\n      <th>mom_roc_120</th>\n      <th>mom_roc_240</th>\n      <th>sin_hour</th>\n      <th>cos_hour</th>\n      <th>Day_sin</th>\n      <th>Day_cos</th>\n      <th>month_sin</th>\n      <th>month_cos</th>\n    </tr>\n  </thead>\n  <tbody>\n    <tr>\n      <th>0</th>\n      <td>2020-01-01 00:00:00</td>\n      <td>7189.43</td>\n      <td>7190.52</td>\n      <td>7177.00</td>\n      <td>7182.44</td>\n      <td>246.092</td>\n      <td>2020-01-01 00:00:59.999000064</td>\n      <td>1.767430e+06</td>\n      <td>336.0</td>\n      <td>46.630</td>\n      <td>...</td>\n      <td>NaN</td>\n      <td>NaN</td>\n      <td>NaN</td>\n      <td>NaN</td>\n      <td>0.000000</td>\n      <td>1.000000</td>\n      <td>0.201299</td>\n      <td>0.97953</td>\n      <td>0.5</td>\n      <td>0.866025</td>\n    </tr>\n    <tr>\n      <th>1</th>\n      <td>2020-01-01 00:00:00</td>\n      <td>129.12</td>\n      <td>129.12</td>\n      <td>128.91</td>\n      <td>128.97</td>\n      <td>289.040</td>\n      <td>2020-01-01 00:00:59.999000064</td>\n      <td>3.729667e+04</td>\n      <td>18.0</td>\n      <td>155.107</td>\n      <td>...</td>\n      <td>NaN</td>\n      <td>NaN</td>\n      <td>NaN</td>\n      <td>NaN</td>\n      <td>0.000000</td>\n      <td>1.000000</td>\n      <td>0.201299</td>\n      <td>0.97953</td>\n      <td>0.5</td>\n      <td>0.866025</td>\n    </tr>\n    <tr>\n      <th>2</th>\n      <td>2020-01-01 00:01:00</td>\n      <td>7182.43</td>\n      <td>7182.44</td>\n      <td>7178.75</td>\n      <td>7179.01</td>\n      <td>70.909</td>\n      <td>2020-01-01 00:01:59.999000064</td>\n      <td>5.091458e+05</td>\n      <td>140.0</td>\n      <td>32.597</td>\n      <td>...</td>\n      <td>NaN</td>\n      <td>NaN</td>\n      <td>NaN</td>\n      <td>NaN</td>\n      <td>0.004363</td>\n      <td>0.999990</td>\n      <td>0.201299</td>\n      <td>0.97953</td>\n      <td>0.5</td>\n      <td>0.866025</td>\n    </tr>\n    <tr>\n      <th>3</th>\n      <td>2020-01-01 00:01:00</td>\n      <td>128.95</td>\n      <td>129.04</td>\n      <td>128.93</td>\n      <td>128.94</td>\n      <td>695.566</td>\n      <td>2020-01-01 00:01:59.999000064</td>\n      <td>8.971706e+04</td>\n      <td>49.0</td>\n      <td>284.536</td>\n      <td>...</td>\n      <td>NaN</td>\n      <td>NaN</td>\n      <td>NaN</td>\n      <td>NaN</td>\n      <td>0.004363</td>\n      <td>0.999990</td>\n      <td>0.201299</td>\n      <td>0.97953</td>\n      <td>0.5</td>\n      <td>0.866025</td>\n    </tr>\n    <tr>\n      <th>4</th>\n      <td>2020-01-01 00:02:00</td>\n      <td>7179.01</td>\n      <td>7179.01</td>\n      <td>7175.25</td>\n      <td>7177.93</td>\n      <td>99.420</td>\n      <td>2020-01-01 00:02:59.999000064</td>\n      <td>7.135396e+05</td>\n      <td>148.0</td>\n      <td>16.311</td>\n      <td>...</td>\n      <td>NaN</td>\n      <td>NaN</td>\n      <td>NaN</td>\n      <td>NaN</td>\n      <td>0.008727</td>\n      <td>0.999962</td>\n      <td>0.201299</td>\n      <td>0.97953</td>\n      <td>0.5</td>\n      <td>0.866025</td>\n    </tr>\n  </tbody>\n</table>\n<p>5 rows × 155 columns</p>\n</div>"
     },
     "execution_count": 72,
     "metadata": {},
     "output_type": "execute_result"
    }
   ],
   "source": [
    "df.head()"
   ],
   "metadata": {
    "collapsed": false,
    "pycharm": {
     "name": "#%%\n"
    }
   }
  },
  {
   "cell_type": "code",
   "execution_count": 73,
   "outputs": [],
   "source": [
    "train_features = [x for x in df.columns if (x not in cols_to_drop)]"
   ],
   "metadata": {
    "collapsed": false,
    "pycharm": {
     "name": "#%%\n"
    }
   }
  },
  {
   "cell_type": "code",
   "execution_count": 80,
   "outputs": [],
   "source": [
    "df_oi = ['sum_open_interest', 'sum_open_interest_value', 'count_toptrader_long_short_ratio',\n",
    "         'sum_toptrader_long_short_ratio', 'count_long_short_ratio',\n",
    "         'sum_taker_long_short_vol_ratio', 'taker_buy_base_asset_volume',\n",
    "         'taker_buy_quote_asset_volume']"
   ],
   "metadata": {
    "collapsed": false,
    "pycharm": {
     "name": "#%%\n"
    }
   }
  },
  {
   "cell_type": "code",
   "execution_count": 83,
   "outputs": [],
   "source": [
    "object_cols = df[train_features].select_dtypes(include=object).columns\n",
    "df[object_cols] = df[object_cols].astype(float)"
   ],
   "metadata": {
    "collapsed": false,
    "pycharm": {
     "name": "#%%\n"
    }
   }
  },
  {
   "cell_type": "code",
   "execution_count": 97,
   "outputs": [],
   "source": [
    "# test with low corr\n",
    "df['hilbert_transform'] = ta.HT_DCPERIOD(df['close'])\n",
    "df['HT_DCPHASE'] = ta.HT_DCPHASE(df['close'])\n",
    "inphase, quadrature = ta.HT_PHASOR(df['close'])\n",
    "df['inphase'] = inphase\n",
    "df['quadrature'] = quadrature\n",
    "sine, leadsine = ta.HT_SINE(df['close'])\n",
    "df['sine'] = sine\n",
    "df['leadsine'] = quadrature\n",
    "df['trend_mode'] = ta.HT_TRENDMODE(df['close'])\n",
    "df['trend_line'] = ta.HT_TRENDLINE(df['close'])"
   ],
   "metadata": {
    "collapsed": false,
    "pycharm": {
     "name": "#%%\n"
    }
   }
  },
  {
   "cell_type": "code",
   "execution_count": 98,
   "outputs": [],
   "source": [
    "train_features += ['hilbert_transform', 'HT_DCPHASE', 'inphase',\n",
    "                   'quadrature', 'sine', 'leadsine', 'trend_mode', 'trend_line']"
   ],
   "metadata": {
    "collapsed": false,
    "pycharm": {
     "name": "#%%\n"
    }
   }
  },
  {
   "cell_type": "code",
   "execution_count": 102,
   "outputs": [],
   "source": [
    "def normalize_float_columns(df, features):\n",
    "  float_cols = df[features].select_dtypes(include = [float]).columns\n",
    "  grouped_df = df.groupby(['token'])\n",
    "  for col in float_cols:\n",
    "      df[col] = grouped_df[col].transform(lambda x: (x - x.mean()) / (x.std()))\n",
    "  return df"
   ],
   "metadata": {
    "collapsed": false,
    "pycharm": {
     "name": "#%%\n"
    }
   }
  },
  {
   "cell_type": "code",
   "execution_count": 103,
   "outputs": [],
   "source": [],
   "metadata": {
    "collapsed": false,
    "pycharm": {
     "name": "#%%\n"
    }
   }
  },
  {
   "cell_type": "code",
   "execution_count": 87,
   "outputs": [],
   "source": [
    "lags = [5, 15, 30, 60, 240, 480]\n",
    "grouped_df = df.groupby(['token'])\n",
    "for col in df_oi:\n",
    "    for lag in lags:\n",
    "        col_name = f'{col}_change_{lag}'\n",
    "        train_features.append(col_name)\n",
    "        df[f'{col}_change_{lag}'] = grouped_df[col].transform(lambda x: x.pct_change(lag))"
   ],
   "metadata": {
    "collapsed": false,
    "pycharm": {
     "name": "#%%\n"
    }
   }
  },
  {
   "cell_type": "code",
   "execution_count": 106,
   "outputs": [],
   "source": [
    "df_train = normalize_float_columns(df, train_features)\n",
    "df_train[train_features] = df_train[train_features].replace([np.inf, -np.inf], np.nan).fillna(0.0)"
   ],
   "metadata": {
    "collapsed": false,
    "pycharm": {
     "name": "#%%\n"
    }
   }
  },
  {
   "cell_type": "code",
   "execution_count": 107,
   "outputs": [
    {
     "data": {
      "text/plain": "token                                \nBTCUSDT  volume                          0.008885\n         quote_asset_volume              0.010604\n         number_of_trades                0.011652\n         taker_buy_base_asset_volume     0.006385\n         taker_buy_quote_asset_volume    0.007630\n                                           ...   \nETHUSDT  sine                            0.000695\n         leadsine                        0.000091\n         trend_mode                     -0.000181\n         trend_line                     -0.006606\n         target_15m                      1.000000\nName: target_15m, Length: 398, dtype: float64"
     },
     "execution_count": 107,
     "metadata": {},
     "output_type": "execute_result"
    }
   ],
   "source": [
    "df_corr = df.groupby(['token'])[train_features + ['target_15m']].corr()\n",
    "sample = df_corr['target_15m']\n",
    "sample"
   ],
   "metadata": {
    "collapsed": false,
    "pycharm": {
     "name": "#%%\n"
    }
   }
  },
  {
   "cell_type": "code",
   "execution_count": null,
   "outputs": [],
   "source": [],
   "metadata": {
    "collapsed": false,
    "pycharm": {
     "name": "#%%\n"
    }
   }
  }
 ],
 "metadata": {
  "kernelspec": {
   "display_name": "Python 3",
   "language": "python",
   "name": "python3"
  },
  "language_info": {
   "codemirror_mode": {
    "name": "ipython",
    "version": 2
   },
   "file_extension": ".py",
   "mimetype": "text/x-python",
   "name": "python",
   "nbconvert_exporter": "python",
   "pygments_lexer": "ipython2",
   "version": "2.7.6"
  }
 },
 "nbformat": 4,
 "nbformat_minor": 0
}