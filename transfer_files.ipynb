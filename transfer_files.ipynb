{
 "cells": [
  {
   "cell_type": "code",
   "execution_count": 1,
   "metadata": {
    "collapsed": true
   },
   "outputs": [],
   "source": [
    "from paramiko import SSHClient\n",
    "import paramiko\n",
    "import os\n",
    "from pathlib import Path"
   ]
  },
  {
   "cell_type": "code",
   "execution_count": 2,
   "outputs": [],
   "source": [
    "ssh = SSHClient()"
   ],
   "metadata": {
    "collapsed": false,
    "pycharm": {
     "name": "#%%\n"
    }
   }
  },
  {
   "cell_type": "code",
   "execution_count": 3,
   "outputs": [],
   "source": [
    "ssh.load_host_keys(os.path.expanduser(os.path.join(\"~\", \".ssh\", \"known_hosts\")))"
   ],
   "metadata": {
    "collapsed": false,
    "pycharm": {
     "name": "#%%\n"
    }
   }
  },
  {
   "cell_type": "code",
   "execution_count": 4,
   "outputs": [],
   "source": [
    "parent = os.path.expanduser(\"~\")"
   ],
   "metadata": {
    "collapsed": false,
    "pycharm": {
     "name": "#%%\n"
    }
   }
  },
  {
   "cell_type": "code",
   "execution_count": 69,
   "outputs": [
    {
     "data": {
      "text/plain": "'/Users/johnz/Library/CloudStorage/GoogleDrive-john23@berkeley.edu/My Drive/CryptoFutures/time-series-prediction-subnet/neurons'"
     },
     "execution_count": 69,
     "metadata": {},
     "output_type": "execute_result"
    }
   ],
   "source": [
    "base_local"
   ],
   "metadata": {
    "collapsed": false,
    "pycharm": {
     "name": "#%%\n"
    }
   }
  },
  {
   "cell_type": "code",
   "execution_count": 5,
   "outputs": [
    {
     "name": "stdout",
     "output_type": "stream",
     "text": [
      "putting file in /Users/johnz/Library/CloudStorage/GoogleDrive-john23@berkeley.edu/My Drive/CryptoFutures/time-series-prediction-subnet/neurons/miner.py to /home/putsncalls23/CryptoFutures/time-series-prediction-subnet/neurons//miner.py\n",
      "putting file in /Users/johnz/Library/CloudStorage/GoogleDrive-john23@berkeley.edu/My Drive/CryptoFutures/time-series-prediction-subnet/neurons/miner_nbeats.py to /home/putsncalls23/CryptoFutures/time-series-prediction-subnet/neurons//miner_nbeats.py\n",
      "putting file in /Users/johnz/Library/CloudStorage/GoogleDrive-john23@berkeley.edu/My Drive/CryptoFutures/time-series-prediction-subnet/neurons/miner.py to /home/putsncalls23/CryptoFutures/time-series-prediction-subnet/neurons//miner.py\n",
      "putting file in /Users/johnz/Library/CloudStorage/GoogleDrive-john23@berkeley.edu/My Drive/CryptoFutures/time-series-prediction-subnet/neurons/miner_nbeats.py to /home/putsncalls23/CryptoFutures/time-series-prediction-subnet/neurons//miner_nbeats.py\n",
      "putting file in /Users/johnz/Library/CloudStorage/GoogleDrive-john23@berkeley.edu/My Drive/CryptoFutures/time-series-prediction-subnet/neurons/miner.py to /home/putsncalls23/CryptoFutures/time-series-prediction-subnet/neurons//miner.py\n",
      "putting file in /Users/johnz/Library/CloudStorage/GoogleDrive-john23@berkeley.edu/My Drive/CryptoFutures/time-series-prediction-subnet/neurons/miner_nbeats.py to /home/putsncalls23/CryptoFutures/time-series-prediction-subnet/neurons//miner_nbeats.py\n",
      "putting file in /Users/johnz/Library/CloudStorage/GoogleDrive-john23@berkeley.edu/My Drive/CryptoFutures/time-series-prediction-subnet/neurons/miner.py to /home/putsncalls23/CryptoFutures/time-series-prediction-subnet/neurons//miner.py\n",
      "putting file in /Users/johnz/Library/CloudStorage/GoogleDrive-john23@berkeley.edu/My Drive/CryptoFutures/time-series-prediction-subnet/neurons/miner_nbeats.py to /home/putsncalls23/CryptoFutures/time-series-prediction-subnet/neurons//miner_nbeats.py\n",
      "putting file in /Users/johnz/Library/CloudStorage/GoogleDrive-john23@berkeley.edu/My Drive/CryptoFutures/time-series-prediction-subnet/neurons/miner.py to /home/putsncalls23/CryptoFutures/time-series-prediction-subnet/neurons//miner.py\n",
      "putting file in /Users/johnz/Library/CloudStorage/GoogleDrive-john23@berkeley.edu/My Drive/CryptoFutures/time-series-prediction-subnet/neurons/miner_nbeats.py to /home/putsncalls23/CryptoFutures/time-series-prediction-subnet/neurons//miner_nbeats.py\n"
     ]
    }
   ],
   "source": [
    "# put specific files\n",
    "gcloud = ['34.130.40.179', '34.130.56.162', '34.130.158.194',\n",
    "          '34.130.173.115', '34.173.190.78']\n",
    "\n",
    "pk_file = '/Users/johnz/.ssh/google_cloud_compute_putsncalls23'\n",
    "base_remote = '/home/putsncalls23/CryptoFutures/time-series-prediction-subnet/neurons/'\n",
    "base_local = str(Path.cwd() / 'time-series-prediction-subnet' / 'neurons')\n",
    "\n",
    "files_put = ['miner.py', 'miner_nbeats.py']\n",
    "pkey = paramiko.RSAKey.from_private_key_file(pk_file, password = '19930525')\n",
    "\n",
    "for host in gcloud:\n",
    "    ssh.connect(host, username = 'putsncalls23', pkey = pkey)\n",
    "\n",
    "    sftp = ssh.open_sftp()\n",
    "    for file in files_put:\n",
    "        local_file = base_local + '/' + file\n",
    "        remote_file = base_remote + '/' + file\n",
    "        print(f'putting file in {local_file} to {remote_file}')\n",
    "        sftp.put(base_local + '/' + file, base_remote + '/' + file)\n",
    "\n",
    "    sftp.close()\n",
    "    ssh.close()"
   ],
   "metadata": {
    "collapsed": false,
    "pycharm": {
     "name": "#%%\n"
    }
   }
  },
  {
   "cell_type": "code",
   "execution_count": 41,
   "outputs": [
    {
     "ename": "IsADirectoryError",
     "evalue": "[Errno 21] Is a directory: './code/'",
     "output_type": "error",
     "traceback": [
      "\u001B[0;31m---------------------------------------------------------------------------\u001B[0m",
      "\u001B[0;31mIsADirectoryError\u001B[0m                         Traceback (most recent call last)",
      "Cell \u001B[0;32mIn[41], line 11\u001B[0m\n\u001B[1;32m      8\u001B[0m local_path \u001B[38;5;241m=\u001B[39m \u001B[38;5;124m'\u001B[39m\u001B[38;5;124m./code/\u001B[39m\u001B[38;5;124m'\u001B[39m\n\u001B[1;32m      9\u001B[0m remote_path \u001B[38;5;241m=\u001B[39m \u001B[38;5;124m'\u001B[39m\u001B[38;5;124m/root/CryptoFutures/code/\u001B[39m\u001B[38;5;124m'\u001B[39m\n\u001B[0;32m---> 11\u001B[0m \u001B[43msftp\u001B[49m\u001B[38;5;241;43m.\u001B[39;49m\u001B[43mput\u001B[49m\u001B[43m(\u001B[49m\u001B[43mlocal_path\u001B[49m\u001B[43m,\u001B[49m\u001B[43m \u001B[49m\u001B[43mremote_path\u001B[49m\u001B[43m)\u001B[49m\n\u001B[1;32m     12\u001B[0m sftp\u001B[38;5;241m.\u001B[39mclose()\n\u001B[1;32m     13\u001B[0m ssh\u001B[38;5;241m.\u001B[39mclose()\n",
      "File \u001B[0;32m~/anaconda3/envs/python310/lib/python3.10/site-packages/paramiko/sftp_client.py:758\u001B[0m, in \u001B[0;36mSFTPClient.put\u001B[0;34m(self, localpath, remotepath, callback, confirm)\u001B[0m\n\u001B[1;32m    730\u001B[0m \u001B[38;5;250m\u001B[39m\u001B[38;5;124;03m\"\"\"\u001B[39;00m\n\u001B[1;32m    731\u001B[0m \u001B[38;5;124;03mCopy a local file (``localpath``) to the SFTP server as ``remotepath``.\u001B[39;00m\n\u001B[1;32m    732\u001B[0m \u001B[38;5;124;03mAny exception raised by operations will be passed through.  This\u001B[39;00m\n\u001B[0;32m   (...)\u001B[0m\n\u001B[1;32m    755\u001B[0m \u001B[38;5;124;03m    ``confirm`` param added.\u001B[39;00m\n\u001B[1;32m    756\u001B[0m \u001B[38;5;124;03m\"\"\"\u001B[39;00m\n\u001B[1;32m    757\u001B[0m file_size \u001B[38;5;241m=\u001B[39m os\u001B[38;5;241m.\u001B[39mstat(localpath)\u001B[38;5;241m.\u001B[39mst_size\n\u001B[0;32m--> 758\u001B[0m \u001B[38;5;28;01mwith\u001B[39;00m \u001B[38;5;28;43mopen\u001B[39;49m\u001B[43m(\u001B[49m\u001B[43mlocalpath\u001B[49m\u001B[43m,\u001B[49m\u001B[43m \u001B[49m\u001B[38;5;124;43m\"\u001B[39;49m\u001B[38;5;124;43mrb\u001B[39;49m\u001B[38;5;124;43m\"\u001B[39;49m\u001B[43m)\u001B[49m \u001B[38;5;28;01mas\u001B[39;00m fl:\n\u001B[1;32m    759\u001B[0m     \u001B[38;5;28;01mreturn\u001B[39;00m \u001B[38;5;28mself\u001B[39m\u001B[38;5;241m.\u001B[39mputfo(fl, remotepath, file_size, callback, confirm)\n",
      "\u001B[0;31mIsADirectoryError\u001B[0m: [Errno 21] Is a directory: './code/'"
     ]
    }
   ],
   "source": [
    "hetzner = ['128.140.109.122']\n",
    "\n",
    "for host in hetzner:\n",
    "    ssh.connect(host, username = 'root', password = '@Jz19930525')\n",
    "\n",
    "    sftp = ssh.open_sftp()\n",
    "\n",
    "    local_path = './code/'\n",
    "    remote_path = '/root/CryptoFutures/code/'\n",
    "\n",
    "    sftp.put(local_path, remote_path)\n",
    "    sftp.close()\n",
    "    ssh.close()"
   ],
   "metadata": {
    "collapsed": false,
    "pycharm": {
     "name": "#%%\n"
    }
   }
  },
  {
   "cell_type": "code",
   "execution_count": 37,
   "outputs": [],
   "source": [],
   "metadata": {
    "collapsed": false,
    "pycharm": {
     "name": "#%%\n"
    }
   }
  },
  {
   "cell_type": "code",
   "execution_count": null,
   "outputs": [],
   "source": [],
   "metadata": {
    "collapsed": false,
    "pycharm": {
     "name": "#%%\n"
    }
   }
  }
 ],
 "metadata": {
  "kernelspec": {
   "display_name": "Python 3",
   "language": "python",
   "name": "python3"
  },
  "language_info": {
   "codemirror_mode": {
    "name": "ipython",
    "version": 2
   },
   "file_extension": ".py",
   "mimetype": "text/x-python",
   "name": "python",
   "nbconvert_exporter": "python",
   "pygments_lexer": "ipython2",
   "version": "2.7.6"
  }
 },
 "nbformat": 4,
 "nbformat_minor": 0
}